{
 "cells": [
  {
   "cell_type": "markdown",
   "id": "a27e22da",
   "metadata": {},
   "source": [
    "# Central Idea behind the Final Project"
   ]
  },
  {
   "cell_type": "markdown",
   "id": "7cd64d0f",
   "metadata": {},
   "source": [
    "The idea of our project is broadly exploring the prevalence of cycling in Helsinki and attempting to explain what about Helsinki causes it to be such a good city for biking, with it being 10th on the most recent Copenhagenize Index. \n",
    "\n",
    "We will be using cycling datasets from the Helsinki Region Infoshare, as well as some green spaces datasets from the same database.\n",
    "\n",
    "We believe this is interesting because looking into this can help inform people on which factors influence people to chose to cycle over driving. This can be useful in both city planning and cycling advocacy, so we can be sure we're focusing on issues which will can be backed up by data."
   ]
  },
  {
   "cell_type": "markdown",
   "id": "8da58a73",
   "metadata": {},
   "source": [
    "# Genre of the Data"
   ]
  },
  {
   "cell_type": "markdown",
   "id": "fbe0293d",
   "metadata": {},
   "source": [
    "# Walk-Through of Preliminary Data Analysis"
   ]
  }
 ],
 "metadata": {
  "language_info": {
   "name": "python"
  }
 },
 "nbformat": 4,
 "nbformat_minor": 5
}
