{
 "cells": [
  {
   "cell_type": "code",
   "execution_count": 13,
   "id": "e25681db-f495-45a2-83f2-f7c8c64638f3",
   "metadata": {},
   "outputs": [
    {
     "name": "stdout",
     "output_type": "stream",
     "text": [
      "All imported!\n"
     ]
    }
   ],
   "source": [
    "import pandas as pd\n",
    "import numpy as np\n",
    "import matplotlib.pyplot as plt\n",
    "import matplotlib as mpl\n",
    "\n",
    "\n",
    "import matplotlib.cm as cm\n",
    "import matplotlib.colors as mcolors\n",
    "\n",
    "import seaborn as sns\n",
    "import folium \n",
    "import json\n",
    "import math\n",
    "from math import radians, cos, sin, asin, sqrt\n",
    "import itertools\n",
    "import statistics as stats\n",
    "from statistics import mean\n",
    "\n",
    "import bokeh\n",
    "\n",
    "print('All imported!')"
   ]
  },
  {
   "cell_type": "code",
   "execution_count": 14,
   "id": "94d8519c-116d-4f5f-93e7-9894866fde8d",
   "metadata": {},
   "outputs": [
    {
     "data": {
      "text/html": [
       "    <style>\n",
       "        .bk-notebook-logo {\n",
       "            display: block;\n",
       "            width: 20px;\n",
       "            height: 20px;\n",
       "            background-image: url(data:image/png;base64,iVBORw0KGgoAAAANSUhEUgAAABQAAAAUCAYAAACNiR0NAAAABHNCSVQICAgIfAhkiAAAAAlwSFlzAAALEgAACxIB0t1+/AAAABx0RVh0U29mdHdhcmUAQWRvYmUgRmlyZXdvcmtzIENTNui8sowAAAOkSURBVDiNjZRtaJVlGMd/1/08zzln5zjP1LWcU9N0NkN8m2CYjpgQYQXqSs0I84OLIC0hkEKoPtiH3gmKoiJDU7QpLgoLjLIQCpEsNJ1vqUOdO7ppbuec5+V+rj4ctwzd8IIbbi6u+8f1539dt3A78eXC7QizUF7gyV1fD1Yqg4JWz84yffhm0qkFqBogB9rM8tZdtwVsPUhWhGcFJngGeWrPzHm5oaMmkfEg1usvLFyc8jLRqDOMru7AyC8saQr7GG7f5fvDeH7Ej8CM66nIF+8yngt6HWaKh7k49Soy9nXurCi1o3qUbS3zWfrYeQDTB/Qj6kX6Ybhw4B+bOYoLKCC9H3Nu/leUTZ1JdRWkkn2ldcCamzrcf47KKXdAJllSlxAOkRgyHsGC/zRday5Qld9DyoM4/q/rUoy/CXh3jzOu3bHUVZeU+DEn8FInkPBFlu3+nW3Nw0mk6vCDiWg8CeJaxEwuHS3+z5RgY+YBR6V1Z1nxSOfoaPa4LASWxxdNp+VWTk7+4vzaou8v8PN+xo+KY2xsw6une2frhw05CTYOmQvsEhjhWjn0bmXPjpE1+kplmmkP3suftwTubK9Vq22qKmrBhpY4jvd5afdRA3wGjFAgcnTK2s4hY0/GPNIb0nErGMCRxWOOX64Z8RAC4oCXdklmEvcL8o0BfkNK4lUg9HTl+oPlQxdNo3Mg4Nv175e/1LDGzZen30MEjRUtmXSfiTVu1kK8W4txyV6BMKlbgk3lMwYCiusNy9fVfvvwMxv8Ynl6vxoByANLTWplvuj/nF9m2+PDtt1eiHPBr1oIfhCChQMBw6Aw0UulqTKZdfVvfG7VcfIqLG9bcldL/+pdWTLxLUy8Qq38heUIjh4XlzZxzQm19lLFlr8vdQ97rjZVOLf8nclzckbcD4wxXMidpX30sFd37Fv/GtwwhzhxGVAprjbg0gCAEeIgwCZyTV2Z1REEW8O4py0wsjeloKoMr6iCY6dP92H6Vw/oTyICIthibxjm/DfN9lVz8IqtqKYLUXfoKVMVQVVJOElGjrnnUt9T9wbgp8AyYKaGlqingHZU/uG2NTZSVqwHQTWkx9hxjkpWDaCg6Ckj5qebgBVbT3V3NNXMSiWSDdGV3hrtzla7J+duwPOToIg42ChPQOQjspnSlp1V+Gjdged7+8UN5CRAV7a5EdFNwCjEaBR27b3W890TE7g24NAP/mMDXRWrGoFPQI9ls/MWO2dWFAar/xcOIImbbpA3zgAAAABJRU5ErkJggg==);\n",
       "        }\n",
       "    </style>\n",
       "    <div>\n",
       "        <a href=\"https://bokeh.org\" target=\"_blank\" class=\"bk-notebook-logo\"></a>\n",
       "        <span id=\"b33fabec-ca18-4020-8256-6d57e10ae839\">Loading BokehJS ...</span>\n",
       "    </div>\n"
      ]
     },
     "metadata": {},
     "output_type": "display_data"
    },
    {
     "data": {
      "application/javascript": "'use strict';\n(function(root) {\n  function now() {\n    return new Date();\n  }\n\n  const force = true;\n\n  if (typeof root._bokeh_onload_callbacks === \"undefined\" || force === true) {\n    root._bokeh_onload_callbacks = [];\n    root._bokeh_is_loading = undefined;\n  }\n\nconst JS_MIME_TYPE = 'application/javascript';\n  const HTML_MIME_TYPE = 'text/html';\n  const EXEC_MIME_TYPE = 'application/vnd.bokehjs_exec.v0+json';\n  const CLASS_NAME = 'output_bokeh rendered_html';\n\n  /**\n   * Render data to the DOM node\n   */\n  function render(props, node) {\n    const script = document.createElement(\"script\");\n    node.appendChild(script);\n  }\n\n  /**\n   * Handle when an output is cleared or removed\n   */\n  function handleClearOutput(event, handle) {\n    function drop(id) {\n      const view = Bokeh.index.get_by_id(id)\n      if (view != null) {\n        view.model.document.clear()\n        Bokeh.index.delete(view)\n      }\n    }\n\n    const cell = handle.cell;\n\n    const id = cell.output_area._bokeh_element_id;\n    const server_id = cell.output_area._bokeh_server_id;\n\n    // Clean up Bokeh references\n    if (id != null) {\n      drop(id)\n    }\n\n    if (server_id !== undefined) {\n      // Clean up Bokeh references\n      const cmd_clean = \"from bokeh.io.state import curstate; print(curstate().uuid_to_server['\" + server_id + \"'].get_sessions()[0].document.roots[0]._id)\";\n      cell.notebook.kernel.execute(cmd_clean, {\n        iopub: {\n          output: function(msg) {\n            const id = msg.content.text.trim()\n            drop(id)\n          }\n        }\n      });\n      // Destroy server and session\n      const cmd_destroy = \"import bokeh.io.notebook as ion; ion.destroy_server('\" + server_id + \"')\";\n      cell.notebook.kernel.execute(cmd_destroy);\n    }\n  }\n\n  /**\n   * Handle when a new output is added\n   */\n  function handleAddOutput(event, handle) {\n    const output_area = handle.output_area;\n    const output = handle.output;\n\n    // limit handleAddOutput to display_data with EXEC_MIME_TYPE content only\n    if ((output.output_type != \"display_data\") || (!Object.prototype.hasOwnProperty.call(output.data, EXEC_MIME_TYPE))) {\n      return\n    }\n\n    const toinsert = output_area.element.find(\".\" + CLASS_NAME.split(' ')[0]);\n\n    if (output.metadata[EXEC_MIME_TYPE][\"id\"] !== undefined) {\n      toinsert[toinsert.length - 1].firstChild.textContent = output.data[JS_MIME_TYPE];\n      // store reference to embed id on output_area\n      output_area._bokeh_element_id = output.metadata[EXEC_MIME_TYPE][\"id\"];\n    }\n    if (output.metadata[EXEC_MIME_TYPE][\"server_id\"] !== undefined) {\n      const bk_div = document.createElement(\"div\");\n      bk_div.innerHTML = output.data[HTML_MIME_TYPE];\n      const script_attrs = bk_div.children[0].attributes;\n      for (let i = 0; i < script_attrs.length; i++) {\n        toinsert[toinsert.length - 1].firstChild.setAttribute(script_attrs[i].name, script_attrs[i].value);\n        toinsert[toinsert.length - 1].firstChild.textContent = bk_div.children[0].textContent\n      }\n      // store reference to server id on output_area\n      output_area._bokeh_server_id = output.metadata[EXEC_MIME_TYPE][\"server_id\"];\n    }\n  }\n\n  function register_renderer(events, OutputArea) {\n\n    function append_mime(data, metadata, element) {\n      // create a DOM node to render to\n      const toinsert = this.create_output_subarea(\n        metadata,\n        CLASS_NAME,\n        EXEC_MIME_TYPE\n      );\n      this.keyboard_manager.register_events(toinsert);\n      // Render to node\n      const props = {data: data, metadata: metadata[EXEC_MIME_TYPE]};\n      render(props, toinsert[toinsert.length - 1]);\n      element.append(toinsert);\n      return toinsert\n    }\n\n    /* Handle when an output is cleared or removed */\n    events.on('clear_output.CodeCell', handleClearOutput);\n    events.on('delete.Cell', handleClearOutput);\n\n    /* Handle when a new output is added */\n    events.on('output_added.OutputArea', handleAddOutput);\n\n    /**\n     * Register the mime type and append_mime function with output_area\n     */\n    OutputArea.prototype.register_mime_type(EXEC_MIME_TYPE, append_mime, {\n      /* Is output safe? */\n      safe: true,\n      /* Index of renderer in `output_area.display_order` */\n      index: 0\n    });\n  }\n\n  // register the mime type if in Jupyter Notebook environment and previously unregistered\n  if (root.Jupyter !== undefined) {\n    const events = require('base/js/events');\n    const OutputArea = require('notebook/js/outputarea').OutputArea;\n\n    if (OutputArea.prototype.mime_types().indexOf(EXEC_MIME_TYPE) == -1) {\n      register_renderer(events, OutputArea);\n    }\n  }\n  if (typeof (root._bokeh_timeout) === \"undefined\" || force === true) {\n    root._bokeh_timeout = Date.now() + 5000;\n    root._bokeh_failed_load = false;\n  }\n\n  const NB_LOAD_WARNING = {'data': {'text/html':\n     \"<div style='background-color: #fdd'>\\n\"+\n     \"<p>\\n\"+\n     \"BokehJS does not appear to have successfully loaded. If loading BokehJS from CDN, this \\n\"+\n     \"may be due to a slow or bad network connection. Possible fixes:\\n\"+\n     \"</p>\\n\"+\n     \"<ul>\\n\"+\n     \"<li>re-rerun `output_notebook()` to attempt to load from CDN again, or</li>\\n\"+\n     \"<li>use INLINE resources instead, as so:</li>\\n\"+\n     \"</ul>\\n\"+\n     \"<code>\\n\"+\n     \"from bokeh.resources import INLINE\\n\"+\n     \"output_notebook(resources=INLINE)\\n\"+\n     \"</code>\\n\"+\n     \"</div>\"}};\n\n  function display_loaded(error = null) {\n    const el = document.getElementById(\"b33fabec-ca18-4020-8256-6d57e10ae839\");\n    if (el != null) {\n      const html = (() => {\n        if (typeof root.Bokeh === \"undefined\") {\n          if (error == null) {\n            return \"BokehJS is loading ...\";\n          } else {\n            return \"BokehJS failed to load.\";\n          }\n        } else {\n          const prefix = `BokehJS ${root.Bokeh.version}`;\n          if (error == null) {\n            return `${prefix} successfully loaded.`;\n          } else {\n            return `${prefix} <b>encountered errors</b> while loading and may not function as expected.`;\n          }\n        }\n      })();\n      el.innerHTML = html;\n\n      if (error != null) {\n        const wrapper = document.createElement(\"div\");\n        wrapper.style.overflow = \"auto\";\n        wrapper.style.height = \"5em\";\n        wrapper.style.resize = \"vertical\";\n        const content = document.createElement(\"div\");\n        content.style.fontFamily = \"monospace\";\n        content.style.whiteSpace = \"pre-wrap\";\n        content.style.backgroundColor = \"rgb(255, 221, 221)\";\n        content.textContent = error.stack ?? error.toString();\n        wrapper.append(content);\n        el.append(wrapper);\n      }\n    } else if (Date.now() < root._bokeh_timeout) {\n      setTimeout(() => display_loaded(error), 100);\n    }\n  }\n\n  function run_callbacks() {\n    try {\n      root._bokeh_onload_callbacks.forEach(function(callback) {\n        if (callback != null)\n          callback();\n      });\n    } finally {\n      delete root._bokeh_onload_callbacks\n    }\n    console.debug(\"Bokeh: all callbacks have finished\");\n  }\n\n  function load_libs(css_urls, js_urls, callback) {\n    if (css_urls == null) css_urls = [];\n    if (js_urls == null) js_urls = [];\n\n    root._bokeh_onload_callbacks.push(callback);\n    if (root._bokeh_is_loading > 0) {\n      console.debug(\"Bokeh: BokehJS is being loaded, scheduling callback at\", now());\n      return null;\n    }\n    if (js_urls == null || js_urls.length === 0) {\n      run_callbacks();\n      return null;\n    }\n    console.debug(\"Bokeh: BokehJS not loaded, scheduling load and callback at\", now());\n    root._bokeh_is_loading = css_urls.length + js_urls.length;\n\n    function on_load() {\n      root._bokeh_is_loading--;\n      if (root._bokeh_is_loading === 0) {\n        console.debug(\"Bokeh: all BokehJS libraries/stylesheets loaded\");\n        run_callbacks()\n      }\n    }\n\n    function on_error(url) {\n      console.error(\"failed to load \" + url);\n    }\n\n    for (let i = 0; i < css_urls.length; i++) {\n      const url = css_urls[i];\n      const element = document.createElement(\"link\");\n      element.onload = on_load;\n      element.onerror = on_error.bind(null, url);\n      element.rel = \"stylesheet\";\n      element.type = \"text/css\";\n      element.href = url;\n      console.debug(\"Bokeh: injecting link tag for BokehJS stylesheet: \", url);\n      document.body.appendChild(element);\n    }\n\n    for (let i = 0; i < js_urls.length; i++) {\n      const url = js_urls[i];\n      const element = document.createElement('script');\n      element.onload = on_load;\n      element.onerror = on_error.bind(null, url);\n      element.async = false;\n      element.src = url;\n      console.debug(\"Bokeh: injecting script tag for BokehJS library: \", url);\n      document.head.appendChild(element);\n    }\n  };\n\n  function inject_raw_css(css) {\n    const element = document.createElement(\"style\");\n    element.appendChild(document.createTextNode(css));\n    document.body.appendChild(element);\n  }\n\n  const js_urls = [\"https://cdn.bokeh.org/bokeh/release/bokeh-3.7.2.min.js\", \"https://cdn.bokeh.org/bokeh/release/bokeh-gl-3.7.2.min.js\", \"https://cdn.bokeh.org/bokeh/release/bokeh-widgets-3.7.2.min.js\", \"https://cdn.bokeh.org/bokeh/release/bokeh-tables-3.7.2.min.js\", \"https://cdn.bokeh.org/bokeh/release/bokeh-mathjax-3.7.2.min.js\"];\n  const css_urls = [];\n\n  const inline_js = [    function(Bokeh) {\n      Bokeh.set_log_level(\"info\");\n    },\nfunction(Bokeh) {\n    }\n  ];\n\n  function run_inline_js() {\n    if (root.Bokeh !== undefined || force === true) {\n      try {\n            for (let i = 0; i < inline_js.length; i++) {\n      inline_js[i].call(root, root.Bokeh);\n    }\n\n      } catch (error) {display_loaded(error);throw error;\n      }if (force === true) {\n        display_loaded();\n      }} else if (Date.now() < root._bokeh_timeout) {\n      setTimeout(run_inline_js, 100);\n    } else if (!root._bokeh_failed_load) {\n      console.log(\"Bokeh: BokehJS failed to load within specified timeout.\");\n      root._bokeh_failed_load = true;\n    } else if (force !== true) {\n      const cell = $(document.getElementById(\"b33fabec-ca18-4020-8256-6d57e10ae839\")).parents('.cell').data().cell;\n      cell.output_area.append_execute_result(NB_LOAD_WARNING)\n    }\n  }\n\n  if (root._bokeh_is_loading === 0) {\n    console.debug(\"Bokeh: BokehJS loaded, going straight to plotting\");\n    run_inline_js();\n  } else {\n    load_libs(css_urls, js_urls, function() {\n      console.debug(\"Bokeh: BokehJS plotting callback run at\", now());\n      run_inline_js();\n    });\n  }\n}(window));",
      "application/vnd.bokehjs_load.v0+json": ""
     },
     "metadata": {},
     "output_type": "display_data"
    }
   ],
   "source": [
    "from bokeh.io import push_notebook, show, output_notebook\n",
    "from bokeh.layouts import row, column\n",
    "from ipywidgets import interact\n",
    "from bokeh.models import ColumnDataSource, FactorRange, Select, CustomJS\n",
    "from bokeh.plotting import output_file, save, figure, show\n",
    "\n",
    "\n",
    "output_notebook()"
   ]
  },
  {
   "cell_type": "code",
   "execution_count": 15,
   "id": "408b1e45-87e6-44dc-94c3-6acae24291f1",
   "metadata": {},
   "outputs": [
    {
     "name": "stdout",
     "output_type": "stream",
     "text": [
      "Data read!\n"
     ]
    }
   ],
   "source": [
    "merged_data = pd.read_csv('merged_data.csv')\n",
    "mdata = merged_data[merged_data.Year != 2025]\n",
    "print('Data read!')"
   ]
  },
  {
   "cell_type": "code",
   "execution_count": 16,
   "id": "f033823d-4e69-40ee-93a6-2e7e3a398a54",
   "metadata": {},
   "outputs": [
    {
     "name": "stderr",
     "output_type": "stream",
     "text": [
      "/var/folders/8c/7zdp5y6j3fbbjxh65ghw770w0000gn/T/ipykernel_22031/965317985.py:1: FutureWarning: Downcasting behavior in `replace` is deprecated and will be removed in a future version. To retain the old behavior, explicitly call `result.infer_objects(copy=False)`. To opt-in to the future behavior, set `pd.set_option('future.no_silent_downcasting', True)`\n",
      "  mdata.loc[:,'Month number'] = mdata['Month'].replace({\n",
      "/var/folders/8c/7zdp5y6j3fbbjxh65ghw770w0000gn/T/ipykernel_22031/965317985.py:1: SettingWithCopyWarning: \n",
      "A value is trying to be set on a copy of a slice from a DataFrame.\n",
      "Try using .loc[row_indexer,col_indexer] = value instead\n",
      "\n",
      "See the caveats in the documentation: https://pandas.pydata.org/pandas-docs/stable/user_guide/indexing.html#returning-a-view-versus-a-copy\n",
      "  mdata.loc[:,'Month number'] = mdata['Month'].replace({\n"
     ]
    },
    {
     "data": {
      "application/vnd.microsoft.datawrangler.viewer.v0+json": {
       "columns": [
        {
         "name": "index",
         "rawType": "int64",
         "type": "integer"
        },
        {
         "name": "Category",
         "rawType": "object",
         "type": "string"
        },
        {
         "name": "PdDistrict",
         "rawType": "object",
         "type": "string"
        },
        {
         "name": "X",
         "rawType": "float64",
         "type": "float"
        },
        {
         "name": "Y",
         "rawType": "float64",
         "type": "float"
        },
        {
         "name": "Date",
         "rawType": "object",
         "type": "string"
        },
        {
         "name": "Time",
         "rawType": "object",
         "type": "string"
        },
        {
         "name": "TimeOfDay",
         "rawType": "int64",
         "type": "integer"
        },
        {
         "name": "DayOfWeek",
         "rawType": "object",
         "type": "string"
        },
        {
         "name": "DayOfMonth",
         "rawType": "int64",
         "type": "integer"
        },
        {
         "name": "Month",
         "rawType": "object",
         "type": "string"
        },
        {
         "name": "Year",
         "rawType": "int64",
         "type": "integer"
        },
        {
         "name": "Month number",
         "rawType": "int64",
         "type": "integer"
        }
       ],
       "conversionMethod": "pd.DataFrame",
       "ref": "630d5cb1-2e9a-415e-96c8-bd83a671df2b",
       "rows": [
        [
         "0",
         "ROBBERY",
         "INGLESIDE",
         "-122.420084075249",
         "37.7083109744362",
         "2004-11-22",
         "17:50",
         "17",
         "Monday",
         "22",
         "November",
         "2004",
         "11"
        ],
        [
         "1",
         "VEHICLE THEFT",
         "PARK",
         "-120.5",
         "90.0",
         "2005-10-18",
         "20:00",
         "20",
         "Tuesday",
         "18",
         "October",
         "2005",
         "10"
        ],
        [
         "2",
         "VEHICLE THEFT",
         "SOUTHERN",
         "-120.5",
         "90.0",
         "2004-02-15",
         "02:00",
         "2",
         "Sunday",
         "15",
         "February",
         "2004",
         "2"
        ],
        [
         "3",
         "ARSON",
         "INGLESIDE",
         "-122.43622001281",
         "37.7243766140428",
         "2011-02-18",
         "05:27",
         "5",
         "Friday",
         "18",
         "February",
         "2011",
         "2"
        ],
        [
         "4",
         "ASSAULT",
         "SOUTHERN",
         "-122.410541166987",
         "37.7709130566165",
         "2010-11-21",
         "17:00",
         "17",
         "Sunday",
         "21",
         "November",
         "2010",
         "11"
        ]
       ],
       "shape": {
        "columns": 12,
        "rows": 5
       }
      },
      "text/html": [
       "<div>\n",
       "<style scoped>\n",
       "    .dataframe tbody tr th:only-of-type {\n",
       "        vertical-align: middle;\n",
       "    }\n",
       "\n",
       "    .dataframe tbody tr th {\n",
       "        vertical-align: top;\n",
       "    }\n",
       "\n",
       "    .dataframe thead th {\n",
       "        text-align: right;\n",
       "    }\n",
       "</style>\n",
       "<table border=\"1\" class=\"dataframe\">\n",
       "  <thead>\n",
       "    <tr style=\"text-align: right;\">\n",
       "      <th></th>\n",
       "      <th>Category</th>\n",
       "      <th>PdDistrict</th>\n",
       "      <th>X</th>\n",
       "      <th>Y</th>\n",
       "      <th>Date</th>\n",
       "      <th>Time</th>\n",
       "      <th>TimeOfDay</th>\n",
       "      <th>DayOfWeek</th>\n",
       "      <th>DayOfMonth</th>\n",
       "      <th>Month</th>\n",
       "      <th>Year</th>\n",
       "      <th>Month number</th>\n",
       "    </tr>\n",
       "  </thead>\n",
       "  <tbody>\n",
       "    <tr>\n",
       "      <th>0</th>\n",
       "      <td>ROBBERY</td>\n",
       "      <td>INGLESIDE</td>\n",
       "      <td>-122.420084</td>\n",
       "      <td>37.708311</td>\n",
       "      <td>2004-11-22</td>\n",
       "      <td>17:50</td>\n",
       "      <td>17</td>\n",
       "      <td>Monday</td>\n",
       "      <td>22</td>\n",
       "      <td>November</td>\n",
       "      <td>2004</td>\n",
       "      <td>11</td>\n",
       "    </tr>\n",
       "    <tr>\n",
       "      <th>1</th>\n",
       "      <td>VEHICLE THEFT</td>\n",
       "      <td>PARK</td>\n",
       "      <td>-120.500000</td>\n",
       "      <td>90.000000</td>\n",
       "      <td>2005-10-18</td>\n",
       "      <td>20:00</td>\n",
       "      <td>20</td>\n",
       "      <td>Tuesday</td>\n",
       "      <td>18</td>\n",
       "      <td>October</td>\n",
       "      <td>2005</td>\n",
       "      <td>10</td>\n",
       "    </tr>\n",
       "    <tr>\n",
       "      <th>2</th>\n",
       "      <td>VEHICLE THEFT</td>\n",
       "      <td>SOUTHERN</td>\n",
       "      <td>-120.500000</td>\n",
       "      <td>90.000000</td>\n",
       "      <td>2004-02-15</td>\n",
       "      <td>02:00</td>\n",
       "      <td>2</td>\n",
       "      <td>Sunday</td>\n",
       "      <td>15</td>\n",
       "      <td>February</td>\n",
       "      <td>2004</td>\n",
       "      <td>2</td>\n",
       "    </tr>\n",
       "    <tr>\n",
       "      <th>3</th>\n",
       "      <td>ARSON</td>\n",
       "      <td>INGLESIDE</td>\n",
       "      <td>-122.436220</td>\n",
       "      <td>37.724377</td>\n",
       "      <td>2011-02-18</td>\n",
       "      <td>05:27</td>\n",
       "      <td>5</td>\n",
       "      <td>Friday</td>\n",
       "      <td>18</td>\n",
       "      <td>February</td>\n",
       "      <td>2011</td>\n",
       "      <td>2</td>\n",
       "    </tr>\n",
       "    <tr>\n",
       "      <th>4</th>\n",
       "      <td>ASSAULT</td>\n",
       "      <td>SOUTHERN</td>\n",
       "      <td>-122.410541</td>\n",
       "      <td>37.770913</td>\n",
       "      <td>2010-11-21</td>\n",
       "      <td>17:00</td>\n",
       "      <td>17</td>\n",
       "      <td>Sunday</td>\n",
       "      <td>21</td>\n",
       "      <td>November</td>\n",
       "      <td>2010</td>\n",
       "      <td>11</td>\n",
       "    </tr>\n",
       "  </tbody>\n",
       "</table>\n",
       "</div>"
      ],
      "text/plain": [
       "        Category PdDistrict           X          Y        Date   Time  \\\n",
       "0        ROBBERY  INGLESIDE -122.420084  37.708311  2004-11-22  17:50   \n",
       "1  VEHICLE THEFT       PARK -120.500000  90.000000  2005-10-18  20:00   \n",
       "2  VEHICLE THEFT   SOUTHERN -120.500000  90.000000  2004-02-15  02:00   \n",
       "3          ARSON  INGLESIDE -122.436220  37.724377  2011-02-18  05:27   \n",
       "4        ASSAULT   SOUTHERN -122.410541  37.770913  2010-11-21  17:00   \n",
       "\n",
       "   TimeOfDay DayOfWeek  DayOfMonth     Month  Year  Month number  \n",
       "0         17    Monday          22  November  2004            11  \n",
       "1         20   Tuesday          18   October  2005            10  \n",
       "2          2    Sunday          15  February  2004             2  \n",
       "3          5    Friday          18  February  2011             2  \n",
       "4         17    Sunday          21  November  2010            11  "
      ]
     },
     "execution_count": 16,
     "metadata": {},
     "output_type": "execute_result"
    }
   ],
   "source": [
    "mdata.loc[:,'Month number'] = mdata['Month'].replace({\n",
    "    'January': 1,\n",
    "    'February': 2,\n",
    "    'March': 3,\n",
    "    'April': 4,\n",
    "    'May': 5,\n",
    "    'June': 6,\n",
    "    'July': 7,\n",
    "    'August': 8,\n",
    "    'September': 9,\n",
    "    'October': 10,\n",
    "    'November': 11,\n",
    "    'December': 12\n",
    "})\n",
    "mdata.head()"
   ]
  },
  {
   "cell_type": "code",
   "execution_count": 17,
   "id": "e0a97d94-b5da-4f3f-943a-c3ac4ee7d73f",
   "metadata": {},
   "outputs": [
    {
     "name": "stdout",
     "output_type": "stream",
     "text": [
      "['ASSAULT', 'BURGLARY', 'DRUG/NARCOTIC', 'LARCENY/THEFT', 'PROSTITUTION', 'ROBBERY', 'STOLEN PROPERTY', 'VANDALISM', 'VEHICLE THEFT', 'WEAPON LAWS']\n"
     ]
    }
   ],
   "source": [
    "focus_crimes = [\n",
    "    'WEAPON LAWS', 'PROSTITUTION', 'ROBBERY', 'BURGLARY', 'ASSAULT', 'DRUG/NARCOTIC', 'LARCENY/THEFT', 'VANDALISM', 'VEHICLE THEFT', 'STOLEN PROPERTY']\n",
    "focus_crimes.sort()\n",
    "print(focus_crimes)"
   ]
  },
  {
   "cell_type": "code",
   "execution_count": 18,
   "id": "559d2fea-61b2-4c18-872f-501faaa99114",
   "metadata": {},
   "outputs": [
    {
     "name": "stdout",
     "output_type": "stream",
     "text": [
      "Pretty :)\n"
     ]
    }
   ],
   "source": [
    "# Set global font\n",
    "plt.rcParams['font.family'] = 'Georgia'  # Use 'sans-serif', 'monospace', 'cursive', etc.\n",
    "plt.rcParams['font.size'] = 10  # Adjust font size\n",
    "plt.rcParams['font.weight'] = 'normal'  # Options: 'light', 'normal', 'bold'\n",
    "print('Pretty :)')"
   ]
  },
  {
   "cell_type": "code",
   "execution_count": 19,
   "id": "dca14756-dac1-4707-9bae-0e4e9fabc53d",
   "metadata": {},
   "outputs": [
    {
     "name": "stdout",
     "output_type": "stream",
     "text": [
      "Data has been filtered to DRUG / NARCOTIC and TENDERLOIN. It is saved as df_drug.\n"
     ]
    },
    {
     "data": {
      "application/vnd.microsoft.datawrangler.viewer.v0+json": {
       "columns": [
        {
         "name": "index",
         "rawType": "int64",
         "type": "integer"
        },
        {
         "name": "Category",
         "rawType": "object",
         "type": "string"
        },
        {
         "name": "PdDistrict",
         "rawType": "object",
         "type": "string"
        },
        {
         "name": "X",
         "rawType": "float64",
         "type": "float"
        },
        {
         "name": "Y",
         "rawType": "float64",
         "type": "float"
        },
        {
         "name": "Date",
         "rawType": "object",
         "type": "string"
        },
        {
         "name": "Time",
         "rawType": "object",
         "type": "string"
        },
        {
         "name": "TimeOfDay",
         "rawType": "int64",
         "type": "integer"
        },
        {
         "name": "DayOfWeek",
         "rawType": "object",
         "type": "string"
        },
        {
         "name": "DayOfMonth",
         "rawType": "int64",
         "type": "integer"
        },
        {
         "name": "Month",
         "rawType": "object",
         "type": "string"
        },
        {
         "name": "Year",
         "rawType": "int64",
         "type": "integer"
        },
        {
         "name": "Month number",
         "rawType": "int64",
         "type": "integer"
        }
       ],
       "conversionMethod": "pd.DataFrame",
       "ref": "656e69dc-1d3a-4a65-b059-de577fce8b2e",
       "rows": [
        [
         "0",
         "DRUG/NARCOTIC",
         "INGLESIDE",
         "-122.441875049315",
         "37.7190816366737",
         "2003-06-12",
         "20:25",
         "20",
         "Thursday",
         "12",
         "June",
         "2003",
         "6"
        ],
        [
         "1",
         "DRUG/NARCOTIC",
         "TENDERLOIN",
         "-122.414433155063",
         "37.7846576329256",
         "2006-01-03",
         "01:15",
         "1",
         "Tuesday",
         "3",
         "January",
         "2006",
         "1"
        ],
        [
         "2",
         "DRUG/NARCOTIC",
         "TENDERLOIN",
         "-122.41288317794",
         "37.7853530358707",
         "2003-12-18",
         "00:01",
         "0",
         "Thursday",
         "18",
         "December",
         "2003",
         "12"
        ],
        [
         "3",
         "DRUG/NARCOTIC",
         "SOUTHERN",
         "-122.413564091744",
         "37.779514030063",
         "2003-05-21",
         "09:20",
         "9",
         "Wednesday",
         "21",
         "May",
         "2003",
         "5"
        ],
        [
         "4",
         "DRUG/NARCOTIC",
         "RICHMOND",
         "-122.442364696255",
         "37.7848750530811",
         "2006-01-27",
         "11:59",
         "11",
         "Friday",
         "27",
         "January",
         "2006",
         "1"
        ]
       ],
       "shape": {
        "columns": 12,
        "rows": 5
       }
      },
      "text/html": [
       "<div>\n",
       "<style scoped>\n",
       "    .dataframe tbody tr th:only-of-type {\n",
       "        vertical-align: middle;\n",
       "    }\n",
       "\n",
       "    .dataframe tbody tr th {\n",
       "        vertical-align: top;\n",
       "    }\n",
       "\n",
       "    .dataframe thead th {\n",
       "        text-align: right;\n",
       "    }\n",
       "</style>\n",
       "<table border=\"1\" class=\"dataframe\">\n",
       "  <thead>\n",
       "    <tr style=\"text-align: right;\">\n",
       "      <th></th>\n",
       "      <th>Category</th>\n",
       "      <th>PdDistrict</th>\n",
       "      <th>X</th>\n",
       "      <th>Y</th>\n",
       "      <th>Date</th>\n",
       "      <th>Time</th>\n",
       "      <th>TimeOfDay</th>\n",
       "      <th>DayOfWeek</th>\n",
       "      <th>DayOfMonth</th>\n",
       "      <th>Month</th>\n",
       "      <th>Year</th>\n",
       "      <th>Month number</th>\n",
       "    </tr>\n",
       "  </thead>\n",
       "  <tbody>\n",
       "    <tr>\n",
       "      <th>0</th>\n",
       "      <td>DRUG/NARCOTIC</td>\n",
       "      <td>INGLESIDE</td>\n",
       "      <td>-122.441875</td>\n",
       "      <td>37.719082</td>\n",
       "      <td>2003-06-12</td>\n",
       "      <td>20:25</td>\n",
       "      <td>20</td>\n",
       "      <td>Thursday</td>\n",
       "      <td>12</td>\n",
       "      <td>June</td>\n",
       "      <td>2003</td>\n",
       "      <td>6</td>\n",
       "    </tr>\n",
       "    <tr>\n",
       "      <th>1</th>\n",
       "      <td>DRUG/NARCOTIC</td>\n",
       "      <td>TENDERLOIN</td>\n",
       "      <td>-122.414433</td>\n",
       "      <td>37.784658</td>\n",
       "      <td>2006-01-03</td>\n",
       "      <td>01:15</td>\n",
       "      <td>1</td>\n",
       "      <td>Tuesday</td>\n",
       "      <td>3</td>\n",
       "      <td>January</td>\n",
       "      <td>2006</td>\n",
       "      <td>1</td>\n",
       "    </tr>\n",
       "    <tr>\n",
       "      <th>2</th>\n",
       "      <td>DRUG/NARCOTIC</td>\n",
       "      <td>TENDERLOIN</td>\n",
       "      <td>-122.412883</td>\n",
       "      <td>37.785353</td>\n",
       "      <td>2003-12-18</td>\n",
       "      <td>00:01</td>\n",
       "      <td>0</td>\n",
       "      <td>Thursday</td>\n",
       "      <td>18</td>\n",
       "      <td>December</td>\n",
       "      <td>2003</td>\n",
       "      <td>12</td>\n",
       "    </tr>\n",
       "    <tr>\n",
       "      <th>3</th>\n",
       "      <td>DRUG/NARCOTIC</td>\n",
       "      <td>SOUTHERN</td>\n",
       "      <td>-122.413564</td>\n",
       "      <td>37.779514</td>\n",
       "      <td>2003-05-21</td>\n",
       "      <td>09:20</td>\n",
       "      <td>9</td>\n",
       "      <td>Wednesday</td>\n",
       "      <td>21</td>\n",
       "      <td>May</td>\n",
       "      <td>2003</td>\n",
       "      <td>5</td>\n",
       "    </tr>\n",
       "    <tr>\n",
       "      <th>4</th>\n",
       "      <td>DRUG/NARCOTIC</td>\n",
       "      <td>RICHMOND</td>\n",
       "      <td>-122.442365</td>\n",
       "      <td>37.784875</td>\n",
       "      <td>2006-01-27</td>\n",
       "      <td>11:59</td>\n",
       "      <td>11</td>\n",
       "      <td>Friday</td>\n",
       "      <td>27</td>\n",
       "      <td>January</td>\n",
       "      <td>2006</td>\n",
       "      <td>1</td>\n",
       "    </tr>\n",
       "  </tbody>\n",
       "</table>\n",
       "</div>"
      ],
      "text/plain": [
       "        Category  PdDistrict           X          Y        Date   Time  \\\n",
       "0  DRUG/NARCOTIC   INGLESIDE -122.441875  37.719082  2003-06-12  20:25   \n",
       "1  DRUG/NARCOTIC  TENDERLOIN -122.414433  37.784658  2006-01-03  01:15   \n",
       "2  DRUG/NARCOTIC  TENDERLOIN -122.412883  37.785353  2003-12-18  00:01   \n",
       "3  DRUG/NARCOTIC    SOUTHERN -122.413564  37.779514  2003-05-21  09:20   \n",
       "4  DRUG/NARCOTIC    RICHMOND -122.442365  37.784875  2006-01-27  11:59   \n",
       "\n",
       "   TimeOfDay  DayOfWeek  DayOfMonth     Month  Year  Month number  \n",
       "0         20   Thursday          12      June  2003             6  \n",
       "1          1    Tuesday           3   January  2006             1  \n",
       "2          0   Thursday          18  December  2003            12  \n",
       "3          9  Wednesday          21       May  2003             5  \n",
       "4         11     Friday          27   January  2006             1  "
      ]
     },
     "execution_count": 19,
     "metadata": {},
     "output_type": "execute_result"
    }
   ],
   "source": [
    "#saving just the needed data. looking more closely into drug/narcotic crimes.\n",
    "\n",
    "df_drug = mdata[(mdata['Category'] == 'DRUG/NARCOTIC')].reset_index(drop=True)\n",
    "print('Data has been filtered to DRUG / NARCOTIC and TENDERLOIN. It is saved as df_drug.')\n",
    "df_drug.head()\n",
    "#& (mdata['PdDistrict'] == 'TENDERLOIN')"
   ]
  },
  {
   "cell_type": "code",
   "execution_count": 20,
   "id": "3e26f894-66bd-42d0-8f65-0b8cdb50dc5e",
   "metadata": {},
   "outputs": [
    {
     "data": {
      "image/png": "[encoded data removed]",
      "text/plain": [
       "<Figure size 640x480 with 1 Axes>"
      ]
     },
     "metadata": {},
     "output_type": "display_data"
    }
   ],
   "source": [
    "#counts\n",
    "counts = df_drug.value_counts('Year').reset_index().sort_values(by='Year').reset_index(drop=True)\n",
    "counts.columns = ['Year', 'Count']\n",
    "plot = counts.plot(x = 'Year', y= 'Count', kind = 'bar', legend = False, title = 'Drug/narcotic crimes in San Fransisco', ylabel = 'Number of occuring crimes')"
   ]
  },
  {
   "cell_type": "code",
   "execution_count": 21,
   "id": "4e8ddbe9-7c16-4583-96d3-9f04abdb247d",
   "metadata": {},
   "outputs": [
    {
     "name": "stdout",
     "output_type": "stream",
     "text": [
      "    Year  Count\n",
      "0   2003   9784\n",
      "1   2004   9792\n",
      "2   2005   8444\n",
      "3   2006   8943\n",
      "4   2007  10360\n",
      "5   2008  11456\n",
      "6   2009  11771\n",
      "7   2010   9036\n",
      "8   2011   6802\n",
      "9   2012   6307\n",
      "10  2013   6672\n",
      "11  2014   5324\n",
      "12  2015   4194\n",
      "13  2016   4202\n",
      "14  2017   3265\n",
      "15  2018   3920\n",
      "16  2019   3476\n",
      "17  2020   2452\n",
      "18  2021   2134\n",
      "19  2022   3690\n",
      "20  2023   4261\n",
      "21  2024   4082\n"
     ]
    }
   ],
   "source": [
    "yearly_drug_numbers = df_drug.value_counts('Year').reset_index().sort_values(by='Year').reset_index(drop=True)\n",
    "yearly_drug_numbers.columns = ['Year', 'Count']\n",
    "print(yearly_drug_numbers)"
   ]
  },
  {
   "cell_type": "code",
   "execution_count": 22,
   "id": "9ff186f9-f469-4b6b-9b58-995c8f285df0",
   "metadata": {},
   "outputs": [
    {
     "data": {
      "application/vnd.microsoft.datawrangler.viewer.v0+json": {
       "columns": [
        {
         "name": "index",
         "rawType": "int64",
         "type": "integer"
        },
        {
         "name": "Year",
         "rawType": "int64",
         "type": "integer"
        },
        {
         "name": "All crimes",
         "rawType": "int64",
         "type": "integer"
        }
       ],
       "conversionMethod": "pd.DataFrame",
       "ref": "18718903-cfad-4550-a916-5766aec60ded",
       "rows": [
        [
         "0",
         "2003",
         "142803"
        ],
        [
         "1",
         "2004",
         "142054"
        ],
        [
         "2",
         "2005",
         "137048"
        ],
        [
         "3",
         "2006",
         "131856"
        ],
        [
         "4",
         "2007",
         "131771"
        ]
       ],
       "shape": {
        "columns": 2,
        "rows": 5
       }
      },
      "text/html": [
       "<div>\n",
       "<style scoped>\n",
       "    .dataframe tbody tr th:only-of-type {\n",
       "        vertical-align: middle;\n",
       "    }\n",
       "\n",
       "    .dataframe tbody tr th {\n",
       "        vertical-align: top;\n",
       "    }\n",
       "\n",
       "    .dataframe thead th {\n",
       "        text-align: right;\n",
       "    }\n",
       "</style>\n",
       "<table border=\"1\" class=\"dataframe\">\n",
       "  <thead>\n",
       "    <tr style=\"text-align: right;\">\n",
       "      <th></th>\n",
       "      <th>Year</th>\n",
       "      <th>All crimes</th>\n",
       "    </tr>\n",
       "  </thead>\n",
       "  <tbody>\n",
       "    <tr>\n",
       "      <th>0</th>\n",
       "      <td>2003</td>\n",
       "      <td>142803</td>\n",
       "    </tr>\n",
       "    <tr>\n",
       "      <th>1</th>\n",
       "      <td>2004</td>\n",
       "      <td>142054</td>\n",
       "    </tr>\n",
       "    <tr>\n",
       "      <th>2</th>\n",
       "      <td>2005</td>\n",
       "      <td>137048</td>\n",
       "    </tr>\n",
       "    <tr>\n",
       "      <th>3</th>\n",
       "      <td>2006</td>\n",
       "      <td>131856</td>\n",
       "    </tr>\n",
       "    <tr>\n",
       "      <th>4</th>\n",
       "      <td>2007</td>\n",
       "      <td>131771</td>\n",
       "    </tr>\n",
       "  </tbody>\n",
       "</table>\n",
       "</div>"
      ],
      "text/plain": [
       "   Year  All crimes\n",
       "0  2003      142803\n",
       "1  2004      142054\n",
       "2  2005      137048\n",
       "3  2006      131856\n",
       "4  2007      131771"
      ]
     },
     "execution_count": 22,
     "metadata": {},
     "output_type": "execute_result"
    }
   ],
   "source": [
    "#same but normalized to the total number of crimes\n",
    "crimes_per_year = mdata.value_counts('Year').reset_index().sort_values(by='Year').reset_index(drop=True)\n",
    "crimes_per_year.columns = ['Year', 'All crimes']\n",
    "crimes_per_year.head()"
   ]
  },
  {
   "cell_type": "code",
   "execution_count": 23,
   "id": "b27927ba-faee-48d6-ae69-d2edc7e11075",
   "metadata": {},
   "outputs": [
    {
     "data": {
      "application/vnd.microsoft.datawrangler.viewer.v0+json": {
       "columns": [
        {
         "name": "index",
         "rawType": "int64",
         "type": "integer"
        },
        {
         "name": "Year",
         "rawType": "int64",
         "type": "integer"
        },
        {
         "name": "Count",
         "rawType": "int64",
         "type": "integer"
        },
        {
         "name": "All crimes",
         "rawType": "int64",
         "type": "integer"
        },
        {
         "name": "Drug/narcotic, normalized",
         "rawType": "float64",
         "type": "float"
        }
       ],
       "conversionMethod": "pd.DataFrame",
       "ref": "5fa34699-3bf4-4ff5-bdbb-fdd6cfd03c83",
       "rows": [
        [
         "0",
         "2003",
         "9784",
         "142803",
         "6.8513966793414705"
        ],
        [
         "1",
         "2004",
         "9792",
         "142054",
         "6.8931533078969975"
        ],
        [
         "2",
         "2005",
         "8444",
         "137048",
         "6.161344930243418"
        ],
        [
         "3",
         "2006",
         "8943",
         "131856",
         "6.782398980706225"
        ],
        [
         "4",
         "2007",
         "10360",
         "131771",
         "7.86212444316276"
        ]
       ],
       "shape": {
        "columns": 4,
        "rows": 5
       }
      },
      "text/html": [
       "<div>\n",
       "<style scoped>\n",
       "    .dataframe tbody tr th:only-of-type {\n",
       "        vertical-align: middle;\n",
       "    }\n",
       "\n",
       "    .dataframe tbody tr th {\n",
       "        vertical-align: top;\n",
       "    }\n",
       "\n",
       "    .dataframe thead th {\n",
       "        text-align: right;\n",
       "    }\n",
       "</style>\n",
       "<table border=\"1\" class=\"dataframe\">\n",
       "  <thead>\n",
       "    <tr style=\"text-align: right;\">\n",
       "      <th></th>\n",
       "      <th>Year</th>\n",
       "      <th>Count</th>\n",
       "      <th>All crimes</th>\n",
       "      <th>Drug/narcotic, normalized</th>\n",
       "    </tr>\n",
       "  </thead>\n",
       "  <tbody>\n",
       "    <tr>\n",
       "      <th>0</th>\n",
       "      <td>2003</td>\n",
       "      <td>9784</td>\n",
       "      <td>142803</td>\n",
       "      <td>6.851397</td>\n",
       "    </tr>\n",
       "    <tr>\n",
       "      <th>1</th>\n",
       "      <td>2004</td>\n",
       "      <td>9792</td>\n",
       "      <td>142054</td>\n",
       "      <td>6.893153</td>\n",
       "    </tr>\n",
       "    <tr>\n",
       "      <th>2</th>\n",
       "      <td>2005</td>\n",
       "      <td>8444</td>\n",
       "      <td>137048</td>\n",
       "      <td>6.161345</td>\n",
       "    </tr>\n",
       "    <tr>\n",
       "      <th>3</th>\n",
       "      <td>2006</td>\n",
       "      <td>8943</td>\n",
       "      <td>131856</td>\n",
       "      <td>6.782399</td>\n",
       "    </tr>\n",
       "    <tr>\n",
       "      <th>4</th>\n",
       "      <td>2007</td>\n",
       "      <td>10360</td>\n",
       "      <td>131771</td>\n",
       "      <td>7.862124</td>\n",
       "    </tr>\n",
       "  </tbody>\n",
       "</table>\n",
       "</div>"
      ],
      "text/plain": [
       "   Year  Count  All crimes  Drug/narcotic, normalized\n",
       "0  2003   9784      142803                   6.851397\n",
       "1  2004   9792      142054                   6.893153\n",
       "2  2005   8444      137048                   6.161345\n",
       "3  2006   8943      131856                   6.782399\n",
       "4  2007  10360      131771                   7.862124"
      ]
     },
     "execution_count": 23,
     "metadata": {},
     "output_type": "execute_result"
    }
   ],
   "source": [
    "counts.loc[:,'All crimes'] = crimes_per_year['All crimes']\n",
    "counts.loc[:, 'Drug/narcotic, normalized'] = counts['Count'] / counts['All crimes'] * 100\n",
    "counts.head()"
   ]
  },
  {
   "cell_type": "code",
   "execution_count": 24,
   "id": "f7011e76-c5af-4347-81ca-66ba1a9f5c4b",
   "metadata": {},
   "outputs": [
    {
     "data": {
      "text/plain": [
       "Index(['Year', 'Count', 'All crimes', 'Drug/narcotic, normalized'], dtype='object')"
      ]
     },
     "execution_count": 24,
     "metadata": {},
     "output_type": "execute_result"
    }
   ],
   "source": [
    "counts.keys()"
   ]
  },
  {
   "cell_type": "code",
   "execution_count": 26,
   "id": "64b1185c-6852-4906-a148-97ec0e0debad",
   "metadata": {},
   "outputs": [
    {
     "data": {
      "image/png": "[encoded data removed]",
      "text/plain": [
       "<Figure size 640x480 with 1 Axes>"
      ]
     },
     "metadata": {},
     "output_type": "display_data"
    }
   ],
   "source": [
    "years_to_highlight = [2014, 2017, 2022]\n",
    "bar_colors = ['firebrick' if year in years_to_highlight else 'tomato' for year in counts['Year']]\n",
    "plot = counts.plot(x = 'Year',\n",
    "                   y = 'Drug/narcotic, normalized',\n",
    "                   kind = 'bar',\n",
    "                   legend = False,\n",
    "                   title = 'Drug/Narcotic Crimes in San Fransisco',\n",
    "                   ylabel = 'Proportion of drug/narcotic crimes of all crimes, %',\n",
    "                   color = bar_colors)\n",
    "\n",
    "#annotation for the year 2014 to highlight change in legislation\n",
    "# Get the Y value for 2014\n",
    "bar_index_14 = counts[counts['Year']==2014].index[0]\n",
    "y_val_14 = counts.loc[counts['Year']==2014, 'Drug/narcotic, normalized'].values[0]\n",
    "plot.annotate(\n",
    "    'California prop 47\\ngoes through',\n",
    "    xy = (bar_index_14, y_val_14),\n",
    "    xytext = (0, 60),\n",
    "    textcoords = 'offset points',\n",
    "    arrowprops = dict(facecolor = 'grey',\n",
    "                      arrowstyle = '-',\n",
    "                      #connectionstyle = 'arc3, rad=0.1',\n",
    "                      linewidth = 0.5\n",
    "                    ),\n",
    "    ha = 'center', va = 'center')\n",
    "\n",
    "#annotation for the year 2017 to highlight fentanyl's arrival in SF\n",
    "# Get the Y value for 2017\n",
    "bar_index_17 = counts[counts['Year']==2017].index[0]\n",
    "y_val_17 = counts.loc[counts['Year']==2017, 'Drug/narcotic, normalized'].values[0]\n",
    "plot.annotate(\n",
    "    'Fentanyl arrives\\nin SF',\n",
    "    xy = (bar_index_17, y_val_17),\n",
    "    xytext = (0, 80),\n",
    "    textcoords = 'offset points',\n",
    "    arrowprops = dict(facecolor = 'grey',\n",
    "                      arrowstyle = '-',\n",
    "                      #connectionstyle = 'arc3, rad=0.1',\n",
    "                      linewidth = 0.5\n",
    "                    ),\n",
    "    ha = 'center', va = 'center')\n",
    "\n",
    "#annotation for the year 2022 to highlight a new distirct attorney\n",
    "# Get the Y value for 2022\n",
    "bar_index_22 = counts[counts['Year']==2022].index[0]\n",
    "y_val_22 = counts.loc[counts['Year']==2022, 'Drug/narcotic, normalized'].values[0]\n",
    "plot.annotate(\n",
    "    'New\\ndistrict attorney\\nin office',\n",
    "    xy = (bar_index_22, y_val_22),\n",
    "    xytext = (0, 100),\n",
    "    textcoords = 'offset points',\n",
    "    arrowprops = dict(facecolor = 'grey',\n",
    "                      arrowstyle = '-',\n",
    "                      #connectionstyle = 'arc3, rad=0.1',\n",
    "                      linewidth = 0.5\n",
    "                    ),\n",
    "    ha = 'center', va = 'center')\n",
    "\n",
    "plt.figtext(\n",
    "    0.5, -0.05,\n",
    "    'Figure:Number of drug/narcotic crimes recorded in San Fransisco has changed through-out the years. In 2014 the California prop 47 was passed, which lead to police intervening with drug users even less than earlier. In 2017 fentanyl crisis breaks in SF. In mid 2022 a new district attorney started to arrest more drug dealers as well as some users. [1]',\n",
    "    wrap = True,\n",
    "    horizontalalignment = 'center',\n",
    "    verticalalignment = 'top',\n",
    "    fontsize = 10,\n",
    "    style = 'normal'\n",
    ")\n",
    "plt.tight_layout()\n",
    "plt.savefig(\"overview.png\", dpi=300, bbox_inches='tight', facecolor='white')\n"
   ]
  },
  {
   "cell_type": "code",
   "execution_count": 277,
   "id": "7261d4ec-43e6-4d82-a486-9000667903b6",
   "metadata": {},
   "outputs": [
    {
     "name": "stderr",
     "output_type": "stream",
     "text": [
      "/var/folders/nm/8h6trdzs11b4x2t2ypm38l0w0000gn/T/ipykernel_16392/677281939.py:5: FutureWarning: Downcasting behavior in `replace` is deprecated and will be removed in a future version. To retain the old behavior, explicitly call `result.infer_objects(copy=False)`. To opt-in to the future behavior, set `pd.set_option('future.no_silent_downcasting', True)`\n",
      "  counts_2022.loc[:, 'Month number'] = counts_2022['Month'].replace({\n"
     ]
    }
   ],
   "source": [
    "df_drug_2022 = df_drug[df_drug['Year']==2022].reset_index(drop=True)\n",
    "#counts\n",
    "counts_2022 = df_drug_2022.value_counts('Month').reset_index().reset_index(drop=True)\n",
    "counts_2022.columns = ['Month', 'Count']\n",
    "counts_2022.loc[:, 'Month number'] = counts_2022['Month'].replace({\n",
    "    'January': 1,\n",
    "    'February': 2,\n",
    "    'March': 3,\n",
    "    'April': 4,\n",
    "    'May': 5,\n",
    "    'June': 6,\n",
    "    'July': 7,\n",
    "    'August': 8,\n",
    "    'September': 9,\n",
    "    'October': 10,\n",
    "    'November': 11,\n",
    "    'December': 12\n",
    "})\n",
    "counts_2022 = counts_2022.sort_values(by='Month number').reset_index(drop=True)\n"
   ]
  },
  {
   "cell_type": "code",
   "execution_count": 278,
   "id": "ed0dfd07-1dc1-404b-a3bf-5d60192cbf14",
   "metadata": {},
   "outputs": [
    {
     "data": {
      "image/png": "[encoded data removed]",
      "text/plain": [
       "<Figure size 640x480 with 1 Axes>"
      ]
     },
     "metadata": {},
     "output_type": "display_data"
    }
   ],
   "source": [
    "plot = counts_2022.plot(x = 'Month',\n",
    "                        y = 'Count',\n",
    "                        kind = 'bar',\n",
    "                        title = 'Number of drug/narcotic crimes in SF in 2022',\n",
    "                        ylabel = 'Number of crimes',\n",
    "                        legend = False,\n",
    "                        color = 'teal')\n",
    "plt.tight_layout()\n",
    "plt.show()"
   ]
  },
  {
   "cell_type": "code",
   "execution_count": 150,
   "id": "28e2ba3d-de48-46f0-b999-4198e50188f0",
   "metadata": {},
   "outputs": [
    {
     "data": {
      "text/html": [
       "<div>\n",
       "<style scoped>\n",
       "    .dataframe tbody tr th:only-of-type {\n",
       "        vertical-align: middle;\n",
       "    }\n",
       "\n",
       "    .dataframe tbody tr th {\n",
       "        vertical-align: top;\n",
       "    }\n",
       "\n",
       "    .dataframe thead th {\n",
       "        text-align: right;\n",
       "    }\n",
       "</style>\n",
       "<table border=\"1\" class=\"dataframe\">\n",
       "  <thead>\n",
       "    <tr style=\"text-align: right;\">\n",
       "      <th></th>\n",
       "      <th>Category</th>\n",
       "      <th>PdDistrict</th>\n",
       "      <th>X</th>\n",
       "      <th>Y</th>\n",
       "      <th>Date</th>\n",
       "      <th>Time</th>\n",
       "      <th>TimeOfDay</th>\n",
       "      <th>DayOfWeek</th>\n",
       "      <th>DayOfMonth</th>\n",
       "      <th>Month</th>\n",
       "      <th>Year</th>\n",
       "      <th>Month number</th>\n",
       "    </tr>\n",
       "  </thead>\n",
       "  <tbody>\n",
       "    <tr>\n",
       "      <th>0</th>\n",
       "      <td>DRUG/NARCOTIC</td>\n",
       "      <td>INGLESIDE</td>\n",
       "      <td>-122.441875</td>\n",
       "      <td>37.719082</td>\n",
       "      <td>2003-06-12</td>\n",
       "      <td>20:25</td>\n",
       "      <td>20</td>\n",
       "      <td>Thursday</td>\n",
       "      <td>12</td>\n",
       "      <td>June</td>\n",
       "      <td>2003</td>\n",
       "      <td>6</td>\n",
       "    </tr>\n",
       "    <tr>\n",
       "      <th>1</th>\n",
       "      <td>DRUG/NARCOTIC</td>\n",
       "      <td>TENDERLOIN</td>\n",
       "      <td>-122.414433</td>\n",
       "      <td>37.784658</td>\n",
       "      <td>2006-01-03</td>\n",
       "      <td>01:15</td>\n",
       "      <td>1</td>\n",
       "      <td>Tuesday</td>\n",
       "      <td>3</td>\n",
       "      <td>January</td>\n",
       "      <td>2006</td>\n",
       "      <td>1</td>\n",
       "    </tr>\n",
       "    <tr>\n",
       "      <th>2</th>\n",
       "      <td>DRUG/NARCOTIC</td>\n",
       "      <td>TENDERLOIN</td>\n",
       "      <td>-122.412883</td>\n",
       "      <td>37.785353</td>\n",
       "      <td>2003-12-18</td>\n",
       "      <td>00:01</td>\n",
       "      <td>0</td>\n",
       "      <td>Thursday</td>\n",
       "      <td>18</td>\n",
       "      <td>December</td>\n",
       "      <td>2003</td>\n",
       "      <td>12</td>\n",
       "    </tr>\n",
       "    <tr>\n",
       "      <th>3</th>\n",
       "      <td>DRUG/NARCOTIC</td>\n",
       "      <td>SOUTHERN</td>\n",
       "      <td>-122.413564</td>\n",
       "      <td>37.779514</td>\n",
       "      <td>2003-05-21</td>\n",
       "      <td>09:20</td>\n",
       "      <td>9</td>\n",
       "      <td>Wednesday</td>\n",
       "      <td>21</td>\n",
       "      <td>May</td>\n",
       "      <td>2003</td>\n",
       "      <td>5</td>\n",
       "    </tr>\n",
       "    <tr>\n",
       "      <th>4</th>\n",
       "      <td>DRUG/NARCOTIC</td>\n",
       "      <td>RICHMOND</td>\n",
       "      <td>-122.442365</td>\n",
       "      <td>37.784875</td>\n",
       "      <td>2006-01-27</td>\n",
       "      <td>11:59</td>\n",
       "      <td>11</td>\n",
       "      <td>Friday</td>\n",
       "      <td>27</td>\n",
       "      <td>January</td>\n",
       "      <td>2006</td>\n",
       "      <td>1</td>\n",
       "    </tr>\n",
       "  </tbody>\n",
       "</table>\n",
       "</div>"
      ],
      "text/plain": [
       "        Category  PdDistrict           X          Y        Date   Time  \\\n",
       "0  DRUG/NARCOTIC   INGLESIDE -122.441875  37.719082  2003-06-12  20:25   \n",
       "1  DRUG/NARCOTIC  TENDERLOIN -122.414433  37.784658  2006-01-03  01:15   \n",
       "2  DRUG/NARCOTIC  TENDERLOIN -122.412883  37.785353  2003-12-18  00:01   \n",
       "3  DRUG/NARCOTIC    SOUTHERN -122.413564  37.779514  2003-05-21  09:20   \n",
       "4  DRUG/NARCOTIC    RICHMOND -122.442365  37.784875  2006-01-27  11:59   \n",
       "\n",
       "   TimeOfDay  DayOfWeek  DayOfMonth     Month  Year  Month number  \n",
       "0         20   Thursday          12      June  2003             6  \n",
       "1          1    Tuesday           3   January  2006             1  \n",
       "2          0   Thursday          18  December  2003            12  \n",
       "3          9  Wednesday          21       May  2003             5  \n",
       "4         11     Friday          27   January  2006             1  "
      ]
     },
     "execution_count": 150,
     "metadata": {},
     "output_type": "execute_result"
    }
   ],
   "source": [
    "df_drug.head()"
   ]
  },
  {
   "cell_type": "code",
   "execution_count": 279,
   "id": "cf63512c-a4be-41c3-ab3e-7b82c100e71d",
   "metadata": {},
   "outputs": [
    {
     "data": {
      "image/png": "[encoded data removed]",
      "text/plain": [
       "<Figure size 640x480 with 1 Axes>"
      ]
     },
     "metadata": {},
     "output_type": "display_data"
    }
   ],
   "source": [
    "#let's look at the neighbourhoods\n",
    "\n",
    "#counts\n",
    "counts_area = df_drug.value_counts('PdDistrict').reset_index().reset_index(drop=True)\n",
    "counts_area.columns = ['PdDistrict', 'Count']\n",
    "counts_area.head()\n",
    "plot = counts_area.plot(x = 'PdDistrict', y = 'Count', kind = 'bar')"
   ]
  },
  {
   "cell_type": "code",
   "execution_count": 333,
   "id": "86391e45-920a-4ecc-bd88-0928f42626fb",
   "metadata": {},
   "outputs": [
    {
     "name": "stdout",
     "output_type": "stream",
     "text": [
      "TENDERLOIN\n",
      "SOUTHERN\n",
      "MISSION\n",
      "NORTHERN\n",
      "BAYVIEW\n",
      "PARK\n",
      "INGLESIDE\n",
      "CENTRAL\n",
      "TARAVAL\n",
      "RICHMOND\n"
     ]
    }
   ],
   "source": [
    "years = list(range(2014, 2025))\n",
    "districts = counts_area.PdDistrict.unique()\n",
    "\n",
    "district_dict = {\n",
    "    district: [] for district in districts\n",
    "}\n",
    "\n",
    "\n",
    "for district in district_dict:\n",
    "    print(district)\n",
    "    data = df_drug.loc[(df_drug['PdDistrict'] == district) & (df_drug['Year'].isin(years))]\n",
    "    counts = data.value_counts('Year').reset_index().sort_values(by = 'Year').reset_index(drop = True)\n",
    "    counts.columns = ['Year', 'Count']\n",
    "    all_crime_in_district = counts['Count'].sum()\n",
    "    district_dict[district] = counts"
   ]
  },
  {
   "cell_type": "code",
   "execution_count": 334,
   "id": "502c04c6-57d2-44e3-89b6-19dc3d30ad1f",
   "metadata": {},
   "outputs": [
    {
     "name": "stdout",
     "output_type": "stream",
     "text": [
      "[2014, 2015, 2016, 2017, 2018, 2019, 2020, 2021, 2022, 2023, 2024]\n"
     ]
    }
   ],
   "source": [
    "years = list(range(2014, 2025))\n",
    "print(years)"
   ]
  },
  {
   "cell_type": "code",
   "execution_count": 335,
   "id": "af2bfb0f-cd02-4c54-83b6-f0c78af82edb",
   "metadata": {},
   "outputs": [
    {
     "data": {
      "image/png": "[encoded data removed]",
      "text/plain": [
       "<Figure size 1200x2000 with 10 Axes>"
      ]
     },
     "metadata": {},
     "output_type": "display_data"
    }
   ],
   "source": [
    "#time to plot\n",
    "\n",
    "fig, axes = plt.subplots(nrows = 5, ncols = 2, figsize = (12,20), sharex = True, sharey = True)\n",
    "years = list(range(2014, 2025))\n",
    "max_y = max([district_dict[d]['Count'].max() for d in districts])\n",
    "\n",
    "for i, ax in enumerate(axes.flatten()):\n",
    "    dist = districts[i]\n",
    "    data = district_dict[dist]\n",
    "    x = data['Year']\n",
    "    y = data['Count']\n",
    "\n",
    "    ax.bar(x, y, width = 0.8, align = 'center', label = dist)\n",
    "    ax.set_xmargin(0)\n",
    "    ax.set_ymargin(0.5)\n",
    "\n",
    "    ax.set_ylim(0, max_y + 500)\n",
    "    ax.set_title(dist, fontsize = 10, loc = 'left')\n",
    "    ax.set_xticks(years) #setting my owns\n",
    "    ax.set_xticklabels(years, rotation = 90)\n",
    "\n",
    "plt.suptitle('Drug/narcotic crimes in SF police districts, 2003–2024', fontsize=20, y=1)\n",
    "plt.tight_layout()\n",
    " "
   ]
  },
  {
   "cell_type": "code",
   "execution_count": 338,
   "id": "c87301e2-d6a9-4042-8fbb-9b2768d5fbbb",
   "metadata": {},
   "outputs": [
    {
     "data": {
      "text/html": [
       "<div>\n",
       "<style scoped>\n",
       "    .dataframe tbody tr th:only-of-type {\n",
       "        vertical-align: middle;\n",
       "    }\n",
       "\n",
       "    .dataframe tbody tr th {\n",
       "        vertical-align: top;\n",
       "    }\n",
       "\n",
       "    .dataframe thead th {\n",
       "        text-align: right;\n",
       "    }\n",
       "</style>\n",
       "<table border=\"1\" class=\"dataframe\">\n",
       "  <thead>\n",
       "    <tr style=\"text-align: right;\">\n",
       "      <th></th>\n",
       "      <th>TENDERLOIN</th>\n",
       "      <th>SOUTHERN</th>\n",
       "      <th>MISSION</th>\n",
       "      <th>NORTHERN</th>\n",
       "      <th>BAYVIEW</th>\n",
       "      <th>PARK</th>\n",
       "      <th>INGLESIDE</th>\n",
       "      <th>CENTRAL</th>\n",
       "      <th>TARAVAL</th>\n",
       "      <th>RICHMOND</th>\n",
       "    </tr>\n",
       "  </thead>\n",
       "  <tbody>\n",
       "    <tr>\n",
       "      <th>2014</th>\n",
       "      <td>0.229339</td>\n",
       "      <td>0.178625</td>\n",
       "      <td>0.151390</td>\n",
       "      <td>0.114012</td>\n",
       "      <td>0.082081</td>\n",
       "      <td>0.067055</td>\n",
       "      <td>0.054095</td>\n",
       "      <td>0.065552</td>\n",
       "      <td>0.026672</td>\n",
       "      <td>0.031180</td>\n",
       "    </tr>\n",
       "    <tr>\n",
       "      <th>2015</th>\n",
       "      <td>0.256795</td>\n",
       "      <td>0.165951</td>\n",
       "      <td>0.153314</td>\n",
       "      <td>0.120410</td>\n",
       "      <td>0.103004</td>\n",
       "      <td>0.059132</td>\n",
       "      <td>0.050548</td>\n",
       "      <td>0.049595</td>\n",
       "      <td>0.026705</td>\n",
       "      <td>0.014545</td>\n",
       "    </tr>\n",
       "    <tr>\n",
       "      <th>2016</th>\n",
       "      <td>0.227749</td>\n",
       "      <td>0.217277</td>\n",
       "      <td>0.150643</td>\n",
       "      <td>0.124703</td>\n",
       "      <td>0.076630</td>\n",
       "      <td>0.064969</td>\n",
       "      <td>0.045217</td>\n",
       "      <td>0.049262</td>\n",
       "      <td>0.025464</td>\n",
       "      <td>0.018087</td>\n",
       "    </tr>\n",
       "    <tr>\n",
       "      <th>2017</th>\n",
       "      <td>0.223890</td>\n",
       "      <td>0.231240</td>\n",
       "      <td>0.133844</td>\n",
       "      <td>0.156508</td>\n",
       "      <td>0.059112</td>\n",
       "      <td>0.040123</td>\n",
       "      <td>0.050230</td>\n",
       "      <td>0.045023</td>\n",
       "      <td>0.031853</td>\n",
       "      <td>0.028178</td>\n",
       "    </tr>\n",
       "    <tr>\n",
       "      <th>2018</th>\n",
       "      <td>0.447704</td>\n",
       "      <td>0.129847</td>\n",
       "      <td>0.147704</td>\n",
       "      <td>0.061224</td>\n",
       "      <td>0.031888</td>\n",
       "      <td>0.033163</td>\n",
       "      <td>0.041582</td>\n",
       "      <td>0.069643</td>\n",
       "      <td>0.020663</td>\n",
       "      <td>0.016582</td>\n",
       "    </tr>\n",
       "  </tbody>\n",
       "</table>\n",
       "</div>"
      ],
      "text/plain": [
       "      TENDERLOIN  SOUTHERN   MISSION  NORTHERN   BAYVIEW      PARK  INGLESIDE  \\\n",
       "2014    0.229339  0.178625  0.151390  0.114012  0.082081  0.067055   0.054095   \n",
       "2015    0.256795  0.165951  0.153314  0.120410  0.103004  0.059132   0.050548   \n",
       "2016    0.227749  0.217277  0.150643  0.124703  0.076630  0.064969   0.045217   \n",
       "2017    0.223890  0.231240  0.133844  0.156508  0.059112  0.040123   0.050230   \n",
       "2018    0.447704  0.129847  0.147704  0.061224  0.031888  0.033163   0.041582   \n",
       "\n",
       "       CENTRAL   TARAVAL  RICHMOND  \n",
       "2014  0.065552  0.026672  0.031180  \n",
       "2015  0.049595  0.026705  0.014545  \n",
       "2016  0.049262  0.025464  0.018087  \n",
       "2017  0.045023  0.031853  0.028178  \n",
       "2018  0.069643  0.020663  0.016582  "
      ]
     },
     "execution_count": 338,
     "metadata": {},
     "output_type": "execute_result"
    }
   ],
   "source": [
    "#let's add my district sums into a single dataframe to make life easier\n",
    "pd_counts_df = pd.DataFrame(index = years)\n",
    "pd_counts_norm_df = pd.DataFrame(index = years)\n",
    "\n",
    "for dist in districts:\n",
    "    data = district_dict[dist]\n",
    "    year_series = data.set_index('Year')['Count']\n",
    "    pd_counts_df[dist] = year_series\n",
    "    pd_counts_norm_df[dist] = year_series / yearly_drug_numbers.set_index('Year')['Count']\n",
    "\n",
    "pd_counts_norm_df.head()"
   ]
  },
  {
   "cell_type": "code",
   "execution_count": 314,
   "id": "393a04b7-28eb-4c1e-a270-3a813293afb3",
   "metadata": {},
   "outputs": [
    {
     "data": {
      "text/plain": [
       "Text(0.0, 1.0, 'Drug/narcotic crimes by SF Police District (2003–2024)')"
      ]
     },
     "execution_count": 314,
     "metadata": {},
     "output_type": "execute_result"
    },
    {
     "data": {
      "image/png": "[encoded data removed]",
      "text/plain": [
       "<Figure size 1400x700 with 1 Axes>"
      ]
     },
     "metadata": {},
     "output_type": "display_data"
    }
   ],
   "source": [
    "# Custom color map — highlight top 4\n",
    "district_colors = {\n",
    "    'TENDERLOIN': '#3b4d52',   # desaturated navy\n",
    "    'SOUTHERN':   '#4a7976',   # dusty pine green\n",
    "    'MISSION':    '#b66e52',   # muted clay/rust\n",
    "    'NORTHERN':   '#78849e',   # dusty slate blue\n",
    "\n",
    "    'BAYVIEW':    '#d4bfa9',   # muted tan\n",
    "    'PARK':       '#c1c6b9',   # sage-grey\n",
    "    'INGLESIDE':  '#aabec2',   # dusty seafoam\n",
    "    'CENTRAL':    '#c8bcb0',   # greige\n",
    "    'TARAVAL':    '#d5cec6',   # pale clay\n",
    "    'RICHMOND':   '#bfb8ad'    # soft taupe\n",
    "}\n",
    "colors = [district_colors[d.upper()] for d in pd_counts_norm_df.columns]\n",
    "\n",
    "pd_counts_norm_df.plot(\n",
    "    kind = 'bar',\n",
    "    stacked = True,\n",
    "    figsize = (14,7),\n",
    "    width = 0.8,\n",
    "    color = colors,\n",
    "    legend = False,\n",
    ")\n",
    "\n",
    "handels, labels = plt.gca().get_legend_handles_labels()\n",
    "plt.legend(\n",
    "        handels[::-1],\n",
    "        labels[::-1],\n",
    "        bbox_to_anchor = (1.2, 1),\n",
    "        loc = 'upper right'\n",
    ")\n",
    "\n",
    "plt.title('Drug/narcotic crimes by SF Police District (2003–2024)', fontsize = 16, loc = 'left')\n",
    "\n",
    "#adding a line to show that Tenderloin always dominates\n",
    "#min_tenderloin = pd_counts_norm_df['TENDERLOIN'].min()\n",
    "#plt.axhline(y = min_tenderloin, color = 'navy', linestyle = '--', linewidth = 2, alpha = 0.50)\n",
    "\n",
    "    "
   ]
  },
  {
   "cell_type": "code",
   "execution_count": 354,
   "id": "91ff7f97-d4f7-47ce-9be3-fd92287fdec5",
   "metadata": {},
   "outputs": [
    {
     "data": {
      "text/html": [
       "    <style>\n",
       "        .bk-notebook-logo {\n",
       "            display: block;\n",
       "            width: 20px;\n",
       "            height: 20px;\n",
       "            background-image: url(data:image/png;base64,iVBORw0KGgoAAAANSUhEUgAAABQAAAAUCAYAAACNiR0NAAAABHNCSVQICAgIfAhkiAAAAAlwSFlzAAALEgAACxIB0t1+/AAAABx0RVh0U29mdHdhcmUAQWRvYmUgRmlyZXdvcmtzIENTNui8sowAAAOkSURBVDiNjZRtaJVlGMd/1/08zzln5zjP1LWcU9N0NkN8m2CYjpgQYQXqSs0I84OLIC0hkEKoPtiH3gmKoiJDU7QpLgoLjLIQCpEsNJ1vqUOdO7ppbuec5+V+rj4ctwzd8IIbbi6u+8f1539dt3A78eXC7QizUF7gyV1fD1Yqg4JWz84yffhm0qkFqBogB9rM8tZdtwVsPUhWhGcFJngGeWrPzHm5oaMmkfEg1usvLFyc8jLRqDOMru7AyC8saQr7GG7f5fvDeH7Ej8CM66nIF+8yngt6HWaKh7k49Soy9nXurCi1o3qUbS3zWfrYeQDTB/Qj6kX6Ybhw4B+bOYoLKCC9H3Nu/leUTZ1JdRWkkn2ldcCamzrcf47KKXdAJllSlxAOkRgyHsGC/zRday5Qld9DyoM4/q/rUoy/CXh3jzOu3bHUVZeU+DEn8FInkPBFlu3+nW3Nw0mk6vCDiWg8CeJaxEwuHS3+z5RgY+YBR6V1Z1nxSOfoaPa4LASWxxdNp+VWTk7+4vzaou8v8PN+xo+KY2xsw6une2frhw05CTYOmQvsEhjhWjn0bmXPjpE1+kplmmkP3suftwTubK9Vq22qKmrBhpY4jvd5afdRA3wGjFAgcnTK2s4hY0/GPNIb0nErGMCRxWOOX64Z8RAC4oCXdklmEvcL8o0BfkNK4lUg9HTl+oPlQxdNo3Mg4Nv175e/1LDGzZen30MEjRUtmXSfiTVu1kK8W4txyV6BMKlbgk3lMwYCiusNy9fVfvvwMxv8Ynl6vxoByANLTWplvuj/nF9m2+PDtt1eiHPBr1oIfhCChQMBw6Aw0UulqTKZdfVvfG7VcfIqLG9bcldL/+pdWTLxLUy8Qq38heUIjh4XlzZxzQm19lLFlr8vdQ97rjZVOLf8nclzckbcD4wxXMidpX30sFd37Fv/GtwwhzhxGVAprjbg0gCAEeIgwCZyTV2Z1REEW8O4py0wsjeloKoMr6iCY6dP92H6Vw/oTyICIthibxjm/DfN9lVz8IqtqKYLUXfoKVMVQVVJOElGjrnnUt9T9wbgp8AyYKaGlqingHZU/uG2NTZSVqwHQTWkx9hxjkpWDaCg6Ckj5qebgBVbT3V3NNXMSiWSDdGV3hrtzla7J+duwPOToIg42ChPQOQjspnSlp1V+Gjdged7+8UN5CRAV7a5EdFNwCjEaBR27b3W890TE7g24NAP/mMDXRWrGoFPQI9ls/MWO2dWFAar/xcOIImbbpA3zgAAAABJRU5ErkJggg==);\n",
       "        }\n",
       "    </style>\n",
       "    <div>\n",
       "        <a href=\"https://bokeh.org\" target=\"_blank\" class=\"bk-notebook-logo\"></a>\n",
       "        <span id=\"b2ed6ac9-bb99-4107-a19d-adc92154206e\">Loading BokehJS ...</span>\n",
       "    </div>\n"
      ]
     },
     "metadata": {},
     "output_type": "display_data"
    },
    {
     "data": {
      "application/javascript": "'use strict';\n(function(root) {\n  function now() {\n    return new Date();\n  }\n\n  const force = true;\n\n  if (typeof root._bokeh_onload_callbacks === \"undefined\" || force === true) {\n    root._bokeh_onload_callbacks = [];\n    root._bokeh_is_loading = undefined;\n  }\n\nconst JS_MIME_TYPE = 'application/javascript';\n  const HTML_MIME_TYPE = 'text/html';\n  const EXEC_MIME_TYPE = 'application/vnd.bokehjs_exec.v0+json';\n  const CLASS_NAME = 'output_bokeh rendered_html';\n\n  /**\n   * Render data to the DOM node\n   */\n  function render(props, node) {\n    const script = document.createElement(\"script\");\n    node.appendChild(script);\n  }\n\n  /**\n   * Handle when an output is cleared or removed\n   */\n  function handleClearOutput(event, handle) {\n    function drop(id) {\n      const view = Bokeh.index.get_by_id(id)\n      if (view != null) {\n        view.model.document.clear()\n        Bokeh.index.delete(view)\n      }\n    }\n\n    const cell = handle.cell;\n\n    const id = cell.output_area._bokeh_element_id;\n    const server_id = cell.output_area._bokeh_server_id;\n\n    // Clean up Bokeh references\n    if (id != null) {\n      drop(id)\n    }\n\n    if (server_id !== undefined) {\n      // Clean up Bokeh references\n      const cmd_clean = \"from bokeh.io.state import curstate; print(curstate().uuid_to_server['\" + server_id + \"'].get_sessions()[0].document.roots[0]._id)\";\n      cell.notebook.kernel.execute(cmd_clean, {\n        iopub: {\n          output: function(msg) {\n            const id = msg.content.text.trim()\n            drop(id)\n          }\n        }\n      });\n      // Destroy server and session\n      const cmd_destroy = \"import bokeh.io.notebook as ion; ion.destroy_server('\" + server_id + \"')\";\n      cell.notebook.kernel.execute(cmd_destroy);\n    }\n  }\n\n  /**\n   * Handle when a new output is added\n   */\n  function handleAddOutput(event, handle) {\n    const output_area = handle.output_area;\n    const output = handle.output;\n\n    // limit handleAddOutput to display_data with EXEC_MIME_TYPE content only\n    if ((output.output_type != \"display_data\") || (!Object.prototype.hasOwnProperty.call(output.data, EXEC_MIME_TYPE))) {\n      return\n    }\n\n    const toinsert = output_area.element.find(\".\" + CLASS_NAME.split(' ')[0]);\n\n    if (output.metadata[EXEC_MIME_TYPE][\"id\"] !== undefined) {\n      toinsert[toinsert.length - 1].firstChild.textContent = output.data[JS_MIME_TYPE];\n      // store reference to embed id on output_area\n      output_area._bokeh_element_id = output.metadata[EXEC_MIME_TYPE][\"id\"];\n    }\n    if (output.metadata[EXEC_MIME_TYPE][\"server_id\"] !== undefined) {\n      const bk_div = document.createElement(\"div\");\n      bk_div.innerHTML = output.data[HTML_MIME_TYPE];\n      const script_attrs = bk_div.children[0].attributes;\n      for (let i = 0; i < script_attrs.length; i++) {\n        toinsert[toinsert.length - 1].firstChild.setAttribute(script_attrs[i].name, script_attrs[i].value);\n        toinsert[toinsert.length - 1].firstChild.textContent = bk_div.children[0].textContent\n      }\n      // store reference to server id on output_area\n      output_area._bokeh_server_id = output.metadata[EXEC_MIME_TYPE][\"server_id\"];\n    }\n  }\n\n  function register_renderer(events, OutputArea) {\n\n    function append_mime(data, metadata, element) {\n      // create a DOM node to render to\n      const toinsert = this.create_output_subarea(\n        metadata,\n        CLASS_NAME,\n        EXEC_MIME_TYPE\n      );\n      this.keyboard_manager.register_events(toinsert);\n      // Render to node\n      const props = {data: data, metadata: metadata[EXEC_MIME_TYPE]};\n      render(props, toinsert[toinsert.length - 1]);\n      element.append(toinsert);\n      return toinsert\n    }\n\n    /* Handle when an output is cleared or removed */\n    events.on('clear_output.CodeCell', handleClearOutput);\n    events.on('delete.Cell', handleClearOutput);\n\n    /* Handle when a new output is added */\n    events.on('output_added.OutputArea', handleAddOutput);\n\n    /**\n     * Register the mime type and append_mime function with output_area\n     */\n    OutputArea.prototype.register_mime_type(EXEC_MIME_TYPE, append_mime, {\n      /* Is output safe? */\n      safe: true,\n      /* Index of renderer in `output_area.display_order` */\n      index: 0\n    });\n  }\n\n  // register the mime type if in Jupyter Notebook environment and previously unregistered\n  if (root.Jupyter !== undefined) {\n    const events = require('base/js/events');\n    const OutputArea = require('notebook/js/outputarea').OutputArea;\n\n    if (OutputArea.prototype.mime_types().indexOf(EXEC_MIME_TYPE) == -1) {\n      register_renderer(events, OutputArea);\n    }\n  }\n  if (typeof (root._bokeh_timeout) === \"undefined\" || force === true) {\n    root._bokeh_timeout = Date.now() + 5000;\n    root._bokeh_failed_load = false;\n  }\n\n  const NB_LOAD_WARNING = {'data': {'text/html':\n     \"<div style='background-color: #fdd'>\\n\"+\n     \"<p>\\n\"+\n     \"BokehJS does not appear to have successfully loaded. If loading BokehJS from CDN, this \\n\"+\n     \"may be due to a slow or bad network connection. Possible fixes:\\n\"+\n     \"</p>\\n\"+\n     \"<ul>\\n\"+\n     \"<li>re-rerun `output_notebook()` to attempt to load from CDN again, or</li>\\n\"+\n     \"<li>use INLINE resources instead, as so:</li>\\n\"+\n     \"</ul>\\n\"+\n     \"<code>\\n\"+\n     \"from bokeh.resources import INLINE\\n\"+\n     \"output_notebook(resources=INLINE)\\n\"+\n     \"</code>\\n\"+\n     \"</div>\"}};\n\n  function display_loaded(error = null) {\n    const el = document.getElementById(\"b2ed6ac9-bb99-4107-a19d-adc92154206e\");\n    if (el != null) {\n      const html = (() => {\n        if (typeof root.Bokeh === \"undefined\") {\n          if (error == null) {\n            return \"BokehJS is loading ...\";\n          } else {\n            return \"BokehJS failed to load.\";\n          }\n        } else {\n          const prefix = `BokehJS ${root.Bokeh.version}`;\n          if (error == null) {\n            return `${prefix} successfully loaded.`;\n          } else {\n            return `${prefix} <b>encountered errors</b> while loading and may not function as expected.`;\n          }\n        }\n      })();\n      el.innerHTML = html;\n\n      if (error != null) {\n        const wrapper = document.createElement(\"div\");\n        wrapper.style.overflow = \"auto\";\n        wrapper.style.height = \"5em\";\n        wrapper.style.resize = \"vertical\";\n        const content = document.createElement(\"div\");\n        content.style.fontFamily = \"monospace\";\n        content.style.whiteSpace = \"pre-wrap\";\n        content.style.backgroundColor = \"rgb(255, 221, 221)\";\n        content.textContent = error.stack ?? error.toString();\n        wrapper.append(content);\n        el.append(wrapper);\n      }\n    } else if (Date.now() < root._bokeh_timeout) {\n      setTimeout(() => display_loaded(error), 100);\n    }\n  }\n\n  function run_callbacks() {\n    try {\n      root._bokeh_onload_callbacks.forEach(function(callback) {\n        if (callback != null)\n          callback();\n      });\n    } finally {\n      delete root._bokeh_onload_callbacks\n    }\n    console.debug(\"Bokeh: all callbacks have finished\");\n  }\n\n  function load_libs(css_urls, js_urls, callback) {\n    if (css_urls == null) css_urls = [];\n    if (js_urls == null) js_urls = [];\n\n    root._bokeh_onload_callbacks.push(callback);\n    if (root._bokeh_is_loading > 0) {\n      console.debug(\"Bokeh: BokehJS is being loaded, scheduling callback at\", now());\n      return null;\n    }\n    if (js_urls == null || js_urls.length === 0) {\n      run_callbacks();\n      return null;\n    }\n    console.debug(\"Bokeh: BokehJS not loaded, scheduling load and callback at\", now());\n    root._bokeh_is_loading = css_urls.length + js_urls.length;\n\n    function on_load() {\n      root._bokeh_is_loading--;\n      if (root._bokeh_is_loading === 0) {\n        console.debug(\"Bokeh: all BokehJS libraries/stylesheets loaded\");\n        run_callbacks()\n      }\n    }\n\n    function on_error(url) {\n      console.error(\"failed to load \" + url);\n    }\n\n    for (let i = 0; i < css_urls.length; i++) {\n      const url = css_urls[i];\n      const element = document.createElement(\"link\");\n      element.onload = on_load;\n      element.onerror = on_error.bind(null, url);\n      element.rel = \"stylesheet\";\n      element.type = \"text/css\";\n      element.href = url;\n      console.debug(\"Bokeh: injecting link tag for BokehJS stylesheet: \", url);\n      document.body.appendChild(element);\n    }\n\n    for (let i = 0; i < js_urls.length; i++) {\n      const url = js_urls[i];\n      const element = document.createElement('script');\n      element.onload = on_load;\n      element.onerror = on_error.bind(null, url);\n      element.async = false;\n      element.src = url;\n      console.debug(\"Bokeh: injecting script tag for BokehJS library: \", url);\n      document.head.appendChild(element);\n    }\n  };\n\n  function inject_raw_css(css) {\n    const element = document.createElement(\"style\");\n    element.appendChild(document.createTextNode(css));\n    document.body.appendChild(element);\n  }\n\n  const js_urls = [\"https://cdn.bokeh.org/bokeh/release/bokeh-3.6.2.min.js\", \"https://cdn.bokeh.org/bokeh/release/bokeh-gl-3.6.2.min.js\", \"https://cdn.bokeh.org/bokeh/release/bokeh-widgets-3.6.2.min.js\", \"https://cdn.bokeh.org/bokeh/release/bokeh-tables-3.6.2.min.js\", \"https://cdn.bokeh.org/bokeh/release/bokeh-mathjax-3.6.2.min.js\"];\n  const css_urls = [];\n\n  const inline_js = [    function(Bokeh) {\n      Bokeh.set_log_level(\"info\");\n    },\nfunction(Bokeh) {\n    }\n  ];\n\n  function run_inline_js() {\n    if (root.Bokeh !== undefined || force === true) {\n      try {\n            for (let i = 0; i < inline_js.length; i++) {\n      inline_js[i].call(root, root.Bokeh);\n    }\n\n      } catch (error) {display_loaded(error);throw error;\n      }if (force === true) {\n        display_loaded();\n      }} else if (Date.now() < root._bokeh_timeout) {\n      setTimeout(run_inline_js, 100);\n    } else if (!root._bokeh_failed_load) {\n      console.log(\"Bokeh: BokehJS failed to load within specified timeout.\");\n      root._bokeh_failed_load = true;\n    } else if (force !== true) {\n      const cell = $(document.getElementById(\"b2ed6ac9-bb99-4107-a19d-adc92154206e\")).parents('.cell').data().cell;\n      cell.output_area.append_execute_result(NB_LOAD_WARNING)\n    }\n  }\n\n  if (root._bokeh_is_loading === 0) {\n    console.debug(\"Bokeh: BokehJS loaded, going straight to plotting\");\n    run_inline_js();\n  } else {\n    load_libs(css_urls, js_urls, function() {\n      console.debug(\"Bokeh: BokehJS plotting callback run at\", now());\n      run_inline_js();\n    });\n  }\n}(window));",
      "application/vnd.bokehjs_load.v0+json": ""
     },
     "metadata": {},
     "output_type": "display_data"
    },
    {
     "data": {
      "text/html": [
       "\n",
       "  <div id=\"b7430c84-b728-414f-922a-794af0b380a9\" data-root-id=\"p4471\" style=\"display: contents;\"></div>\n"
      ]
     },
     "metadata": {},
     "output_type": "display_data"
    },
    {
     "data": {
      "application/javascript": "(function(root) {\n  function embed_document(root) {\n  const docs_json = {\"c7bf44d5-3281-4725-8548-2d8c463e92e8\":{\"version\":\"3.6.2\",\"title\":\"Bokeh Application\",\"roots\":[{\"type\":\"object\",\"name\":\"Figure\",\"id\":\"p4471\",\"attributes\":{\"width\":900,\"height\":500,\"x_range\":{\"type\":\"object\",\"name\":\"FactorRange\",\"id\":\"p4481\",\"attributes\":{\"factors\":[\"2014\",\"2015\",\"2016\",\"2017\",\"2018\",\"2019\",\"2020\",\"2021\",\"2022\",\"2023\",\"2024\"]}},\"y_range\":{\"type\":\"object\",\"name\":\"DataRange1d\",\"id\":\"p4473\",\"attributes\":{\"start\":0}},\"x_scale\":{\"type\":\"object\",\"name\":\"CategoricalScale\",\"id\":\"p4482\"},\"y_scale\":{\"type\":\"object\",\"name\":\"LinearScale\",\"id\":\"p4483\"},\"title\":{\"type\":\"object\",\"name\":\"Title\",\"id\":\"p4474\",\"attributes\":{\"text\":\"Drug/Narcotic Crimes by SF Police District (2014\\u20132024)\",\"text_font_size\":\"14pt\"}},\"outline_line_color\":null,\"renderers\":[{\"type\":\"object\",\"name\":\"GlyphRenderer\",\"id\":\"p4532\",\"attributes\":{\"name\":\"TENDERLOIN\",\"data_source\":{\"type\":\"object\",\"name\":\"ColumnDataSource\",\"id\":\"p4468\",\"attributes\":{\"selected\":{\"type\":\"object\",\"name\":\"Selection\",\"id\":\"p4469\",\"attributes\":{\"indices\":[],\"line_indices\":[]}},\"selection_policy\":{\"type\":\"object\",\"name\":\"UnionRenderers\",\"id\":\"p4470\"},\"data\":{\"type\":\"map\",\"entries\":[[\"years\",[\"2014\",\"2015\",\"2016\",\"2017\",\"2018\",\"2019\",\"2020\",\"2021\",\"2022\",\"2023\",\"2024\"]],[\"TENDERLOIN\",{\"type\":\"ndarray\",\"array\":{\"type\":\"bytes\",\"data\":\"ivcjp/lazT8G0NgQVm/QP8JR/X3eJs0/B6jhQmuozD8qeDkFL6fcP/G2l7nCj9g/ZWOqSOoj4j+2GEvVFW/jPwfidyB+B+I/d4wG1+E94j+FBXQ71vTgPw==\"},\"shape\":[11],\"dtype\":\"float64\",\"order\":\"little\"}],[\"TENDERLOIN_value\",{\"type\":\"ndarray\",\"array\":{\"type\":\"bytes\",\"data\":\"xQQAADUEAAC9AwAA2wIAANsGAAA2BQAAbgUAABAFAAAfCAAAfQkAAHMIAAA=\"},\"shape\":[11],\"dtype\":\"int32\",\"order\":\"little\"}],[\"SOUTHERN\",{\"type\":\"ndarray\",\"array\":{\"type\":\"bytes\",\"data\":\"OLRN5C/dxj99RP/l5D3FPw9LOKq/z8s/sl2VT0mZzT9bZcMR057AP2ggKh3ZM8A/yxLXuYefuj8M5zfFXt+3P6pYnYrVqcg/J0WtDOklxT/2GEEBJpnDPw==\"},\"shape\":[11],\"dtype\":\"float64\",\"order\":\"little\"}],[\"SOUTHERN_value\",{\"type\":\"ndarray\",\"array\":{\"type\":\"bytes\",\"data\":\"twMAALgCAACRAwAA8wIAAP0BAAC4AQAA/wAAAMcAAADHAgAAwAIAAHECAAA=\"},\"shape\":[11],\"dtype\":\"int32\",\"order\":\"little\"}],[\"MISSION\",{\"type\":\"ndarray\",\"array\":{\"type\":\"bytes\",\"data\":\"4u5CzL5gwz+GxQ43zZ/DP4F9Uk9BSMM/kjZIJ8shwT/tiQyk9+fCP+WYBek1Fcg/d6dDBp3otz+tB6CvbDG2P8ByUYFsaq0/Bos+A4Kctz82Ga/s6S/CPw==\"},\"shape\":[11],\"dtype\":\"float64\",\"order\":\"little\"}],[\"MISSION_value\",{\"type\":\"ndarray\",\"array\":{\"type\":\"bytes\",\"data\":\"JgMAAIMCAAB5AgAAtQEAAEMCAACOAgAA5QAAALkAAADUAAAAiQEAAEQCAAA=\"},\"shape\":[11],\"dtype\":\"int32\",\"order\":\"little\"}],[\"NORTHERN\",{\"type\":\"ndarray\",\"array\":{\"type\":\"bytes\",\"data\":\"Kji0TeQvvT8ifS9rMtO+PyrOVCiB7L8/Y1FyzncIxD/Wh8b60FivPyy1JYDJxLQ/eYbm+DzWsz/qliFcgDuoPyk+QI2ufrM/W95vsu6fsj/ILetVq3quPw==\"},\"shape\":[11],\"dtype\":\"float64\",\"order\":\"little\"}],[\"NORTHERN_value\",{\"type\":\"ndarray\",\"array\":{\"type\":\"bytes\",\"data\":\"XwIAAPkBAAAMAgAA/wEAAPAAAAAaAQAAvgAAAGUAAAAZAQAANgEAAPMAAAA=\"},\"shape\":[11],\"dtype\":\"int32\",\"order\":\"little\"}],[\"BAYVIEW\",{\"type\":\"ndarray\",\"array\":{\"type\":\"bytes\",\"data\":\"GHuADEUDtT/q89JAfV66Py2/QwQJnrM/DKmUmOZDrj8VvJyCl1OgP8rElPti8KA/hww60a+/oT+il5iMIlCmP6MfLPrBop8/SqvZJUJ3kz+QEswNopSXPw==\"},\"shape\":[11],\"dtype\":\"float64\",\"order\":\"little\"}],[\"BAYVIEW_value\",{\"type\":\"ndarray\",\"array\":{\"type\":\"bytes\",\"data\":\"tQEAALABAABCAQAAwQAAAH0AAABzAAAAVQAAAF0AAAByAAAAUQAAAF4AAAA=\"},\"shape\":[11],\"dtype\":\"int32\",\"order\":\"little\"}],[\"PARK\",{\"type\":\"ndarray\",\"array\":{\"type\":\"bytes\",\"data\":\"PkCGooEqsT8NGCvPj0auP2/qDP7PobA/IKlTFfCKpD8/NNaHxvqgP3ZDfxAoGKY/KCA3zMs4mD+G+dBLTEaRP4q9QoPW3oI/J0WtDOklhT+VYSa+tBd7Pw==\"},\"shape\":[11],\"dtype\":\"float64\",\"order\":\"little\"}],[\"PARK_value\",{\"type\":\"ndarray\",\"array\":{\"type\":\"bytes\",\"data\":\"ZQEAAPgAAAARAQAAgwAAAIIAAACWAAAAOgAAACQAAAAiAAAALAAAABsAAAA=\"},\"shape\":[11],\"dtype\":\"int32\",\"order\":\"little\"}],[\"INGLESIDE\",{\"type\":\"ndarray\",\"array\":{\"type\":\"bytes\",\"data\":\"jnTWx0uyqz9m7wfveuGpP/AtSxugJqc/TxAwW7W3qT/s5rcQMEqlPzCZmHJfDJ4/vGZCTTuKkT8vN04uPYOXP/sTsD8B+5M/NCDIebG+kj91hZhAJU+RPw==\"},\"shape\":[11],\"dtype\":\"float64\",\"order\":\"little\"}],[\"INGLESIDE_value\",{\"type\":\"ndarray\",\"array\":{\"type\":\"bytes\",\"data\":\"IAEAANQAAAC+AAAApAAAAKMAAABmAAAAKgAAADEAAABIAAAATgAAAEUAAAA=\"},\"shape\":[11],\"dtype\":\"int32\",\"order\":\"little\"}],[\"CENTRAL\",{\"type\":\"ndarray\",\"array\":{\"type\":\"bytes\",\"data\":\"9NOGsQfIsD/h6jydeGSpP6isewXnOKk/6eIyN0ANpz9CHdRBHdSxP+MmzO9qcbM/QG6Yl3EwrD8GNemcVkWtP7sStStRu6I/OHhDmZVOpD8e2WV0YLeqPw==\"},\"shape\":[11],\"dtype\":\"float64\",\"order\":\"little\"}],[\"CENTRAL_value\",{\"type\":\"ndarray\",\"array\":{\"type\":\"bytes\",\"data\":\"XQEAANAAAADPAAAAkwAAABEBAAAIAQAAhwAAAHoAAACHAAAAqQAAANUAAAA=\"},\"shape\":[11],\"dtype\":\"int32\",\"order\":\"little\"}],[\"TARAVAL\",{\"type\":\"ndarray\",\"array\":{\"type\":\"bytes\",\"data\":\"RQjX1tFPmz/z/GjkgVibPwMO+XRAE5o/nPcq3AhPoD+xm99CwCiVPy4BTCam3Jc/KCA3zMs4iD/YdMsQLsCNP2p09ZusFH8/fnHzvCsIeD9BuBv7HpGDPw==\"},\"shape\":[11],\"dtype\":\"float64\",\"order\":\"little\"}],[\"TARAVAL_value\",{\"type\":\"ndarray\",\"array\":{\"type\":\"bytes\",\"data\":\"jgAAAHAAAABrAAAAaAAAAFEAAABRAAAAHQAAAB8AAAAcAAAAGQAAACcAAAA=\"},\"shape\":[11],\"dtype\":\"int32\",\"order\":\"little\"}],[\"RICHMOND\",{\"type\":\"ndarray\",\"array\":{\"type\":\"bytes\",\"data\":\"shvQIontnz+IE2B9jcmNPyaLouJMhZI/ixiHhZnanD8/NNaHxvqQP+hWZYjd0I8/+IN0NYBJkD8V+OLqBx2FP6QaQKoBpHo/1J05bW7qej+9jn5Hdhl9Pw==\"},\"shape\":[11],\"dtype\":\"float64\",\"order\":\"little\"}],[\"RICHMOND_value\",{\"type\":\"ndarray\",\"array\":{\"type\":\"bytes\",\"data\":\"pgAAAD0AAABMAAAAXAAAAEEAAAA2AAAAJwAAABYAAAAYAAAAHAAAAB0AAAA=\"},\"shape\":[11],\"dtype\":\"int32\",\"order\":\"little\"}]]}}},\"view\":{\"type\":\"object\",\"name\":\"CDSView\",\"id\":\"p4533\",\"attributes\":{\"filter\":{\"type\":\"object\",\"name\":\"AllIndices\",\"id\":\"p4534\"}}},\"glyph\":{\"type\":\"object\",\"name\":\"VBar\",\"id\":\"p4529\",\"attributes\":{\"x\":{\"type\":\"field\",\"field\":\"years\"},\"width\":{\"type\":\"value\",\"value\":0.9},\"bottom\":{\"type\":\"expr\",\"expr\":{\"type\":\"object\",\"name\":\"Stack\",\"id\":\"p4506\",\"attributes\":{\"fields\":[]}}},\"top\":{\"type\":\"expr\",\"expr\":{\"type\":\"object\",\"name\":\"Stack\",\"id\":\"p4507\",\"attributes\":{\"fields\":[\"TENDERLOIN\"]}}},\"line_color\":{\"type\":\"value\",\"value\":\"#3b4d52\"},\"fill_color\":{\"type\":\"value\",\"value\":\"#3b4d52\"},\"hatch_color\":{\"type\":\"value\",\"value\":\"#3b4d52\"}}},\"nonselection_glyph\":{\"type\":\"object\",\"name\":\"VBar\",\"id\":\"p4530\",\"attributes\":{\"x\":{\"type\":\"field\",\"field\":\"years\"},\"width\":{\"type\":\"value\",\"value\":0.9},\"bottom\":{\"type\":\"expr\",\"expr\":{\"id\":\"p4506\"}},\"top\":{\"type\":\"expr\",\"expr\":{\"id\":\"p4507\"}},\"line_color\":{\"type\":\"value\",\"value\":\"#3b4d52\"},\"line_alpha\":{\"type\":\"value\",\"value\":0.1},\"fill_color\":{\"type\":\"value\",\"value\":\"#3b4d52\"},\"fill_alpha\":{\"type\":\"value\",\"value\":0.1},\"hatch_color\":{\"type\":\"value\",\"value\":\"#3b4d52\"},\"hatch_alpha\":{\"type\":\"value\",\"value\":0.1}}},\"muted_glyph\":{\"type\":\"object\",\"name\":\"VBar\",\"id\":\"p4531\",\"attributes\":{\"x\":{\"type\":\"field\",\"field\":\"years\"},\"width\":{\"type\":\"value\",\"value\":0.9},\"bottom\":{\"type\":\"expr\",\"expr\":{\"id\":\"p4506\"}},\"top\":{\"type\":\"expr\",\"expr\":{\"id\":\"p4507\"}},\"line_color\":{\"type\":\"value\",\"value\":\"#3b4d52\"},\"line_alpha\":{\"type\":\"value\",\"value\":0.2},\"fill_color\":{\"type\":\"value\",\"value\":\"#3b4d52\"},\"fill_alpha\":{\"type\":\"value\",\"value\":0.2},\"hatch_color\":{\"type\":\"value\",\"value\":\"#3b4d52\"},\"hatch_alpha\":{\"type\":\"value\",\"value\":0.2}}}}},{\"type\":\"object\",\"name\":\"GlyphRenderer\",\"id\":\"p4543\",\"attributes\":{\"name\":\"SOUTHERN\",\"data_source\":{\"id\":\"p4468\"},\"view\":{\"type\":\"object\",\"name\":\"CDSView\",\"id\":\"p4544\",\"attributes\":{\"filter\":{\"type\":\"object\",\"name\":\"AllIndices\",\"id\":\"p4545\"}}},\"glyph\":{\"type\":\"object\",\"name\":\"VBar\",\"id\":\"p4540\",\"attributes\":{\"x\":{\"type\":\"field\",\"field\":\"years\"},\"width\":{\"type\":\"value\",\"value\":0.9},\"bottom\":{\"type\":\"expr\",\"expr\":{\"type\":\"object\",\"name\":\"Stack\",\"id\":\"p4508\",\"attributes\":{\"fields\":[\"TENDERLOIN\"]}}},\"top\":{\"type\":\"expr\",\"expr\":{\"type\":\"object\",\"name\":\"Stack\",\"id\":\"p4509\",\"attributes\":{\"fields\":[\"TENDERLOIN\",\"SOUTHERN\"]}}},\"line_color\":{\"type\":\"value\",\"value\":\"#4a7976\"},\"fill_color\":{\"type\":\"value\",\"value\":\"#4a7976\"},\"hatch_color\":{\"type\":\"value\",\"value\":\"#4a7976\"}}},\"nonselection_glyph\":{\"type\":\"object\",\"name\":\"VBar\",\"id\":\"p4541\",\"attributes\":{\"x\":{\"type\":\"field\",\"field\":\"years\"},\"width\":{\"type\":\"value\",\"value\":0.9},\"bottom\":{\"type\":\"expr\",\"expr\":{\"id\":\"p4508\"}},\"top\":{\"type\":\"expr\",\"expr\":{\"id\":\"p4509\"}},\"line_color\":{\"type\":\"value\",\"value\":\"#4a7976\"},\"line_alpha\":{\"type\":\"value\",\"value\":0.1},\"fill_color\":{\"type\":\"value\",\"value\":\"#4a7976\"},\"fill_alpha\":{\"type\":\"value\",\"value\":0.1},\"hatch_color\":{\"type\":\"value\",\"value\":\"#4a7976\"},\"hatch_alpha\":{\"type\":\"value\",\"value\":0.1}}},\"muted_glyph\":{\"type\":\"object\",\"name\":\"VBar\",\"id\":\"p4542\",\"attributes\":{\"x\":{\"type\":\"field\",\"field\":\"years\"},\"width\":{\"type\":\"value\",\"value\":0.9},\"bottom\":{\"type\":\"expr\",\"expr\":{\"id\":\"p4508\"}},\"top\":{\"type\":\"expr\",\"expr\":{\"id\":\"p4509\"}},\"line_color\":{\"type\":\"value\",\"value\":\"#4a7976\"},\"line_alpha\":{\"type\":\"value\",\"value\":0.2},\"fill_color\":{\"type\":\"value\",\"value\":\"#4a7976\"},\"fill_alpha\":{\"type\":\"value\",\"value\":0.2},\"hatch_color\":{\"type\":\"value\",\"value\":\"#4a7976\"},\"hatch_alpha\":{\"type\":\"value\",\"value\":0.2}}}}},{\"type\":\"object\",\"name\":\"GlyphRenderer\",\"id\":\"p4553\",\"attributes\":{\"name\":\"MISSION\",\"data_source\":{\"id\":\"p4468\"},\"view\":{\"type\":\"object\",\"name\":\"CDSView\",\"id\":\"p4554\",\"attributes\":{\"filter\":{\"type\":\"object\",\"name\":\"AllIndices\",\"id\":\"p4555\"}}},\"glyph\":{\"type\":\"object\",\"name\":\"VBar\",\"id\":\"p4550\",\"attributes\":{\"x\":{\"type\":\"field\",\"field\":\"years\"},\"width\":{\"type\":\"value\",\"value\":0.9},\"bottom\":{\"type\":\"expr\",\"expr\":{\"type\":\"object\",\"name\":\"Stack\",\"id\":\"p4510\",\"attributes\":{\"fields\":[\"TENDERLOIN\",\"SOUTHERN\"]}}},\"top\":{\"type\":\"expr\",\"expr\":{\"type\":\"object\",\"name\":\"Stack\",\"id\":\"p4511\",\"attributes\":{\"fields\":[\"TENDERLOIN\",\"SOUTHERN\",\"MISSION\"]}}},\"line_color\":{\"type\":\"value\",\"value\":\"#b66e52\"},\"fill_color\":{\"type\":\"value\",\"value\":\"#b66e52\"},\"hatch_color\":{\"type\":\"value\",\"value\":\"#b66e52\"}}},\"nonselection_glyph\":{\"type\":\"object\",\"name\":\"VBar\",\"id\":\"p4551\",\"attributes\":{\"x\":{\"type\":\"field\",\"field\":\"years\"},\"width\":{\"type\":\"value\",\"value\":0.9},\"bottom\":{\"type\":\"expr\",\"expr\":{\"id\":\"p4510\"}},\"top\":{\"type\":\"expr\",\"expr\":{\"id\":\"p4511\"}},\"line_color\":{\"type\":\"value\",\"value\":\"#b66e52\"},\"line_alpha\":{\"type\":\"value\",\"value\":0.1},\"fill_color\":{\"type\":\"value\",\"value\":\"#b66e52\"},\"fill_alpha\":{\"type\":\"value\",\"value\":0.1},\"hatch_color\":{\"type\":\"value\",\"value\":\"#b66e52\"},\"hatch_alpha\":{\"type\":\"value\",\"value\":0.1}}},\"muted_glyph\":{\"type\":\"object\",\"name\":\"VBar\",\"id\":\"p4552\",\"attributes\":{\"x\":{\"type\":\"field\",\"field\":\"years\"},\"width\":{\"type\":\"value\",\"value\":0.9},\"bottom\":{\"type\":\"expr\",\"expr\":{\"id\":\"p4510\"}},\"top\":{\"type\":\"expr\",\"expr\":{\"id\":\"p4511\"}},\"line_color\":{\"type\":\"value\",\"value\":\"#b66e52\"},\"line_alpha\":{\"type\":\"value\",\"value\":0.2},\"fill_color\":{\"type\":\"value\",\"value\":\"#b66e52\"},\"fill_alpha\":{\"type\":\"value\",\"value\":0.2},\"hatch_color\":{\"type\":\"value\",\"value\":\"#b66e52\"},\"hatch_alpha\":{\"type\":\"value\",\"value\":0.2}}}}},{\"type\":\"object\",\"name\":\"GlyphRenderer\",\"id\":\"p4563\",\"attributes\":{\"name\":\"NORTHERN\",\"data_source\":{\"id\":\"p4468\"},\"view\":{\"type\":\"object\",\"name\":\"CDSView\",\"id\":\"p4564\",\"attributes\":{\"filter\":{\"type\":\"object\",\"name\":\"AllIndices\",\"id\":\"p4565\"}}},\"glyph\":{\"type\":\"object\",\"name\":\"VBar\",\"id\":\"p4560\",\"attributes\":{\"x\":{\"type\":\"field\",\"field\":\"years\"},\"width\":{\"type\":\"value\",\"value\":0.9},\"bottom\":{\"type\":\"expr\",\"expr\":{\"type\":\"object\",\"name\":\"Stack\",\"id\":\"p4512\",\"attributes\":{\"fields\":[\"TENDERLOIN\",\"SOUTHERN\",\"MISSION\"]}}},\"top\":{\"type\":\"expr\",\"expr\":{\"type\":\"object\",\"name\":\"Stack\",\"id\":\"p4513\",\"attributes\":{\"fields\":[\"TENDERLOIN\",\"SOUTHERN\",\"MISSION\",\"NORTHERN\"]}}},\"line_color\":{\"type\":\"value\",\"value\":\"#78849e\"},\"fill_color\":{\"type\":\"value\",\"value\":\"#78849e\"},\"hatch_color\":{\"type\":\"value\",\"value\":\"#78849e\"}}},\"nonselection_glyph\":{\"type\":\"object\",\"name\":\"VBar\",\"id\":\"p4561\",\"attributes\":{\"x\":{\"type\":\"field\",\"field\":\"years\"},\"width\":{\"type\":\"value\",\"value\":0.9},\"bottom\":{\"type\":\"expr\",\"expr\":{\"id\":\"p4512\"}},\"top\":{\"type\":\"expr\",\"expr\":{\"id\":\"p4513\"}},\"line_color\":{\"type\":\"value\",\"value\":\"#78849e\"},\"line_alpha\":{\"type\":\"value\",\"value\":0.1},\"fill_color\":{\"type\":\"value\",\"value\":\"#78849e\"},\"fill_alpha\":{\"type\":\"value\",\"value\":0.1},\"hatch_color\":{\"type\":\"value\",\"value\":\"#78849e\"},\"hatch_alpha\":{\"type\":\"value\",\"value\":0.1}}},\"muted_glyph\":{\"type\":\"object\",\"name\":\"VBar\",\"id\":\"p4562\",\"attributes\":{\"x\":{\"type\":\"field\",\"field\":\"years\"},\"width\":{\"type\":\"value\",\"value\":0.9},\"bottom\":{\"type\":\"expr\",\"expr\":{\"id\":\"p4512\"}},\"top\":{\"type\":\"expr\",\"expr\":{\"id\":\"p4513\"}},\"line_color\":{\"type\":\"value\",\"value\":\"#78849e\"},\"line_alpha\":{\"type\":\"value\",\"value\":0.2},\"fill_color\":{\"type\":\"value\",\"value\":\"#78849e\"},\"fill_alpha\":{\"type\":\"value\",\"value\":0.2},\"hatch_color\":{\"type\":\"value\",\"value\":\"#78849e\"},\"hatch_alpha\":{\"type\":\"value\",\"value\":0.2}}}}},{\"type\":\"object\",\"name\":\"GlyphRenderer\",\"id\":\"p4573\",\"attributes\":{\"name\":\"BAYVIEW\",\"data_source\":{\"id\":\"p4468\"},\"view\":{\"type\":\"object\",\"name\":\"CDSView\",\"id\":\"p4574\",\"attributes\":{\"filter\":{\"type\":\"object\",\"name\":\"AllIndices\",\"id\":\"p4575\"}}},\"glyph\":{\"type\":\"object\",\"name\":\"VBar\",\"id\":\"p4570\",\"attributes\":{\"x\":{\"type\":\"field\",\"field\":\"years\"},\"width\":{\"type\":\"value\",\"value\":0.9},\"bottom\":{\"type\":\"expr\",\"expr\":{\"type\":\"object\",\"name\":\"Stack\",\"id\":\"p4514\",\"attributes\":{\"fields\":[\"TENDERLOIN\",\"SOUTHERN\",\"MISSION\",\"NORTHERN\"]}}},\"top\":{\"type\":\"expr\",\"expr\":{\"type\":\"object\",\"name\":\"Stack\",\"id\":\"p4515\",\"attributes\":{\"fields\":[\"TENDERLOIN\",\"SOUTHERN\",\"MISSION\",\"NORTHERN\",\"BAYVIEW\"]}}},\"line_color\":{\"type\":\"value\",\"value\":\"#d4bfa9\"},\"fill_color\":{\"type\":\"value\",\"value\":\"#d4bfa9\"},\"hatch_color\":{\"type\":\"value\",\"value\":\"#d4bfa9\"}}},\"nonselection_glyph\":{\"type\":\"object\",\"name\":\"VBar\",\"id\":\"p4571\",\"attributes\":{\"x\":{\"type\":\"field\",\"field\":\"years\"},\"width\":{\"type\":\"value\",\"value\":0.9},\"bottom\":{\"type\":\"expr\",\"expr\":{\"id\":\"p4514\"}},\"top\":{\"type\":\"expr\",\"expr\":{\"id\":\"p4515\"}},\"line_color\":{\"type\":\"value\",\"value\":\"#d4bfa9\"},\"line_alpha\":{\"type\":\"value\",\"value\":0.1},\"fill_color\":{\"type\":\"value\",\"value\":\"#d4bfa9\"},\"fill_alpha\":{\"type\":\"value\",\"value\":0.1},\"hatch_color\":{\"type\":\"value\",\"value\":\"#d4bfa9\"},\"hatch_alpha\":{\"type\":\"value\",\"value\":0.1}}},\"muted_glyph\":{\"type\":\"object\",\"name\":\"VBar\",\"id\":\"p4572\",\"attributes\":{\"x\":{\"type\":\"field\",\"field\":\"years\"},\"width\":{\"type\":\"value\",\"value\":0.9},\"bottom\":{\"type\":\"expr\",\"expr\":{\"id\":\"p4514\"}},\"top\":{\"type\":\"expr\",\"expr\":{\"id\":\"p4515\"}},\"line_color\":{\"type\":\"value\",\"value\":\"#d4bfa9\"},\"line_alpha\":{\"type\":\"value\",\"value\":0.2},\"fill_color\":{\"type\":\"value\",\"value\":\"#d4bfa9\"},\"fill_alpha\":{\"type\":\"value\",\"value\":0.2},\"hatch_color\":{\"type\":\"value\",\"value\":\"#d4bfa9\"},\"hatch_alpha\":{\"type\":\"value\",\"value\":0.2}}}}},{\"type\":\"object\",\"name\":\"GlyphRenderer\",\"id\":\"p4583\",\"attributes\":{\"name\":\"PARK\",\"data_source\":{\"id\":\"p4468\"},\"view\":{\"type\":\"object\",\"name\":\"CDSView\",\"id\":\"p4584\",\"attributes\":{\"filter\":{\"type\":\"object\",\"name\":\"AllIndices\",\"id\":\"p4585\"}}},\"glyph\":{\"type\":\"object\",\"name\":\"VBar\",\"id\":\"p4580\",\"attributes\":{\"x\":{\"type\":\"field\",\"field\":\"years\"},\"width\":{\"type\":\"value\",\"value\":0.9},\"bottom\":{\"type\":\"expr\",\"expr\":{\"type\":\"object\",\"name\":\"Stack\",\"id\":\"p4516\",\"attributes\":{\"fields\":[\"TENDERLOIN\",\"SOUTHERN\",\"MISSION\",\"NORTHERN\",\"BAYVIEW\"]}}},\"top\":{\"type\":\"expr\",\"expr\":{\"type\":\"object\",\"name\":\"Stack\",\"id\":\"p4517\",\"attributes\":{\"fields\":[\"TENDERLOIN\",\"SOUTHERN\",\"MISSION\",\"NORTHERN\",\"BAYVIEW\",\"PARK\"]}}},\"line_color\":{\"type\":\"value\",\"value\":\"#c1c6b9\"},\"fill_color\":{\"type\":\"value\",\"value\":\"#c1c6b9\"},\"hatch_color\":{\"type\":\"value\",\"value\":\"#c1c6b9\"}}},\"nonselection_glyph\":{\"type\":\"object\",\"name\":\"VBar\",\"id\":\"p4581\",\"attributes\":{\"x\":{\"type\":\"field\",\"field\":\"years\"},\"width\":{\"type\":\"value\",\"value\":0.9},\"bottom\":{\"type\":\"expr\",\"expr\":{\"id\":\"p4516\"}},\"top\":{\"type\":\"expr\",\"expr\":{\"id\":\"p4517\"}},\"line_color\":{\"type\":\"value\",\"value\":\"#c1c6b9\"},\"line_alpha\":{\"type\":\"value\",\"value\":0.1},\"fill_color\":{\"type\":\"value\",\"value\":\"#c1c6b9\"},\"fill_alpha\":{\"type\":\"value\",\"value\":0.1},\"hatch_color\":{\"type\":\"value\",\"value\":\"#c1c6b9\"},\"hatch_alpha\":{\"type\":\"value\",\"value\":0.1}}},\"muted_glyph\":{\"type\":\"object\",\"name\":\"VBar\",\"id\":\"p4582\",\"attributes\":{\"x\":{\"type\":\"field\",\"field\":\"years\"},\"width\":{\"type\":\"value\",\"value\":0.9},\"bottom\":{\"type\":\"expr\",\"expr\":{\"id\":\"p4516\"}},\"top\":{\"type\":\"expr\",\"expr\":{\"id\":\"p4517\"}},\"line_color\":{\"type\":\"value\",\"value\":\"#c1c6b9\"},\"line_alpha\":{\"type\":\"value\",\"value\":0.2},\"fill_color\":{\"type\":\"value\",\"value\":\"#c1c6b9\"},\"fill_alpha\":{\"type\":\"value\",\"value\":0.2},\"hatch_color\":{\"type\":\"value\",\"value\":\"#c1c6b9\"},\"hatch_alpha\":{\"type\":\"value\",\"value\":0.2}}}}},{\"type\":\"object\",\"name\":\"GlyphRenderer\",\"id\":\"p4593\",\"attributes\":{\"name\":\"INGLESIDE\",\"data_source\":{\"id\":\"p4468\"},\"view\":{\"type\":\"object\",\"name\":\"CDSView\",\"id\":\"p4594\",\"attributes\":{\"filter\":{\"type\":\"object\",\"name\":\"AllIndices\",\"id\":\"p4595\"}}},\"glyph\":{\"type\":\"object\",\"name\":\"VBar\",\"id\":\"p4590\",\"attributes\":{\"x\":{\"type\":\"field\",\"field\":\"years\"},\"width\":{\"type\":\"value\",\"value\":0.9},\"bottom\":{\"type\":\"expr\",\"expr\":{\"type\":\"object\",\"name\":\"Stack\",\"id\":\"p4518\",\"attributes\":{\"fields\":[\"TENDERLOIN\",\"SOUTHERN\",\"MISSION\",\"NORTHERN\",\"BAYVIEW\",\"PARK\"]}}},\"top\":{\"type\":\"expr\",\"expr\":{\"type\":\"object\",\"name\":\"Stack\",\"id\":\"p4519\",\"attributes\":{\"fields\":[\"TENDERLOIN\",\"SOUTHERN\",\"MISSION\",\"NORTHERN\",\"BAYVIEW\",\"PARK\",\"INGLESIDE\"]}}},\"line_color\":{\"type\":\"value\",\"value\":\"#aabec2\"},\"fill_color\":{\"type\":\"value\",\"value\":\"#aabec2\"},\"hatch_color\":{\"type\":\"value\",\"value\":\"#aabec2\"}}},\"nonselection_glyph\":{\"type\":\"object\",\"name\":\"VBar\",\"id\":\"p4591\",\"attributes\":{\"x\":{\"type\":\"field\",\"field\":\"years\"},\"width\":{\"type\":\"value\",\"value\":0.9},\"bottom\":{\"type\":\"expr\",\"expr\":{\"id\":\"p4518\"}},\"top\":{\"type\":\"expr\",\"expr\":{\"id\":\"p4519\"}},\"line_color\":{\"type\":\"value\",\"value\":\"#aabec2\"},\"line_alpha\":{\"type\":\"value\",\"value\":0.1},\"fill_color\":{\"type\":\"value\",\"value\":\"#aabec2\"},\"fill_alpha\":{\"type\":\"value\",\"value\":0.1},\"hatch_color\":{\"type\":\"value\",\"value\":\"#aabec2\"},\"hatch_alpha\":{\"type\":\"value\",\"value\":0.1}}},\"muted_glyph\":{\"type\":\"object\",\"name\":\"VBar\",\"id\":\"p4592\",\"attributes\":{\"x\":{\"type\":\"field\",\"field\":\"years\"},\"width\":{\"type\":\"value\",\"value\":0.9},\"bottom\":{\"type\":\"expr\",\"expr\":{\"id\":\"p4518\"}},\"top\":{\"type\":\"expr\",\"expr\":{\"id\":\"p4519\"}},\"line_color\":{\"type\":\"value\",\"value\":\"#aabec2\"},\"line_alpha\":{\"type\":\"value\",\"value\":0.2},\"fill_color\":{\"type\":\"value\",\"value\":\"#aabec2\"},\"fill_alpha\":{\"type\":\"value\",\"value\":0.2},\"hatch_color\":{\"type\":\"value\",\"value\":\"#aabec2\"},\"hatch_alpha\":{\"type\":\"value\",\"value\":0.2}}}}},{\"type\":\"object\",\"name\":\"GlyphRenderer\",\"id\":\"p4603\",\"attributes\":{\"name\":\"CENTRAL\",\"data_source\":{\"id\":\"p4468\"},\"view\":{\"type\":\"object\",\"name\":\"CDSView\",\"id\":\"p4604\",\"attributes\":{\"filter\":{\"type\":\"object\",\"name\":\"AllIndices\",\"id\":\"p4605\"}}},\"glyph\":{\"type\":\"object\",\"name\":\"VBar\",\"id\":\"p4600\",\"attributes\":{\"x\":{\"type\":\"field\",\"field\":\"years\"},\"width\":{\"type\":\"value\",\"value\":0.9},\"bottom\":{\"type\":\"expr\",\"expr\":{\"type\":\"object\",\"name\":\"Stack\",\"id\":\"p4520\",\"attributes\":{\"fields\":[\"TENDERLOIN\",\"SOUTHERN\",\"MISSION\",\"NORTHERN\",\"BAYVIEW\",\"PARK\",\"INGLESIDE\"]}}},\"top\":{\"type\":\"expr\",\"expr\":{\"type\":\"object\",\"name\":\"Stack\",\"id\":\"p4521\",\"attributes\":{\"fields\":[\"TENDERLOIN\",\"SOUTHERN\",\"MISSION\",\"NORTHERN\",\"BAYVIEW\",\"PARK\",\"INGLESIDE\",\"CENTRAL\"]}}},\"line_color\":{\"type\":\"value\",\"value\":\"#c8bcb0\"},\"fill_color\":{\"type\":\"value\",\"value\":\"#c8bcb0\"},\"hatch_color\":{\"type\":\"value\",\"value\":\"#c8bcb0\"}}},\"nonselection_glyph\":{\"type\":\"object\",\"name\":\"VBar\",\"id\":\"p4601\",\"attributes\":{\"x\":{\"type\":\"field\",\"field\":\"years\"},\"width\":{\"type\":\"value\",\"value\":0.9},\"bottom\":{\"type\":\"expr\",\"expr\":{\"id\":\"p4520\"}},\"top\":{\"type\":\"expr\",\"expr\":{\"id\":\"p4521\"}},\"line_color\":{\"type\":\"value\",\"value\":\"#c8bcb0\"},\"line_alpha\":{\"type\":\"value\",\"value\":0.1},\"fill_color\":{\"type\":\"value\",\"value\":\"#c8bcb0\"},\"fill_alpha\":{\"type\":\"value\",\"value\":0.1},\"hatch_color\":{\"type\":\"value\",\"value\":\"#c8bcb0\"},\"hatch_alpha\":{\"type\":\"value\",\"value\":0.1}}},\"muted_glyph\":{\"type\":\"object\",\"name\":\"VBar\",\"id\":\"p4602\",\"attributes\":{\"x\":{\"type\":\"field\",\"field\":\"years\"},\"width\":{\"type\":\"value\",\"value\":0.9},\"bottom\":{\"type\":\"expr\",\"expr\":{\"id\":\"p4520\"}},\"top\":{\"type\":\"expr\",\"expr\":{\"id\":\"p4521\"}},\"line_color\":{\"type\":\"value\",\"value\":\"#c8bcb0\"},\"line_alpha\":{\"type\":\"value\",\"value\":0.2},\"fill_color\":{\"type\":\"value\",\"value\":\"#c8bcb0\"},\"fill_alpha\":{\"type\":\"value\",\"value\":0.2},\"hatch_color\":{\"type\":\"value\",\"value\":\"#c8bcb0\"},\"hatch_alpha\":{\"type\":\"value\",\"value\":0.2}}}}},{\"type\":\"object\",\"name\":\"GlyphRenderer\",\"id\":\"p4613\",\"attributes\":{\"name\":\"TARAVAL\",\"data_source\":{\"id\":\"p4468\"},\"view\":{\"type\":\"object\",\"name\":\"CDSView\",\"id\":\"p4614\",\"attributes\":{\"filter\":{\"type\":\"object\",\"name\":\"AllIndices\",\"id\":\"p4615\"}}},\"glyph\":{\"type\":\"object\",\"name\":\"VBar\",\"id\":\"p4610\",\"attributes\":{\"x\":{\"type\":\"field\",\"field\":\"years\"},\"width\":{\"type\":\"value\",\"value\":0.9},\"bottom\":{\"type\":\"expr\",\"expr\":{\"type\":\"object\",\"name\":\"Stack\",\"id\":\"p4522\",\"attributes\":{\"fields\":[\"TENDERLOIN\",\"SOUTHERN\",\"MISSION\",\"NORTHERN\",\"BAYVIEW\",\"PARK\",\"INGLESIDE\",\"CENTRAL\"]}}},\"top\":{\"type\":\"expr\",\"expr\":{\"type\":\"object\",\"name\":\"Stack\",\"id\":\"p4523\",\"attributes\":{\"fields\":[\"TENDERLOIN\",\"SOUTHERN\",\"MISSION\",\"NORTHERN\",\"BAYVIEW\",\"PARK\",\"INGLESIDE\",\"CENTRAL\",\"TARAVAL\"]}}},\"line_color\":{\"type\":\"value\",\"value\":\"#d5cec6\"},\"fill_color\":{\"type\":\"value\",\"value\":\"#d5cec6\"},\"hatch_color\":{\"type\":\"value\",\"value\":\"#d5cec6\"}}},\"nonselection_glyph\":{\"type\":\"object\",\"name\":\"VBar\",\"id\":\"p4611\",\"attributes\":{\"x\":{\"type\":\"field\",\"field\":\"years\"},\"width\":{\"type\":\"value\",\"value\":0.9},\"bottom\":{\"type\":\"expr\",\"expr\":{\"id\":\"p4522\"}},\"top\":{\"type\":\"expr\",\"expr\":{\"id\":\"p4523\"}},\"line_color\":{\"type\":\"value\",\"value\":\"#d5cec6\"},\"line_alpha\":{\"type\":\"value\",\"value\":0.1},\"fill_color\":{\"type\":\"value\",\"value\":\"#d5cec6\"},\"fill_alpha\":{\"type\":\"value\",\"value\":0.1},\"hatch_color\":{\"type\":\"value\",\"value\":\"#d5cec6\"},\"hatch_alpha\":{\"type\":\"value\",\"value\":0.1}}},\"muted_glyph\":{\"type\":\"object\",\"name\":\"VBar\",\"id\":\"p4612\",\"attributes\":{\"x\":{\"type\":\"field\",\"field\":\"years\"},\"width\":{\"type\":\"value\",\"value\":0.9},\"bottom\":{\"type\":\"expr\",\"expr\":{\"id\":\"p4522\"}},\"top\":{\"type\":\"expr\",\"expr\":{\"id\":\"p4523\"}},\"line_color\":{\"type\":\"value\",\"value\":\"#d5cec6\"},\"line_alpha\":{\"type\":\"value\",\"value\":0.2},\"fill_color\":{\"type\":\"value\",\"value\":\"#d5cec6\"},\"fill_alpha\":{\"type\":\"value\",\"value\":0.2},\"hatch_color\":{\"type\":\"value\",\"value\":\"#d5cec6\"},\"hatch_alpha\":{\"type\":\"value\",\"value\":0.2}}}}},{\"type\":\"object\",\"name\":\"GlyphRenderer\",\"id\":\"p4623\",\"attributes\":{\"name\":\"RICHMOND\",\"data_source\":{\"id\":\"p4468\"},\"view\":{\"type\":\"object\",\"name\":\"CDSView\",\"id\":\"p4624\",\"attributes\":{\"filter\":{\"type\":\"object\",\"name\":\"AllIndices\",\"id\":\"p4625\"}}},\"glyph\":{\"type\":\"object\",\"name\":\"VBar\",\"id\":\"p4620\",\"attributes\":{\"x\":{\"type\":\"field\",\"field\":\"years\"},\"width\":{\"type\":\"value\",\"value\":0.9},\"bottom\":{\"type\":\"expr\",\"expr\":{\"type\":\"object\",\"name\":\"Stack\",\"id\":\"p4524\",\"attributes\":{\"fields\":[\"TENDERLOIN\",\"SOUTHERN\",\"MISSION\",\"NORTHERN\",\"BAYVIEW\",\"PARK\",\"INGLESIDE\",\"CENTRAL\",\"TARAVAL\"]}}},\"top\":{\"type\":\"expr\",\"expr\":{\"type\":\"object\",\"name\":\"Stack\",\"id\":\"p4525\",\"attributes\":{\"fields\":[\"TENDERLOIN\",\"SOUTHERN\",\"MISSION\",\"NORTHERN\",\"BAYVIEW\",\"PARK\",\"INGLESIDE\",\"CENTRAL\",\"TARAVAL\",\"RICHMOND\"]}}},\"line_color\":{\"type\":\"value\",\"value\":\"#bfb8ad\"},\"fill_color\":{\"type\":\"value\",\"value\":\"#bfb8ad\"},\"hatch_color\":{\"type\":\"value\",\"value\":\"#bfb8ad\"}}},\"nonselection_glyph\":{\"type\":\"object\",\"name\":\"VBar\",\"id\":\"p4621\",\"attributes\":{\"x\":{\"type\":\"field\",\"field\":\"years\"},\"width\":{\"type\":\"value\",\"value\":0.9},\"bottom\":{\"type\":\"expr\",\"expr\":{\"id\":\"p4524\"}},\"top\":{\"type\":\"expr\",\"expr\":{\"id\":\"p4525\"}},\"line_color\":{\"type\":\"value\",\"value\":\"#bfb8ad\"},\"line_alpha\":{\"type\":\"value\",\"value\":0.1},\"fill_color\":{\"type\":\"value\",\"value\":\"#bfb8ad\"},\"fill_alpha\":{\"type\":\"value\",\"value\":0.1},\"hatch_color\":{\"type\":\"value\",\"value\":\"#bfb8ad\"},\"hatch_alpha\":{\"type\":\"value\",\"value\":0.1}}},\"muted_glyph\":{\"type\":\"object\",\"name\":\"VBar\",\"id\":\"p4622\",\"attributes\":{\"x\":{\"type\":\"field\",\"field\":\"years\"},\"width\":{\"type\":\"value\",\"value\":0.9},\"bottom\":{\"type\":\"expr\",\"expr\":{\"id\":\"p4524\"}},\"top\":{\"type\":\"expr\",\"expr\":{\"id\":\"p4525\"}},\"line_color\":{\"type\":\"value\",\"value\":\"#bfb8ad\"},\"line_alpha\":{\"type\":\"value\",\"value\":0.2},\"fill_color\":{\"type\":\"value\",\"value\":\"#bfb8ad\"},\"fill_alpha\":{\"type\":\"value\",\"value\":0.2},\"hatch_color\":{\"type\":\"value\",\"value\":\"#bfb8ad\"},\"hatch_alpha\":{\"type\":\"value\",\"value\":0.2}}}}}],\"toolbar\":{\"type\":\"object\",\"name\":\"Toolbar\",\"id\":\"p4480\",\"attributes\":{\"tools\":[{\"type\":\"object\",\"name\":\"PanTool\",\"id\":\"p4494\"},{\"type\":\"object\",\"name\":\"WheelZoomTool\",\"id\":\"p4495\",\"attributes\":{\"renderers\":\"auto\"}},{\"type\":\"object\",\"name\":\"BoxZoomTool\",\"id\":\"p4496\",\"attributes\":{\"overlay\":{\"type\":\"object\",\"name\":\"BoxAnnotation\",\"id\":\"p4497\",\"attributes\":{\"syncable\":false,\"line_color\":\"black\",\"line_alpha\":1.0,\"line_width\":2,\"line_dash\":[4,4],\"fill_color\":\"lightgrey\",\"fill_alpha\":0.5,\"level\":\"overlay\",\"visible\":false,\"left\":{\"type\":\"number\",\"value\":\"nan\"},\"right\":{\"type\":\"number\",\"value\":\"nan\"},\"top\":{\"type\":\"number\",\"value\":\"nan\"},\"bottom\":{\"type\":\"number\",\"value\":\"nan\"},\"left_units\":\"canvas\",\"right_units\":\"canvas\",\"top_units\":\"canvas\",\"bottom_units\":\"canvas\",\"handles\":{\"type\":\"object\",\"name\":\"BoxInteractionHandles\",\"id\":\"p4503\",\"attributes\":{\"all\":{\"type\":\"object\",\"name\":\"AreaVisuals\",\"id\":\"p4502\",\"attributes\":{\"fill_color\":\"white\",\"hover_fill_color\":\"lightgray\"}}}}}}}},{\"type\":\"object\",\"name\":\"ResetTool\",\"id\":\"p4504\"},{\"type\":\"object\",\"name\":\"SaveTool\",\"id\":\"p4505\"},{\"type\":\"object\",\"name\":\"HoverTool\",\"id\":\"p4627\",\"attributes\":{\"renderers\":[{\"id\":\"p4532\"}],\"tooltips\":[[\"Year\",\"@years\"],[\"District\",\"TENDERLOIN\"],[\"Proportion\",\"@TENDERLOIN{0.00%}\"],[\"Number of crimes\",\"@TENDERLOIN_value{0,0}\"]]}},{\"type\":\"object\",\"name\":\"HoverTool\",\"id\":\"p4628\",\"attributes\":{\"renderers\":[{\"id\":\"p4543\"}],\"tooltips\":[[\"Year\",\"@years\"],[\"District\",\"SOUTHERN\"],[\"Proportion\",\"@SOUTHERN{0.00%}\"],[\"Number of crimes\",\"@SOUTHERN_value{0,0}\"]]}},{\"type\":\"object\",\"name\":\"HoverTool\",\"id\":\"p4629\",\"attributes\":{\"renderers\":[{\"id\":\"p4553\"}],\"tooltips\":[[\"Year\",\"@years\"],[\"District\",\"MISSION\"],[\"Proportion\",\"@MISSION{0.00%}\"],[\"Number of crimes\",\"@MISSION_value{0,0}\"]]}},{\"type\":\"object\",\"name\":\"HoverTool\",\"id\":\"p4630\",\"attributes\":{\"renderers\":[{\"id\":\"p4563\"}],\"tooltips\":[[\"Year\",\"@years\"],[\"District\",\"NORTHERN\"],[\"Proportion\",\"@NORTHERN{0.00%}\"],[\"Number of crimes\",\"@NORTHERN_value{0,0}\"]]}},{\"type\":\"object\",\"name\":\"HoverTool\",\"id\":\"p4631\",\"attributes\":{\"renderers\":[{\"id\":\"p4573\"}],\"tooltips\":[[\"Year\",\"@years\"],[\"District\",\"BAYVIEW\"],[\"Proportion\",\"@BAYVIEW{0.00%}\"],[\"Number of crimes\",\"@BAYVIEW_value{0,0}\"]]}},{\"type\":\"object\",\"name\":\"HoverTool\",\"id\":\"p4632\",\"attributes\":{\"renderers\":[{\"id\":\"p4583\"}],\"tooltips\":[[\"Year\",\"@years\"],[\"District\",\"PARK\"],[\"Proportion\",\"@PARK{0.00%}\"],[\"Number of crimes\",\"@PARK_value{0,0}\"]]}},{\"type\":\"object\",\"name\":\"HoverTool\",\"id\":\"p4633\",\"attributes\":{\"renderers\":[{\"id\":\"p4593\"}],\"tooltips\":[[\"Year\",\"@years\"],[\"District\",\"INGLESIDE\"],[\"Proportion\",\"@INGLESIDE{0.00%}\"],[\"Number of crimes\",\"@INGLESIDE_value{0,0}\"]]}},{\"type\":\"object\",\"name\":\"HoverTool\",\"id\":\"p4634\",\"attributes\":{\"renderers\":[{\"id\":\"p4603\"}],\"tooltips\":[[\"Year\",\"@years\"],[\"District\",\"CENTRAL\"],[\"Proportion\",\"@CENTRAL{0.00%}\"],[\"Number of crimes\",\"@CENTRAL_value{0,0}\"]]}},{\"type\":\"object\",\"name\":\"HoverTool\",\"id\":\"p4635\",\"attributes\":{\"renderers\":[{\"id\":\"p4613\"}],\"tooltips\":[[\"Year\",\"@years\"],[\"District\",\"TARAVAL\"],[\"Proportion\",\"@TARAVAL{0.00%}\"],[\"Number of crimes\",\"@TARAVAL_value{0,0}\"]]}},{\"type\":\"object\",\"name\":\"HoverTool\",\"id\":\"p4636\",\"attributes\":{\"renderers\":[{\"id\":\"p4623\"}],\"tooltips\":[[\"Year\",\"@years\"],[\"District\",\"RICHMOND\"],[\"Proportion\",\"@RICHMOND{0.00%}\"],[\"Number of crimes\",\"@RICHMOND_value{0,0}\"]]}}]}},\"toolbar_location\":\"above\",\"left\":[{\"type\":\"object\",\"name\":\"LinearAxis\",\"id\":\"p4489\",\"attributes\":{\"ticker\":{\"type\":\"object\",\"name\":\"BasicTicker\",\"id\":\"p4490\",\"attributes\":{\"mantissas\":[1,2,5]}},\"formatter\":{\"type\":\"object\",\"name\":\"NumeralTickFormatter\",\"id\":\"p4637\",\"attributes\":{\"format\":\"0%\"}},\"major_label_policy\":{\"type\":\"object\",\"name\":\"AllLabels\",\"id\":\"p4492\"},\"minor_tick_line_color\":null}}],\"right\":[{\"type\":\"object\",\"name\":\"Legend\",\"id\":\"p4638\",\"attributes\":{\"items\":[{\"type\":\"object\",\"name\":\"LegendItem\",\"id\":\"p4639\",\"attributes\":{\"label\":{\"type\":\"value\",\"value\":\"RICHMOND\"},\"renderers\":[{\"id\":\"p4623\"}]}},{\"type\":\"object\",\"name\":\"LegendItem\",\"id\":\"p4640\",\"attributes\":{\"label\":{\"type\":\"value\",\"value\":\"TARAVAL\"},\"renderers\":[{\"id\":\"p4613\"}]}},{\"type\":\"object\",\"name\":\"LegendItem\",\"id\":\"p4641\",\"attributes\":{\"label\":{\"type\":\"value\",\"value\":\"CENTRAL\"},\"renderers\":[{\"id\":\"p4603\"}]}},{\"type\":\"object\",\"name\":\"LegendItem\",\"id\":\"p4642\",\"attributes\":{\"label\":{\"type\":\"value\",\"value\":\"INGLESIDE\"},\"renderers\":[{\"id\":\"p4593\"}]}},{\"type\":\"object\",\"name\":\"LegendItem\",\"id\":\"p4643\",\"attributes\":{\"label\":{\"type\":\"value\",\"value\":\"PARK\"},\"renderers\":[{\"id\":\"p4583\"}]}},{\"type\":\"object\",\"name\":\"LegendItem\",\"id\":\"p4644\",\"attributes\":{\"label\":{\"type\":\"value\",\"value\":\"BAYVIEW\"},\"renderers\":[{\"id\":\"p4573\"}]}},{\"type\":\"object\",\"name\":\"LegendItem\",\"id\":\"p4645\",\"attributes\":{\"label\":{\"type\":\"value\",\"value\":\"NORTHERN\"},\"renderers\":[{\"id\":\"p4563\"}]}},{\"type\":\"object\",\"name\":\"LegendItem\",\"id\":\"p4646\",\"attributes\":{\"label\":{\"type\":\"value\",\"value\":\"MISSION\"},\"renderers\":[{\"id\":\"p4553\"}]}},{\"type\":\"object\",\"name\":\"LegendItem\",\"id\":\"p4647\",\"attributes\":{\"label\":{\"type\":\"value\",\"value\":\"SOUTHERN\"},\"renderers\":[{\"id\":\"p4543\"}]}},{\"type\":\"object\",\"name\":\"LegendItem\",\"id\":\"p4648\",\"attributes\":{\"label\":{\"type\":\"value\",\"value\":\"TENDERLOIN\"},\"renderers\":[{\"id\":\"p4532\"}]}}]}}],\"below\":[{\"type\":\"object\",\"name\":\"CategoricalAxis\",\"id\":\"p4484\",\"attributes\":{\"ticker\":{\"type\":\"object\",\"name\":\"CategoricalTicker\",\"id\":\"p4485\"},\"formatter\":{\"type\":\"object\",\"name\":\"CategoricalTickFormatter\",\"id\":\"p4486\"},\"major_label_policy\":{\"type\":\"object\",\"name\":\"AllLabels\",\"id\":\"p4487\"},\"minor_tick_line_color\":null}}],\"center\":[{\"type\":\"object\",\"name\":\"Grid\",\"id\":\"p4488\",\"attributes\":{\"axis\":{\"id\":\"p4484\"},\"grid_line_color\":null}},{\"type\":\"object\",\"name\":\"Grid\",\"id\":\"p4493\",\"attributes\":{\"dimension\":1,\"axis\":{\"id\":\"p4489\"}}},{\"type\":\"object\",\"name\":\"Legend\",\"id\":\"p4535\",\"attributes\":{\"location\":\"top_left\",\"label_text_font_size\":\"10pt\",\"items\":[]}}]}}]}};\n  const render_items = [{\"docid\":\"c7bf44d5-3281-4725-8548-2d8c463e92e8\",\"roots\":{\"p4471\":\"b7430c84-b728-414f-922a-794af0b380a9\"},\"root_ids\":[\"p4471\"]}];\n  void root.Bokeh.embed.embed_items_notebook(docs_json, render_items);\n  }\n  if (root.Bokeh !== undefined) {\n    embed_document(root);\n  } else {\n    let attempts = 0;\n    const timer = setInterval(function(root) {\n      if (root.Bokeh !== undefined) {\n        clearInterval(timer);\n        embed_document(root);\n      } else {\n        attempts++;\n        if (attempts > 100) {\n          clearInterval(timer);\n          console.log(\"Bokeh: ERROR: Unable to run BokehJS code because BokehJS library is missing\");\n        }\n      }\n    }, 10, root)\n  }\n})(window);",
      "application/vnd.bokehjs_exec.v0+json": ""
     },
     "metadata": {
      "application/vnd.bokehjs_exec.v0+json": {
       "id": "p4471"
      }
     },
     "output_type": "display_data"
    }
   ],
   "source": [
    "from bokeh.io import show, output_notebook\n",
    "from bokeh.plotting import figure\n",
    "from bokeh.models import ColumnDataSource, HoverTool\n",
    "from bokeh.palettes import all_palettes\n",
    "from bokeh.transform import dodge\n",
    "from bokeh.layouts import column\n",
    "from bokeh.models import Legend\n",
    "from bokeh.models import CheckboxButtonGroup, CustomJS\n",
    "from bokeh.models import NumeralTickFormatter\n",
    "from bokeh.models import Panel, Tabs\n",
    "from bokeh.palettes import Category20\n",
    "from bokeh.models import Div\n",
    "\n",
    "output_notebook()\n",
    "\n",
    "from bokeh.palettes import brewer\n",
    "from bokeh.models import ColumnDataSource\n",
    "from bokeh.plotting import figure, show\n",
    "from bokeh.transform import cumsum\n",
    "from bokeh.models import HoverTool\n",
    "\n",
    "import pandas as pd\n",
    "import numpy as np\n",
    "\n",
    "# ── STEP 1: PREPARE DATA ─────────────────────────────────────\n",
    "# Your DataFrame: pd_counts_norm_df (years as index, districts as columns)\n",
    "normalized_df = pd_counts_norm_df.copy()\n",
    "absolute_df = pd_counts_df.copy()\n",
    "normalized_df.index = normalized_df.index.astype(str)  # Bokeh likes strings for x-axis\n",
    "years = normalized_df.index.tolist()\n",
    "districts = normalized_df.columns.tolist()\n",
    "\n",
    "# ── STEP 2: BOKEH STACKED BAR SETUP ─────────────────────────\n",
    "# Step 1: Create source with both normalized and absolute\n",
    "source_data = {\n",
    "    'years': years\n",
    "}\n",
    "\n",
    "for district in districts:\n",
    "    source_data[district] = normalized_df[district].values  # normalized for plotting\n",
    "    source_data[f\"{district}_value\"] = absolute_df[district].values  # for hover\n",
    "\n",
    "source = ColumnDataSource(data=source_data)\n",
    "\n",
    "# Pull your muted custom colors\n",
    "district_colors = {\n",
    "    'TENDERLOIN': '#3b4d52',\n",
    "    'SOUTHERN':   '#4a7976',\n",
    "    'MISSION':    '#b66e52',\n",
    "    'NORTHERN':   '#78849e',\n",
    "    'BAYVIEW':    '#d4bfa9',\n",
    "    'PARK':       '#c1c6b9',\n",
    "    'INGLESIDE':  '#aabec2',\n",
    "    'CENTRAL':    '#c8bcb0',\n",
    "    'TARAVAL':    '#d5cec6',\n",
    "    'RICHMOND':   '#bfb8ad'\n",
    "}\n",
    "colors = [district_colors[d] for d in districts]\n",
    "\n",
    "# ── STEP 3: CREATE FIGURE ────────────────────────────────────\n",
    "p = figure(x_range=years, height=500, width=900,\n",
    "           title=\"Drug/Narcotic Crimes by SF Police District (2014–2024)\",\n",
    "           toolbar_location=\"above\", tools=\"pan,wheel_zoom,box_zoom,reset,save\")\n",
    "\n",
    "# Stacked bars\n",
    "renderers = p.vbar_stack(districts, x='years', width=0.9, color=colors, source=source,\n",
    "                         legend_label=districts)\n",
    "\n",
    "# ── STEP 4: TOOLS, STYLING, LEGEND ───────────────────────────\n",
    "\n",
    "for district, renderer in zip(districts, renderers):\n",
    "    hover = HoverTool(\n",
    "        renderers=[renderer],\n",
    "        tooltips=[\n",
    "            (\"Year\", \"@years\"),\n",
    "            (f\"District\", f\"{district}\"),\n",
    "            (\"Proportion\", f\"@{district}{{0.00%}}\"),\n",
    "            (\"Number of crimes\", f\"@{district}_value{{0,0}}\")\n",
    "        ]\n",
    "    )\n",
    "    p.add_tools(hover)\n",
    "\n",
    "p.y_range.start = 0\n",
    "p.yaxis.formatter = NumeralTickFormatter(format=\"0%\")\n",
    "p.xgrid.grid_line_color = None\n",
    "p.axis.minor_tick_line_color = None\n",
    "p.outline_line_color = None\n",
    "p.legend.location = \"top_left\"\n",
    "p.legend.label_text_font_size = \"10pt\"\n",
    "p.title.text_font_size = \"14pt\"\n",
    "p.title.align = 'left'\n",
    "# Reverse renderers and district names to match stack order\n",
    "reversed_renderers = renderers[::-1]\n",
    "reversed_districts = districts[::-1]\n",
    "\n",
    "# Clear existing legend if needed\n",
    "p.legend.items = []\n",
    "\n",
    "# Add new legend manually\n",
    "from bokeh.models import Legend\n",
    "legend = Legend(items=[\n",
    "    (name, [r]) for name, r in zip(reversed_districts, reversed_renderers)\n",
    "])\n",
    "p.add_layout(legend, 'right')\n",
    "\n",
    "\n",
    "# ── STEP 5: SHOW ─────────────────────────────────────────────\n",
    "show(p)"
   ]
  },
  {
   "cell_type": "code",
   "execution_count": 35,
   "id": "36e766e3-fe63-4940-bd38-cc7b1a0777f8",
   "metadata": {},
   "outputs": [
    {
     "name": "stdout",
     "output_type": "stream",
     "text": [
      "Focus crimes data has been saved as df. It includes all full years. In addition, a column for the hour of week has been added.\n"
     ]
    },
    {
     "name": "stderr",
     "output_type": "stream",
     "text": [
      "/var/folders/nm/8h6trdzs11b4x2t2ypm38l0w0000gn/T/ipykernel_32903/2438275899.py:8: FutureWarning: Downcasting behavior in `replace` is deprecated and will be removed in a future version. To retain the old behavior, explicitly call `result.infer_objects(copy=False)`. To opt-in to the future behavior, set `pd.set_option('future.no_silent_downcasting', True)`\n",
      "  df.loc[:,'Weekday number'] = mdata['DayOfWeek'].replace({\n"
     ]
    },
    {
     "data": {
      "text/html": [
       "<div>\n",
       "<style scoped>\n",
       "    .dataframe tbody tr th:only-of-type {\n",
       "        vertical-align: middle;\n",
       "    }\n",
       "\n",
       "    .dataframe tbody tr th {\n",
       "        vertical-align: top;\n",
       "    }\n",
       "\n",
       "    .dataframe thead th {\n",
       "        text-align: right;\n",
       "    }\n",
       "</style>\n",
       "<table border=\"1\" class=\"dataframe\">\n",
       "  <thead>\n",
       "    <tr style=\"text-align: right;\">\n",
       "      <th></th>\n",
       "      <th>Category</th>\n",
       "      <th>PdDistrict</th>\n",
       "      <th>X</th>\n",
       "      <th>Y</th>\n",
       "      <th>Date</th>\n",
       "      <th>Time</th>\n",
       "      <th>TimeOfDay</th>\n",
       "      <th>DayOfWeek</th>\n",
       "      <th>DayOfMonth</th>\n",
       "      <th>Month</th>\n",
       "      <th>Year</th>\n",
       "      <th>Weekday number</th>\n",
       "      <th>HourOfWeek</th>\n",
       "    </tr>\n",
       "  </thead>\n",
       "  <tbody>\n",
       "    <tr>\n",
       "      <th>0</th>\n",
       "      <td>ROBBERY</td>\n",
       "      <td>INGLESIDE</td>\n",
       "      <td>-122.420084</td>\n",
       "      <td>37.708311</td>\n",
       "      <td>2004-11-22</td>\n",
       "      <td>17:50</td>\n",
       "      <td>17</td>\n",
       "      <td>Monday</td>\n",
       "      <td>22</td>\n",
       "      <td>November</td>\n",
       "      <td>2004</td>\n",
       "      <td>0</td>\n",
       "      <td>17</td>\n",
       "    </tr>\n",
       "    <tr>\n",
       "      <th>1</th>\n",
       "      <td>VEHICLE THEFT</td>\n",
       "      <td>PARK</td>\n",
       "      <td>-120.500000</td>\n",
       "      <td>90.000000</td>\n",
       "      <td>2005-10-18</td>\n",
       "      <td>20:00</td>\n",
       "      <td>20</td>\n",
       "      <td>Tuesday</td>\n",
       "      <td>18</td>\n",
       "      <td>October</td>\n",
       "      <td>2005</td>\n",
       "      <td>1</td>\n",
       "      <td>44</td>\n",
       "    </tr>\n",
       "    <tr>\n",
       "      <th>2</th>\n",
       "      <td>VEHICLE THEFT</td>\n",
       "      <td>SOUTHERN</td>\n",
       "      <td>-120.500000</td>\n",
       "      <td>90.000000</td>\n",
       "      <td>2004-02-15</td>\n",
       "      <td>02:00</td>\n",
       "      <td>2</td>\n",
       "      <td>Sunday</td>\n",
       "      <td>15</td>\n",
       "      <td>February</td>\n",
       "      <td>2004</td>\n",
       "      <td>6</td>\n",
       "      <td>146</td>\n",
       "    </tr>\n",
       "    <tr>\n",
       "      <th>3</th>\n",
       "      <td>ASSAULT</td>\n",
       "      <td>SOUTHERN</td>\n",
       "      <td>-122.410541</td>\n",
       "      <td>37.770913</td>\n",
       "      <td>2010-11-21</td>\n",
       "      <td>17:00</td>\n",
       "      <td>17</td>\n",
       "      <td>Sunday</td>\n",
       "      <td>21</td>\n",
       "      <td>November</td>\n",
       "      <td>2010</td>\n",
       "      <td>4</td>\n",
       "      <td>113</td>\n",
       "    </tr>\n",
       "    <tr>\n",
       "      <th>4</th>\n",
       "      <td>ASSAULT</td>\n",
       "      <td>TARAVAL</td>\n",
       "      <td>-122.470366</td>\n",
       "      <td>37.745158</td>\n",
       "      <td>2013-04-02</td>\n",
       "      <td>15:50</td>\n",
       "      <td>15</td>\n",
       "      <td>Tuesday</td>\n",
       "      <td>2</td>\n",
       "      <td>April</td>\n",
       "      <td>2013</td>\n",
       "      <td>6</td>\n",
       "      <td>159</td>\n",
       "    </tr>\n",
       "  </tbody>\n",
       "</table>\n",
       "</div>"
      ],
      "text/plain": [
       "        Category PdDistrict           X          Y        Date   Time  \\\n",
       "0        ROBBERY  INGLESIDE -122.420084  37.708311  2004-11-22  17:50   \n",
       "1  VEHICLE THEFT       PARK -120.500000  90.000000  2005-10-18  20:00   \n",
       "2  VEHICLE THEFT   SOUTHERN -120.500000  90.000000  2004-02-15  02:00   \n",
       "3        ASSAULT   SOUTHERN -122.410541  37.770913  2010-11-21  17:00   \n",
       "4        ASSAULT    TARAVAL -122.470366  37.745158  2013-04-02  15:50   \n",
       "\n",
       "   TimeOfDay DayOfWeek  DayOfMonth     Month  Year  Weekday number  HourOfWeek  \n",
       "0         17    Monday          22  November  2004               0          17  \n",
       "1         20   Tuesday          18   October  2005               1          44  \n",
       "2          2    Sunday          15  February  2004               6         146  \n",
       "3         17    Sunday          21  November  2010               4         113  \n",
       "4         15   Tuesday           2     April  2013               6         159  "
      ]
     },
     "execution_count": 35,
     "metadata": {},
     "output_type": "execute_result"
    }
   ],
   "source": [
    "#prepping to calculate the statistic for my bokeh thingy\n",
    "\n",
    "df = mdata[(mdata['Category'].isin(focus_crimes))].reset_index(drop=True)\n",
    "\n",
    "#initiating the weekly hours to the dataset\n",
    "#to count for the weekly hours, let's create a new column to the dataset with the info about the weekhour\n",
    "\n",
    "df.loc[:,'Weekday number'] = mdata['DayOfWeek'].replace({\n",
    "   'Monday': 0,\n",
    "    'Tuesday':1, \n",
    "    'Wednesday':2,\n",
    "    'Thursday':3,\n",
    "    'Friday':4,\n",
    "    'Saturday':5,\n",
    "    'Sunday':6})\n",
    "\n",
    "df.loc[:,'HourOfWeek'] = df['Weekday number']* 24 + df['TimeOfDay']\n",
    "\n",
    "print('Focus crimes data has been saved as df. It includes all full years. In addition, a column for the hour of week has been added.')\n",
    "df.head()"
   ]
  },
  {
   "cell_type": "code",
   "execution_count": 45,
   "id": "a88a179f-f649-4a3c-8be4-4a63ced06940",
   "metadata": {},
   "outputs": [
    {
     "data": {
      "text/html": [
       "<div>\n",
       "<style scoped>\n",
       "    .dataframe tbody tr th:only-of-type {\n",
       "        vertical-align: middle;\n",
       "    }\n",
       "\n",
       "    .dataframe tbody tr th {\n",
       "        vertical-align: top;\n",
       "    }\n",
       "\n",
       "    .dataframe thead th {\n",
       "        text-align: right;\n",
       "    }\n",
       "</style>\n",
       "<table border=\"1\" class=\"dataframe\">\n",
       "  <thead>\n",
       "    <tr style=\"text-align: right;\">\n",
       "      <th></th>\n",
       "      <th>ASSAULT</th>\n",
       "      <th>BURGLARY</th>\n",
       "      <th>DRUG/NARCOTIC</th>\n",
       "      <th>LARCENY/THEFT</th>\n",
       "      <th>PROSTITUTION</th>\n",
       "      <th>ROBBERY</th>\n",
       "      <th>STOLEN PROPERTY</th>\n",
       "      <th>VANDALISM</th>\n",
       "      <th>VEHICLE THEFT</th>\n",
       "      <th>WEAPON LAWS</th>\n",
       "    </tr>\n",
       "  </thead>\n",
       "  <tbody>\n",
       "    <tr>\n",
       "      <th>0</th>\n",
       "      <td>1649</td>\n",
       "      <td>892</td>\n",
       "      <td>586</td>\n",
       "      <td>4191</td>\n",
       "      <td>208</td>\n",
       "      <td>524</td>\n",
       "      <td>115</td>\n",
       "      <td>1365</td>\n",
       "      <td>958</td>\n",
       "      <td>243</td>\n",
       "    </tr>\n",
       "    <tr>\n",
       "      <th>1</th>\n",
       "      <td>1496</td>\n",
       "      <td>588</td>\n",
       "      <td>351</td>\n",
       "      <td>2486</td>\n",
       "      <td>152</td>\n",
       "      <td>564</td>\n",
       "      <td>68</td>\n",
       "      <td>922</td>\n",
       "      <td>585</td>\n",
       "      <td>178</td>\n",
       "    </tr>\n",
       "    <tr>\n",
       "      <th>2</th>\n",
       "      <td>1279</td>\n",
       "      <td>704</td>\n",
       "      <td>273</td>\n",
       "      <td>1561</td>\n",
       "      <td>116</td>\n",
       "      <td>533</td>\n",
       "      <td>68</td>\n",
       "      <td>878</td>\n",
       "      <td>452</td>\n",
       "      <td>148</td>\n",
       "    </tr>\n",
       "    <tr>\n",
       "      <th>3</th>\n",
       "      <td>643</td>\n",
       "      <td>775</td>\n",
       "      <td>228</td>\n",
       "      <td>1137</td>\n",
       "      <td>76</td>\n",
       "      <td>291</td>\n",
       "      <td>43</td>\n",
       "      <td>664</td>\n",
       "      <td>346</td>\n",
       "      <td>98</td>\n",
       "    </tr>\n",
       "    <tr>\n",
       "      <th>4</th>\n",
       "      <td>435</td>\n",
       "      <td>765</td>\n",
       "      <td>154</td>\n",
       "      <td>772</td>\n",
       "      <td>56</td>\n",
       "      <td>223</td>\n",
       "      <td>49</td>\n",
       "      <td>454</td>\n",
       "      <td>282</td>\n",
       "      <td>84</td>\n",
       "    </tr>\n",
       "  </tbody>\n",
       "</table>\n",
       "</div>"
      ],
      "text/plain": [
       "   ASSAULT  BURGLARY  DRUG/NARCOTIC  LARCENY/THEFT  PROSTITUTION  ROBBERY  \\\n",
       "0     1649       892            586           4191           208      524   \n",
       "1     1496       588            351           2486           152      564   \n",
       "2     1279       704            273           1561           116      533   \n",
       "3      643       775            228           1137            76      291   \n",
       "4      435       765            154            772            56      223   \n",
       "\n",
       "   STOLEN PROPERTY  VANDALISM  VEHICLE THEFT  WEAPON LAWS  \n",
       "0              115       1365            958          243  \n",
       "1               68        922            585          178  \n",
       "2               68        878            452          148  \n",
       "3               43        664            346           98  \n",
       "4               49        454            282           84  "
      ]
     },
     "execution_count": 45,
     "metadata": {},
     "output_type": "execute_result"
    }
   ],
   "source": [
    "#Weekly 168 h cycle\n",
    "l = len(focus_crimes)\n",
    "hour_counts = pd.DataFrame()\n",
    "\n",
    "for i in range(l):\n",
    "    data = df[df.Category == focus_crimes[i]]\n",
    "    hour_count = data.value_counts('HourOfWeek').reset_index()\n",
    "    hour_count.columns = ['HourOfWeek', focus_crimes[i]]\n",
    "    hour_count = hour_count.sort_values(by = 'HourOfWeek').reset_index(drop=True)\n",
    "    hour_counts[focus_crimes[i]] = hour_count[focus_crimes[i]]\n",
    "hour_counts.head()"
   ]
  },
  {
   "cell_type": "code",
   "execution_count": 43,
   "id": "aed15077-28d1-4a6a-a332-662d83313ed7",
   "metadata": {},
   "outputs": [
    {
     "name": "stdout",
     "output_type": "stream",
     "text": [
      "[('DRUG/NARCOTIC', 'WEAPON LAWS'), ('DRUG/NARCOTIC', 'PROSTITUTION'), ('DRUG/NARCOTIC', 'ROBBERY'), ('DRUG/NARCOTIC', 'BURGLARY'), ('DRUG/NARCOTIC', 'ASSAULT'), ('DRUG/NARCOTIC', 'LARCENY/THEFT'), ('DRUG/NARCOTIC', 'VANDALISM'), ('DRUG/NARCOTIC', 'VEHICLE THEFT'), ('DRUG/NARCOTIC', 'STOLEN PROPERTY')]\n"
     ]
    }
   ],
   "source": [
    "#creating the pairs for the options\n",
    "other_crimes = [\n",
    "    'WEAPON LAWS', 'PROSTITUTION', 'ROBBERY', 'BURGLARY', 'ASSAULT', 'LARCENY/THEFT', 'VANDALISM', 'VEHICLE THEFT', 'STOLEN PROPERTY']\n",
    "pairs = [('DRUG/NARCOTIC', crime) for crime in other_crimes]\n",
    "print(pairs)\n"
   ]
  },
  {
   "cell_type": "code",
   "execution_count": 44,
   "id": "e02718a6-e881-4def-b3e4-57889efb54d6",
   "metadata": {},
   "outputs": [],
   "source": [
    "#defining a function to calculate R2\n",
    "def get_R2(y, p):\n",
    "    n = len(x)\n",
    "    y_mean = 1/n * sum(y)\n",
    "    SSres = sum((y-p)**2)\n",
    "    SStot = sum((y-y_mean)**2)\n",
    "    R2 = 1 - (SSres/SStot)\n",
    "\n",
    "    return R2"
   ]
  },
  {
   "cell_type": "code",
   "execution_count": 59,
   "id": "a89b9dcc-c90d-4f7c-80e3-c573877a8e70",
   "metadata": {},
   "outputs": [
    {
     "data": {
      "text/html": [
       "\n",
       "  <div id=\"f0b0569c-ff91-4f96-8f21-3901a29ee172\" data-root-id=\"p1723\" style=\"display: contents;\"></div>\n"
      ]
     },
     "metadata": {},
     "output_type": "display_data"
    },
    {
     "data": {
      "application/javascript": "(function(root) {\n  function embed_document(root) {\n  const docs_json = {\"41a2e9a5-8010-4215-b897-0ed499ef9838\":{\"version\":\"3.6.2\",\"title\":\"Bokeh Application\",\"roots\":[{\"type\":\"object\",\"name\":\"Column\",\"id\":\"p1723\",\"attributes\":{\"children\":[{\"type\":\"object\",\"name\":\"Select\",\"id\":\"p1721\",\"attributes\":{\"js_property_callbacks\":{\"type\":\"map\",\"entries\":[[\"change:value\",[{\"type\":\"object\",\"name\":\"CustomJS\",\"id\":\"p1722\",\"attributes\":{\"args\":{\"type\":\"map\",\"entries\":[[\"source\",{\"type\":\"object\",\"name\":\"ColumnDataSource\",\"id\":\"p1674\",\"attributes\":{\"selected\":{\"type\":\"object\",\"name\":\"Selection\",\"id\":\"p1675\",\"attributes\":{\"indices\":[],\"line_indices\":[]}},\"selection_policy\":{\"type\":\"object\",\"name\":\"UnionRenderers\",\"id\":\"p1676\"},\"data\":{\"type\":\"map\",\"entries\":[[\"index\",{\"type\":\"ndarray\",\"array\":{\"type\":\"bytes\",\"data\":\"AAAAAAEAAAACAAAAAwAAAAQAAAAFAAAABgAAAAcAAAAIAAAACQAAAAoAAAALAAAADAAAAA0AAAAOAAAADwAAABAAAAARAAAAEgAAABMAAAAUAAAAFQAAABYAAAAXAAAAGAAAABkAAAAaAAAAGwAAABwAAAAdAAAAHgAAAB8AAAAgAAAAIQAAACIAAAAjAAAAJAAAACUAAAAmAAAAJwAAACgAAAApAAAAKgAAACsAAAAsAAAALQAAAC4AAAAvAAAAMAAAADEAAAAyAAAAMwAAADQAAAA1AAAANgAAADcAAAA4AAAAOQAAADoAAAA7AAAAPAAAAD0AAAA+AAAAPwAAAEAAAABBAAAAQgAAAEMAAABEAAAARQAAAEYAAABHAAAASAAAAEkAAABKAAAASwAAAEwAAABNAAAATgAAAE8AAABQAAAAUQAAAFIAAABTAAAAVAAAAFUAAABWAAAAVwAAAFgAAABZAAAAWgAAAFsAAABcAAAAXQAAAF4AAABfAAAAYAAAAGEAAABiAAAAYwAAAGQAAABlAAAAZgAAAGcAAABoAAAAaQAAAGoAAABrAAAAbAAAAG0AAABuAAAAbwAAAHAAAABxAAAAcgAAAHMAAAB0AAAAdQAAAHYAAAB3AAAAeAAAAHkAAAB6AAAAewAAAHwAAAB9AAAAfgAAAH8AAACAAAAAgQAAAIIAAACDAAAAhAAAAIUAAACGAAAAhwAAAIgAAACJAAAAigAAAIsAAACMAAAAjQAAAI4AAACPAAAAkAAAAJEAAACSAAAAkwAAAJQAAACVAAAAlgAAAJcAAACYAAAAmQAAAJoAAACbAAAAnAAAAJ0AAACeAAAAnwAAAKAAAAChAAAAogAAAKMAAACkAAAApQAAAKYAAACnAAAA\"},\"shape\":[168],\"dtype\":\"int32\",\"order\":\"little\"}],[\"ASSAULT\",{\"type\":\"ndarray\",\"array\":{\"type\":\"bytes\",\"data\":\"cQYAANgFAAD/BAAAgwIAALMBAABsAQAArQEAAKcCAADOAwAAagQAAK0EAABBBQAAWgYAAKsFAAAoBgAAnAYAAJ8GAAByBgAASgYAAMIFAAAEBgAAuQUAAI4FAAB1BQAAHAYAALUFAAA2BQAAfQIAALgBAABvAQAA7gEAAK8CAAARBAAAkQQAAD8FAAC7BQAArAYAAC4GAAAPBgAA7QYAAHAGAADIBgAA1gYAAFQGAAATBgAAYQYAAOIFAADkBQAAhwYAAP0FAACABQAArwIAANQBAABwAQAA2gEAAOUCAABZBAAAmgQAACYFAABxBQAAyAYAACcGAAAnBgAA/AYAAK8GAACuBgAAyQYAAFYGAABUBgAAagYAACEGAADfBQAAqgYAABkGAAAFBQAAywIAAKABAABpAQAAGwIAANMCAAAsBAAAxgQAAAgFAAB5BQAA1wYAAO8FAADmBQAAdAYAAMEGAADXBgAAbwYAAIMGAAAXBgAARAYAAAUGAADKBQAA5wYAAE4GAAB0BQAAsAIAANMBAACFAQAA8wEAAP4CAABMBAAA4QQAAGsFAAARBgAA5QYAAIMGAACNBgAAUAcAAHIHAAD1BgAAEwcAALcGAABNBgAA0QYAAAwGAADgBQAA0QYAAOkFAABVBQAAiAIAANIBAAB7AQAA1wEAANQCAAAkBAAAlgQAADMFAACDBQAAygYAABIGAAAyBgAAwgYAAPYGAACcBgAAegYAAEkGAABTBgAAdgYAAEEGAADqBQAA3QUAAEAFAADfBAAAdQIAAKEBAAB6AQAAyQEAAIICAACLAwAAXQQAAM8EAAAHBQAALQYAAIIFAAClBQAAYwYAAEYGAAA0BgAAFQYAAM0FAACmBQAAEgYAANQFAABZBQAA\"},\"shape\":[168],\"dtype\":\"int32\",\"order\":\"little\"}],[\"BURGLARY\",{\"type\":\"ndarray\",\"array\":{\"type\":\"bytes\",\"data\":\"fAMAAEwCAADAAgAABwMAAP0CAAByAgAA3wEAAFYCAAA7AwAAzwIAAOwCAACpAgAA6wMAAHoCAADdAgAAIgMAAIgDAADbBAAA1AQAAKkDAABqAwAAEAMAABkDAAD3AgAAWAMAAEACAADtAgAABAMAABsDAAByAgAA3QEAAEECAACGAwAABQMAANgCAADJAgAA1QMAAIsCAADzAgAAMwMAAMgDAAA8BQAA+gQAALoDAABvAwAASQMAADMDAAAUAwAAqQMAAIQCAADXAgAAVwMAADMDAACNAgAAGQIAAF0CAACKAwAAJwMAADQDAADjAgAAKgQAAJ4CAAAHAwAAcgMAABsEAAAQBQAAcgUAAAAEAACJAwAAiAMAAHkDAAAtAwAAfgMAAFICAADgAgAAQwMAAA0DAAByAgAA7AEAAG8CAACBAwAAAQMAANYCAADbAgAA/AMAAKsCAADBAgAAmQMAAP8DAAAIBQAA0gQAANUDAABhAwAAaQMAAFUDAAAiAwAA+gMAAKQCAAD4AgAAVAMAACoDAACyAgAAFgIAAIgCAACdAwAAKwMAADADAADVAgAAPwQAAKsCAAAfAwAAdAMAACAEAABqBQAAAwUAABEEAADGAwAAtQMAALwDAABeAwAAxQMAAEUCAADOAgAAewMAABMDAACGAgAA5QEAAI8CAACVAwAAOAMAABkDAAAFAwAAvwMAAKYCAADHAgAApAMAABIEAAAjBQAA8QQAAAUEAAC0AwAAWwMAAHwDAAAXAwAAQAMAAEYCAACWAgAABgMAABQDAABVAgAA0AEAABECAAAyAwAAEQMAAPYCAACiAgAAngMAADwCAACZAgAADAMAAGYDAACnBAAAhwQAAIsDAAB4AwAANQMAACcDAAAOAwAA\"},\"shape\":[168],\"dtype\":\"int32\",\"order\":\"little\"}],[\"DRUG/NARCOTIC\",{\"type\":\"ndarray\",\"array\":{\"type\":\"bytes\",\"data\":\"SgIAAF8BAAARAQAA5AAAAJoAAABJAAAA3gAAAA4CAACUAgAA9wIAAHADAADMAwAAOwQAADkFAADiBQAAlAUAAHsFAABpBQAAuQQAACEEAAAsAwAA7wIAAHwDAAD5AgAAgQIAAG0BAABJAQAA6QAAAJIAAABNAAAABAEAAAsCAACVAgAAEAMAAHUDAADqAwAAXAQAAEkFAAAvBgAAmAUAAI4FAADRBQAA7gQAAFQEAABaAwAA+wIAALADAAAMAwAAgQIAAFoBAABFAQAAzwAAAJoAAABgAAAA+AAAADsCAACyAgAAYwMAAGoDAAAPBAAAkQQAALUFAABOBgAAuwUAAOQFAADYBQAAXgUAAGcEAAAmAwAABAMAAMcDAAAHAwAAdQIAAJIBAABMAQAAugAAAJUAAABOAAAA+wAAAPcBAACxAgAAGwMAAGUDAADTAwAAMQQAAJEFAAAfBgAAqwUAAM8FAADPBQAA0gQAACQEAAAlAwAAWwMAAJ0DAAAZAwAAnAIAAIgBAAA6AQAA3wAAAKEAAABaAAAA8wAAACYCAAD4AgAAdQMAAJEDAABABAAABgUAAPYFAAByBgAAPwYAADQGAAAHBgAAJgUAAIkEAABhAwAAPAMAAM8DAABVAwAAHAIAAJ4BAAAhAQAA0wAAAKEAAABiAAAA+QAAACECAADAAgAA/QIAAHsDAAABBAAARAQAADMGAAAIBgAApAUAABoGAACUBQAAVwUAADcEAABvAwAAEQMAAH4DAAAVAwAAXwIAAFUBAAAqAQAAygAAAIYAAABZAAAA4AAAAP4BAACMAgAA2QIAADQDAADBAwAA/gMAABIFAAClBQAAWgUAAGcFAACDBQAApgQAANoDAADYAgAAhQIAAD8DAADUAgAA\"},\"shape\":[168],\"dtype\":\"int32\",\"order\":\"little\"}],[\"LARCENY/THEFT\",{\"type\":\"ndarray\",\"array\":{\"type\":\"bytes\",\"data\":\"XxAAALYJAAAZBgAAcQQAAAQDAAAXAwAATwQAAGoGAADqCgAA+QwAAGsQAAAeEwAA0RcAAHAUAAD8FAAAnBUAAKEWAACzGQAAeR0AAAIcAABCGAAApxQAALsSAADFEAAAMBEAAFkJAAB3BgAAaAQAAC4DAAAXAwAAdAQAAEoGAAAPCwAAEA0AAHYRAACKEwAADxgAAKsUAACqFAAARxYAAOoWAAAqGgAAzB4AAIccAABIGQAAhRQAADUTAADGEAAAHhEAAMAJAAClBgAAoQQAACgDAAA4AwAAsQQAAJ4GAAB9CwAAng0AAJMRAADmEwAA2xgAAIkVAABmFQAAFRcAAKIXAACUGwAAJSAAAHcdAACmGgAAjRUAAPsTAAACEQAA4hAAAG8JAAALBgAAXAQAAEADAAD4AgAAXAQAALMGAAAeCwAAGg0AAAERAAAoEwAA4RgAALQUAACdFAAA/BUAAA4XAAAhGgAAhx4AAOQcAADIGAAAjxQAAIUTAAADEQAAthEAABwKAAAHBwAA2wQAAEMDAABGAwAApAQAABIHAADICwAAPg4AAFoSAAAeFQAAORoAABQWAACDFgAAlxcAAHwYAABLHAAAAyEAANweAAAAGwAAnxUAAMcUAADxEgAARBEAAJAJAACVBgAAegQAAFgDAAAeAwAAnQQAAJkGAACvCgAAuw0AAMcRAAA2FAAAvhgAAJIVAABWFQAAGhYAAA0XAABEGwAAUh8AAEYdAADNGQAAwRQAAKsTAABlEQAAug8AAEQJAAAhBgAAQQQAAP0CAADtAgAADwQAAAgGAAA8CgAAHAwAAPgPAADZEgAArxYAACUTAAArFAAADBUAAHkVAABCGAAAwBwAALwaAABnFwAA3RMAACISAAAxEAAA\"},\"shape\":[168],\"dtype\":\"int32\",\"order\":\"little\"}],[\"PROSTITUTION\",{\"type\":\"ndarray\",\"array\":{\"type\":\"bytes\",\"data\":\"0AAAAJgAAAB0AAAATAAAADgAAABPAAAATQAAACAAAAATAAAAFQAAABYAAAARAAAAOQAAADQAAAAoAAAAKQAAACwAAABVAAAApQAAANUAAACXAAAAwgAAAOMAAADaAAAA5wAAAJgAAACFAAAAUgAAAEIAAABlAAAATwAAACYAAAAcAAAAFwAAACAAAAAiAAAAQwAAADMAAAAtAAAAKwAAADAAAABMAAAAmQAAAMQAAACiAAAAxQAAAOIAAAD6AAAA2QAAAKkAAAB1AAAAUAAAAEkAAABhAAAAPgAAADQAAAAcAAAAGAAAABsAAAAnAAAAUgAAADIAAAA2AAAAJwAAAC4AAABbAAAAvQAAAMEAAACwAAAAwwAAAPMAAAD+AAAA1gAAAJcAAABwAAAAWQAAAD8AAABPAAAAVAAAAC8AAAALAAAAHgAAABgAAAAmAAAAUAAAAC4AAAAuAAAAHwAAADgAAAB4AAAAtgAAALIAAACaAAAAsAAAAPIAAAD8AAAAxgAAALAAAACMAAAAVgAAAE4AAABRAAAAVwAAABsAAAAaAAAAFwAAAB4AAAAhAAAATwAAADgAAAAxAAAAJwAAACEAAABZAAAAtgAAANUAAACYAAAAwwAAAPsAAAAWAQAA0QAAAKMAAABvAAAAXAAAAE8AAABMAAAARwAAACcAAAAXAAAAFAAAACEAAAAbAAAAWQAAAC0AAAArAAAAJwAAACoAAABXAAAAnwAAAMoAAACfAAAAwAAAAAQBAAD5AAAAvQAAAJcAAABoAAAATgAAAEYAAABCAAAARwAAACoAAAAUAAAAEgAAABoAAAAfAAAASQAAAC0AAAAvAAAAJAAAAC8AAABSAAAAmgAAALQAAACRAAAAtQAAAOUAAADRAAAA\"},\"shape\":[168],\"dtype\":\"int32\",\"order\":\"little\"}],[\"ROBBERY\",{\"type\":\"ndarray\",\"array\":{\"type\":\"bytes\",\"data\":\"DAIAADQCAAAVAgAAIwEAAN8AAADMAAAAtQAAAKUAAADSAAAA3gAAAEoBAABSAQAAgAEAALgBAADQAQAA6AEAAAwCAAAOAgAABgIAAG4CAABqAgAAzAIAAKUCAABYAgAAEQIAAAUCAABDAgAAVgEAAOAAAADPAAAAvwAAAKgAAADJAAAAEwEAADkBAABaAQAAkAEAAJwBAADjAQAAAgIAADECAAAcAgAALwIAAEMCAACSAgAA5wIAAJkCAACBAgAAMQIAAEMCAAAbAgAAbwEAAPMAAADAAAAAvQAAAL4AAADZAAAA8AAAADkBAABiAQAAjQEAAKwBAACvAQAACwIAAE4CAAArAgAAbAIAAEgCAACpAgAAnwIAAJgCAACHAgAAIQIAACYCAAAqAgAALwEAANMAAADEAAAAuQAAAKoAAADhAAAA/gAAADEBAABvAQAAhAEAAKQBAADaAQAA6AEAAEECAAAqAgAADwIAACUCAAB5AgAAzAIAAJoCAABuAgAAKQIAAEECAABTAgAAhgEAAPUAAADBAAAAzQAAAMYAAADbAAAAGwEAAEcBAABMAQAAyAEAAM4BAADIAQAACwIAAEYCAAA+AgAAagIAAHYCAACgAgAA8QIAALoCAACzAgAACwIAACoCAABBAgAAaQEAAOsAAADPAAAAvAAAALwAAADTAAAAJwEAAAwBAABmAQAAmwEAAKoBAADGAQAA/QEAACYCAAAqAgAAMQIAAE0CAABiAgAAnQIAAJECAABdAgAACgIAAO8BAADmAQAAJgEAALwAAADKAAAAvAAAAKAAAADAAAAA8wAAABcBAABlAQAAewEAAKcBAAC2AQAA5gEAAOIBAAD/AQAADAIAAAICAAAmAgAAfAIAAJMCAABEAgAA\"},\"shape\":[168],\"dtype\":\"int32\",\"order\":\"little\"}],[\"STOLEN PROPERTY\",{\"type\":\"ndarray\",\"array\":{\"type\":\"bytes\",\"data\":\"cwAAAEQAAABEAAAAKwAAADEAAAAfAAAALAAAADgAAABIAAAATAAAAFoAAABbAAAAnAAAAHQAAAByAAAAfQAAAIcAAACNAAAAdgAAAGYAAABnAAAATgAAAFQAAABNAAAAbwAAAEAAAABDAAAANAAAADMAAAAoAAAAIwAAAEMAAABTAAAASAAAAF0AAABgAAAAhgAAAIEAAABzAAAAiQAAAIwAAACCAAAAgwAAAG8AAABMAAAAWgAAAGQAAABlAAAAawAAADgAAAA9AAAALwAAADYAAAAhAAAALgAAAEcAAABKAAAAWAAAAEcAAABmAAAAjAAAAH8AAAB6AAAAmAAAAJgAAACPAAAAhAAAAHUAAABnAAAAYQAAAGIAAABlAAAAYwAAAEMAAABRAAAAJwAAACUAAAAoAAAALwAAADsAAABQAAAAUQAAAGAAAABrAAAAfgAAAIEAAAB6AAAAiAAAAIgAAACaAAAAhAAAAHgAAABnAAAAYwAAAFQAAABRAAAAcgAAAFUAAAA5AAAAQwAAADEAAAAgAAAAJgAAACsAAABEAAAAUQAAAF8AAABiAAAAiwAAAI8AAACXAAAAdgAAAJcAAACMAAAAhwAAAHUAAABpAAAAYgAAAHUAAABjAAAAbgAAAEMAAAA0AAAAMwAAACgAAAAgAAAAMQAAADgAAABAAAAAVgAAAFAAAABjAAAAlAAAAHMAAACGAAAAjwAAAJYAAACHAAAAggAAAHIAAABvAAAAYAAAAGMAAABVAAAAaQAAAFUAAAA1AAAAKAAAACAAAAAiAAAAIgAAAD0AAABFAAAAPQAAAFgAAABfAAAAiAAAAGsAAAB8AAAAcQAAAIIAAAB0AAAAeQAAAF8AAABSAAAAVAAAAEUAAABcAAAA\"},\"shape\":[168],\"dtype\":\"int32\",\"order\":\"little\"}],[\"VANDALISM\",{\"type\":\"ndarray\",\"array\":{\"type\":\"bytes\",\"data\":\"VQUAAJoDAABuAwAAmAIAAMYBAACZAQAAugEAACcCAAAPAwAAugIAAPUCAADsAgAA3gMAAAEDAABeAwAA9AMAAE0EAACrBQAAYgYAAN8FAADlBQAACQYAAMwFAABhBQAATgUAAJoDAABhAwAAlwIAAO4BAACrAQAA3QEAADcCAADKAgAANQMAAHADAAApAwAA/wMAABYDAACbAwAALgQAACcEAADoBQAAxgYAACEGAADdBQAAEQYAABAGAACJBQAArgUAAKsDAACSAwAAnQIAAAsCAACwAQAA+gEAAFsCAAAoAwAABAMAAEcDAAAQAwAAPgQAABUDAACJAwAAGAQAAJIEAAApBgAAEQcAAFAGAAAXBgAA/gUAAEwGAACPBQAAsAUAAOgDAACOAwAAswIAAOIBAACvAQAAqgEAAEACAAAYAwAAEwMAABADAAAhAwAA9gMAACkDAABRAwAAEwQAAIcEAADuBQAAxgYAAEkGAAD4BQAACAYAABoGAABwBQAAAwYAAOEDAADdAwAAjQIAAAQCAADTAQAA3gEAAGICAAA+AwAAOAMAAD4DAAAqAwAAVwQAAIsDAAC7AwAAUgQAAAQFAAABBgAA2gYAAMcGAACaBgAAZQYAAHoGAADOBQAAhwUAAMQDAABkAwAArAIAAOgBAADIAQAAsQEAADkCAABTAwAA+gIAABsDAAA2AwAASQQAAEMDAAB+AwAA+QMAAIwEAAAGBgAA3gYAAAwGAAAqBgAAHgYAAE8GAAB1BQAARwUAAE4DAAAvAwAAVwIAALwBAACpAQAAxQEAAC8CAADtAgAAzQIAAPcCAAD8AgAA/wMAAAYDAABkAwAA0wMAACwEAABEBQAAcAYAAKIFAADKBQAAXwUAAJwFAAD0BAAA\"},\"shape\":[168],\"dtype\":\"int32\",\"order\":\"little\"}],[\"VEHICLE THEFT\",{\"type\":\"ndarray\",\"array\":{\"type\":\"bytes\",\"data\":\"vgMAAEkCAADEAQAAWgEAABoBAAD7AAAAcgEAAEgCAABwAwAATgMAACwDAADJAgAAPAQAAOQCAACrAwAAZgQAACEFAAB2BgAAdAcAAKoGAACcBgAAawYAAMgGAADoBQAAmQMAAHQCAAD3AQAATAEAAPwAAAAiAQAAdgEAAE8CAABKAwAASwMAAC0DAAAlAwAApgQAAPUCAAB9AwAAVwQAADcFAADgBgAAygcAAOYGAAD4BgAAuwYAAEcHAADwBQAA8gMAAG0CAADpAQAAXwEAABsBAAAqAQAAiwEAAHQCAACAAwAAbgMAAFsDAADrAgAAYAQAAEcDAAC/AwAAXwQAAP8EAAC4BgAAEQgAANsGAAAmBwAAwgYAAF4HAADdBQAA5AMAAGcCAAAhAgAASQEAABYBAAAPAQAAeQEAAKICAACJAwAAggMAAEsDAAANAwAAcAQAACQDAACMAwAAKwQAABEFAACuBgAABQgAALoGAAD/BgAApgYAAOIGAADPBQAA+wMAAJACAAAQAgAAegEAABoBAAAMAQAAoQEAAKoCAADFAwAAoAMAAL4DAABCAwAA5AQAAIcDAADMAwAAiwQAAH8FAABWBwAAbAgAAOwGAABuBwAABwcAAEIHAABxBgAA1AMAAHICAAAGAgAASgEAAAIBAAASAQAAkwEAAF8CAABdAwAAOgMAAEkDAAD4AgAApwQAAPACAADCAwAAaQQAAE4FAADFBgAA4QcAAOQGAABwBwAAwQYAAPcGAADdBQAAYgMAACcCAADSAQAAQQEAAPcAAAAIAQAAdgEAAGQCAAA/AwAAWgMAAPUCAADqAgAAQgQAAPICAABLAwAABgQAAKUEAABxBgAATQcAAFIGAAClBgAAfgYAALMGAAB7BQAA\"},\"shape\":[168],\"dtype\":\"int32\",\"order\":\"little\"}],[\"WEAPON LAWS\",{\"type\":\"ndarray\",\"array\":{\"type\":\"bytes\",\"data\":\"8wAAALIAAACUAAAAYgAAAFQAAAApAAAAOQAAAG8AAABzAAAAkwAAAJMAAAC2AAAAxAAAAMcAAADTAAAA5gAAAPwAAADtAAAABwEAAAEBAADKAAAA/QAAAPQAAADuAAAA9wAAAMMAAACnAAAAcwAAAEQAAAA0AAAAOwAAAF8AAAB9AAAAkQAAAJIAAACpAAAA6AAAAOIAAADzAAAA8gAAAOoAAAAHAQAA9wAAAP8AAADoAAAA+wAAACABAADjAAAA8wAAAK0AAACzAAAAbQAAAFIAAAAyAAAARAAAAF4AAACHAAAAjwAAAKIAAADZAAAA4QAAANsAAAD6AAAABgEAABoBAAAvAQAAAAEAAPIAAADyAAAABAEAACUBAAD9AAAA7QAAALEAAACuAAAAUQAAAE0AAABCAAAASgAAAFsAAABsAAAAlQAAAJ8AAACoAAAA2wAAAOgAAADdAAAAAAEAAPwAAAD0AAAABAEAAAIBAADiAAAA7gAAAAkBAAD7AAAAAwEAAOIAAACpAAAAiQAAAE4AAAAtAAAASwAAAG0AAAByAAAAogAAALUAAAC+AAAA4QAAAPIAAADxAAAAAgEAAAYBAAASAQAACwEAABsBAAD8AAAA9AAAAAIBAAAWAQAADAEAAMQAAACoAAAAbAAAAEgAAAAvAAAANAAAAF8AAACDAAAAnwAAAJAAAAC0AAAA3gAAAO4AAADnAAAABQEAACIBAAAOAQAA7AAAAPoAAADvAAAA9AAAADgBAAABAQAA0gAAAKYAAACgAAAAdQAAADoAAAA2AAAANAAAAFEAAABkAAAAgwAAAJsAAACmAAAAywAAAMsAAADYAAAA/wAAABYBAAD9AAAA/wAAAP4AAADXAAAA6QAAAPAAAADaAAAA\"},\"shape\":[168],\"dtype\":\"int32\",\"order\":\"little\"}]]}}}],[\"full_data\",{\"type\":\"map\",\"entries\":[[\"ASSAULT\",[1649,1496,1279,643,435,364,429,679,974,1130,1197,1345,1626,1451,1576,1692,1695,1650,1610,1474,1540,1465,1422,1397,1564,1461,1334,637,440,367,494,687,1041,1169,1343,1467,1708,1582,1551,1773,1648,1736,1750,1620,1555,1633,1506,1508,1671,1533,1408,687,468,368,474,741,1113,1178,1318,1393,1736,1575,1575,1788,1711,1710,1737,1622,1620,1642,1569,1503,1706,1561,1285,715,416,361,539,723,1068,1222,1288,1401,1751,1519,1510,1652,1729,1751,1647,1667,1559,1604,1541,1482,1767,1614,1396,688,467,389,499,766,1100,1249,1387,1553,1765,1667,1677,1872,1906,1781,1811,1719,1613,1745,1548,1504,1745,1513,1365,648,466,379,471,724,1060,1174,1331,1411,1738,1554,1586,1730,1782,1692,1658,1609,1619,1654,1601,1514,1501,1344,1247,629,417,378,457,642,907,1117,1231,1287,1581,1410,1445,1635,1606,1588,1557,1485,1446,1554,1492,1369]],[\"BURGLARY\",[892,588,704,775,765,626,479,598,827,719,748,681,1003,634,733,802,904,1243,1236,937,874,784,793,759,856,576,749,772,795,626,477,577,902,773,728,713,981,651,755,819,968,1340,1274,954,879,841,819,788,937,644,727,855,819,653,537,605,906,807,820,739,1066,670,775,882,1051,1296,1394,1024,905,904,889,813,894,594,736,835,781,626,492,623,897,769,726,731,1020,683,705,921,1023,1288,1234,981,865,873,853,802,1018,676,760,852,810,690,534,648,925,811,816,725,1087,683,799,884,1056,1386,1283,1041,966,949,956,862,965,581,718,891,787,646,485,655,917,824,793,773,959,678,711,932,1042,1315,1265,1029,948,859,892,791,832,582,662,774,788,597,464,529,818,785,758,674,926,572,665,780,870,1191,1159,907,888,821,807,782]],[\"DRUG/NARCOTIC\",[586,351,273,228,154,73,222,526,660,759,880,972,1083,1337,1506,1428,1403,1385,1209,1057,812,751,892,761,641,365,329,233,146,77,260,523,661,784,885,1002,1116,1353,1583,1432,1422,1489,1262,1108,858,763,944,780,641,346,325,207,154,96,248,571,690,867,874,1039,1169,1461,1614,1467,1508,1496,1374,1127,806,772,967,775,629,402,332,186,149,78,251,503,689,795,869,979,1073,1425,1567,1451,1487,1487,1234,1060,805,859,925,793,668,392,314,223,161,90,243,550,760,885,913,1088,1286,1526,1650,1599,1588,1543,1318,1161,865,828,975,853,540,414,289,211,161,98,249,545,704,765,891,1025,1092,1587,1544,1444,1562,1428,1367,1079,879,785,894,789,607,341,298,202,134,89,224,510,652,729,820,961,1022,1298,1445,1370,1383,1411,1190,986,728,645,831,724]],[\"LARCENY/THEFT\",[4191,2486,1561,1137,772,791,1103,1642,2794,3321,4203,4894,6097,5232,5372,5532,5793,6579,7545,7170,6210,5287,4795,4293,4400,2393,1655,1128,814,791,1140,1610,2831,3344,4470,5002,6159,5291,5290,5703,5866,6698,7884,7303,6472,5253,4917,4294,4382,2496,1701,1185,808,824,1201,1694,2941,3486,4499,5094,6363,5513,5478,5909,6050,7060,8229,7543,6822,5517,5115,4354,4322,2415,1547,1116,832,760,1116,1715,2846,3354,4353,4904,6369,5300,5277,5628,5902,6689,7815,7396,6344,5263,4997,4355,4534,2588,1799,1243,835,838,1188,1810,3016,3646,4698,5406,6713,5652,5763,6039,6268,7243,8451,7900,6912,5535,5319,4849,4420,2448,1685,1146,856,798,1181,1689,2735,3515,4551,5174,6334,5522,5462,5658,5901,6980,8018,7494,6605,5313,5035,4453,4026,2372,1569,1089,765,749,1039,1544,2620,3100,4088,4825,5807,4901,5163,5388,5497,6210,7360,6844,5991,5085,4642,4145]],[\"PROSTITUTION\",[208,152,116,76,56,79,77,32,19,21,22,17,57,52,40,41,44,85,165,213,151,194,227,218,231,152,133,82,66,101,79,38,28,23,32,34,67,51,45,43,48,76,153,196,162,197,226,250,217,169,117,80,73,97,62,52,28,24,27,39,82,50,54,39,46,91,189,193,176,195,243,254,214,151,112,89,63,79,84,47,11,30,24,38,80,46,46,31,56,120,182,178,154,176,242,252,198,176,140,86,78,81,87,27,26,23,30,33,79,56,49,39,33,89,182,213,152,195,251,278,209,163,111,92,79,76,71,39,23,20,33,27,89,45,43,39,42,87,159,202,159,192,260,249,189,151,104,78,70,66,71,42,20,18,26,31,73,45,47,36,47,82,154,180,145,181,229,209]],[\"ROBBERY\",[524,564,533,291,223,204,181,165,210,222,330,338,384,440,464,488,524,526,518,622,618,716,677,600,529,517,579,342,224,207,191,168,201,275,313,346,400,412,483,514,561,540,559,579,658,743,665,641,561,579,539,367,243,192,189,190,217,240,313,354,397,428,431,523,590,555,620,584,681,671,664,647,545,550,554,303,211,196,185,170,225,254,305,367,388,420,474,488,577,554,527,549,633,716,666,622,553,577,595,390,245,193,205,198,219,283,327,332,456,462,456,523,582,574,618,630,672,753,698,691,523,554,577,361,235,207,188,188,211,295,268,358,411,426,454,509,550,554,561,589,610,669,657,605,522,495,486,294,188,202,188,160,192,243,279,357,379,423,438,486,482,511,524,514,550,636,659,580]],[\"STOLEN PROPERTY\",[115,68,68,43,49,31,44,56,72,76,90,91,156,116,114,125,135,141,118,102,103,78,84,77,111,64,67,52,51,40,35,67,83,72,93,96,134,129,115,137,140,130,131,111,76,90,100,101,107,56,61,47,54,33,46,71,74,88,71,102,140,127,122,152,152,143,132,117,103,97,98,101,99,67,81,39,37,40,47,59,80,81,96,107,126,129,122,136,136,154,132,120,103,99,84,81,114,85,57,67,49,32,38,43,68,81,95,98,139,143,151,118,151,140,135,117,105,98,117,99,110,67,52,51,40,32,49,56,64,86,80,99,148,115,134,143,150,135,130,114,111,96,99,85,105,85,53,40,32,34,34,61,69,61,88,95,136,107,124,113,130,116,121,95,82,84,69,92]],[\"VANDALISM\",[1365,922,878,664,454,409,442,551,783,698,757,748,990,769,862,1012,1101,1451,1634,1503,1509,1545,1484,1377,1358,922,865,663,494,427,477,567,714,821,880,809,1023,790,923,1070,1063,1512,1734,1569,1501,1553,1552,1417,1454,939,914,669,523,432,506,603,808,772,839,784,1086,789,905,1048,1170,1577,1809,1616,1559,1534,1612,1423,1456,1000,910,691,482,431,426,576,792,787,784,801,1014,809,849,1043,1159,1518,1734,1609,1528,1544,1562,1392,1539,993,989,653,516,467,478,610,830,824,830,810,1111,907,955,1106,1284,1537,1754,1735,1690,1637,1658,1486,1415,964,868,684,488,456,433,569,851,762,795,822,1097,835,894,1017,1164,1542,1758,1548,1578,1566,1615,1397,1351,846,815,599,444,425,453,559,749,717,759,764,1023,774,868,979,1068,1348,1648,1442,1482,1375,1436,1268]],[\"VEHICLE THEFT\",[958,585,452,346,282,251,370,584,880,846,812,713,1084,740,939,1126,1313,1654,1908,1706,1692,1643,1736,1512,921,628,503,332,252,290,374,591,842,843,813,805,1190,757,893,1111,1335,1760,1994,1766,1784,1723,1863,1520,1010,621,489,351,283,298,395,628,896,878,859,747,1120,839,959,1119,1279,1720,2065,1755,1830,1730,1886,1501,996,615,545,329,278,271,377,674,905,898,843,781,1136,804,908,1067,1297,1710,2053,1722,1791,1702,1762,1487,1019,656,528,378,282,268,417,682,965,928,958,834,1252,903,972,1163,1407,1878,2156,1772,1902,1799,1858,1649,980,626,518,330,258,274,403,607,861,826,841,760,1191,752,962,1129,1358,1733,2017,1764,1904,1729,1783,1501,866,551,466,321,247,264,374,612,831,858,757,746,1090,754,843,1030,1189,1649,1869,1618,1701,1662,1715,1403]],[\"WEAPON LAWS\",[243,178,148,98,84,41,57,111,115,147,147,182,196,199,211,230,252,237,263,257,202,253,244,238,247,195,167,115,68,52,59,95,125,145,146,169,232,226,243,242,234,263,247,255,232,251,288,227,243,173,179,109,82,50,68,94,135,143,162,217,225,219,250,262,282,303,256,242,242,260,293,253,237,177,174,81,77,66,74,91,108,149,159,168,219,232,221,256,252,244,260,258,226,238,265,251,259,226,169,137,78,45,75,109,114,162,181,190,225,242,241,258,262,274,267,283,252,244,258,278,268,196,168,108,72,47,52,95,131,159,144,180,222,238,231,261,290,270,236,250,239,244,312,257,210,166,160,117,58,54,52,81,100,131,155,166,203,203,216,255,278,253,255,254,215,233,240,218]]]}]]},\"code\":\"\\n    const selected = cb_obj.value;\\n    source.data['y'] = full_data[selected];\\n    source.change.emit();\\n\"}}]]]},\"title\":\"Compare to:\",\"options\":[\"WEAPON LAWS\",\"PROSTITUTION\",\"ROBBERY\",\"BURGLARY\",\"ASSAULT\",\"LARCENY/THEFT\",\"VANDALISM\",\"VEHICLE THEFT\",\"STOLEN PROPERTY\"],\"value\":\"ASSAULT\"}},{\"type\":\"object\",\"name\":\"Figure\",\"id\":\"p1677\",\"attributes\":{\"height\":400,\"x_range\":{\"type\":\"object\",\"name\":\"DataRange1d\",\"id\":\"p1678\"},\"y_range\":{\"type\":\"object\",\"name\":\"DataRange1d\",\"id\":\"p1679\"},\"x_scale\":{\"type\":\"object\",\"name\":\"LinearScale\",\"id\":\"p1687\"},\"y_scale\":{\"type\":\"object\",\"name\":\"LinearScale\",\"id\":\"p1688\"},\"title\":{\"type\":\"object\",\"name\":\"Title\",\"id\":\"p1680\",\"attributes\":{\"text\":\"Compare with DRUG/NARCOTIC\"}},\"renderers\":[{\"type\":\"object\",\"name\":\"GlyphRenderer\",\"id\":\"p1718\",\"attributes\":{\"data_source\":{\"id\":\"p1674\"},\"view\":{\"type\":\"object\",\"name\":\"CDSView\",\"id\":\"p1719\",\"attributes\":{\"filter\":{\"type\":\"object\",\"name\":\"AllIndices\",\"id\":\"p1720\"}}},\"glyph\":{\"type\":\"object\",\"name\":\"Scatter\",\"id\":\"p1715\",\"attributes\":{\"x\":{\"type\":\"field\",\"field\":\"DRUG/NARCOTIC\"},\"y\":{\"type\":\"field\",\"field\":\"ASSAULT\"},\"size\":{\"type\":\"value\",\"value\":10},\"line_color\":{\"type\":\"value\",\"value\":\"#1f77b4\"},\"fill_color\":{\"type\":\"value\",\"value\":\"#1f77b4\"}}},\"nonselection_glyph\":{\"type\":\"object\",\"name\":\"Scatter\",\"id\":\"p1716\",\"attributes\":{\"x\":{\"type\":\"field\",\"field\":\"DRUG/NARCOTIC\"},\"y\":{\"type\":\"field\",\"field\":\"ASSAULT\"},\"size\":{\"type\":\"value\",\"value\":10},\"line_color\":{\"type\":\"value\",\"value\":\"#1f77b4\"},\"line_alpha\":{\"type\":\"value\",\"value\":0.1},\"fill_color\":{\"type\":\"value\",\"value\":\"#1f77b4\"},\"fill_alpha\":{\"type\":\"value\",\"value\":0.1},\"hatch_alpha\":{\"type\":\"value\",\"value\":0.1}}},\"muted_glyph\":{\"type\":\"object\",\"name\":\"Scatter\",\"id\":\"p1717\",\"attributes\":{\"x\":{\"type\":\"field\",\"field\":\"DRUG/NARCOTIC\"},\"y\":{\"type\":\"field\",\"field\":\"ASSAULT\"},\"size\":{\"type\":\"value\",\"value\":10},\"line_color\":{\"type\":\"value\",\"value\":\"#1f77b4\"},\"line_alpha\":{\"type\":\"value\",\"value\":0.2},\"fill_color\":{\"type\":\"value\",\"value\":\"#1f77b4\"},\"fill_alpha\":{\"type\":\"value\",\"value\":0.2},\"hatch_alpha\":{\"type\":\"value\",\"value\":0.2}}}}}],\"toolbar\":{\"type\":\"object\",\"name\":\"Toolbar\",\"id\":\"p1686\",\"attributes\":{\"tools\":[{\"type\":\"object\",\"name\":\"PanTool\",\"id\":\"p1699\"},{\"type\":\"object\",\"name\":\"WheelZoomTool\",\"id\":\"p1700\",\"attributes\":{\"renderers\":\"auto\"}},{\"type\":\"object\",\"name\":\"BoxZoomTool\",\"id\":\"p1701\",\"attributes\":{\"overlay\":{\"type\":\"object\",\"name\":\"BoxAnnotation\",\"id\":\"p1702\",\"attributes\":{\"syncable\":false,\"line_color\":\"black\",\"line_alpha\":1.0,\"line_width\":2,\"line_dash\":[4,4],\"fill_color\":\"lightgrey\",\"fill_alpha\":0.5,\"level\":\"overlay\",\"visible\":false,\"left\":{\"type\":\"number\",\"value\":\"nan\"},\"right\":{\"type\":\"number\",\"value\":\"nan\"},\"top\":{\"type\":\"number\",\"value\":\"nan\"},\"bottom\":{\"type\":\"number\",\"value\":\"nan\"},\"left_units\":\"canvas\",\"right_units\":\"canvas\",\"top_units\":\"canvas\",\"bottom_units\":\"canvas\",\"handles\":{\"type\":\"object\",\"name\":\"BoxInteractionHandles\",\"id\":\"p1708\",\"attributes\":{\"all\":{\"type\":\"object\",\"name\":\"AreaVisuals\",\"id\":\"p1707\",\"attributes\":{\"fill_color\":\"white\",\"hover_fill_color\":\"lightgray\"}}}}}}}},{\"type\":\"object\",\"name\":\"SaveTool\",\"id\":\"p1709\"},{\"type\":\"object\",\"name\":\"ResetTool\",\"id\":\"p1710\"},{\"type\":\"object\",\"name\":\"HelpTool\",\"id\":\"p1711\"}]}},\"left\":[{\"type\":\"object\",\"name\":\"LinearAxis\",\"id\":\"p1694\",\"attributes\":{\"ticker\":{\"type\":\"object\",\"name\":\"BasicTicker\",\"id\":\"p1695\",\"attributes\":{\"mantissas\":[1,2,5]}},\"formatter\":{\"type\":\"object\",\"name\":\"BasicTickFormatter\",\"id\":\"p1696\"},\"axis_label\":\"selected other crime\",\"major_label_policy\":{\"type\":\"object\",\"name\":\"AllLabels\",\"id\":\"p1697\"}}}],\"below\":[{\"type\":\"object\",\"name\":\"LinearAxis\",\"id\":\"p1689\",\"attributes\":{\"ticker\":{\"type\":\"object\",\"name\":\"BasicTicker\",\"id\":\"p1690\",\"attributes\":{\"mantissas\":[1,2,5]}},\"formatter\":{\"type\":\"object\",\"name\":\"BasicTickFormatter\",\"id\":\"p1691\"},\"axis_label\":\"DRUG/NARCOTIC\",\"major_label_policy\":{\"type\":\"object\",\"name\":\"AllLabels\",\"id\":\"p1692\"}}}],\"center\":[{\"type\":\"object\",\"name\":\"Grid\",\"id\":\"p1693\",\"attributes\":{\"axis\":{\"id\":\"p1689\"}}},{\"type\":\"object\",\"name\":\"Grid\",\"id\":\"p1698\",\"attributes\":{\"dimension\":1,\"axis\":{\"id\":\"p1694\"}}}]}}]}}]}};\n  const render_items = [{\"docid\":\"41a2e9a5-8010-4215-b897-0ed499ef9838\",\"roots\":{\"p1723\":\"f0b0569c-ff91-4f96-8f21-3901a29ee172\"},\"root_ids\":[\"p1723\"]}];\n  void root.Bokeh.embed.embed_items_notebook(docs_json, render_items);\n  }\n  if (root.Bokeh !== undefined) {\n    embed_document(root);\n  } else {\n    let attempts = 0;\n    const timer = setInterval(function(root) {\n      if (root.Bokeh !== undefined) {\n        clearInterval(timer);\n        embed_document(root);\n      } else {\n        attempts++;\n        if (attempts > 100) {\n          clearInterval(timer);\n          console.log(\"Bokeh: ERROR: Unable to run BokehJS code because BokehJS library is missing\");\n        }\n      }\n    }, 10, root)\n  }\n})(window);",
      "application/vnd.bokehjs_exec.v0+json": ""
     },
     "metadata": {
      "application/vnd.bokehjs_exec.v0+json": {
       "id": "p1723"
      }
     },
     "output_type": "display_data"
    }
   ],
   "source": [
    "# Initial source data\n",
    "source = ColumnDataSource(hour_counts)\n",
    "full_data = hour_counts.to_dict(orient='list')\n",
    "# Plot\n",
    "p = figure(height=400, width=600, title=\"Compare with DRUG/NARCOTIC\")\n",
    "p.scatter('DRUG/NARCOTIC', 'ASSAULT', size=10, source=source)\n",
    "p.xaxis.axis_label = 'DRUG/NARCOTIC'\n",
    "p.yaxis.axis_label = 'selected other crime'\n",
    "\n",
    "\n",
    "# Dropdown selector\n",
    "select = Select(title=\"Compare to:\", value=\"ASSAULT\", options=other_crimes)\n",
    "\n",
    "# JavaScript callback to update plot\n",
    "select.js_on_change('value', CustomJS(args=dict(source=source, full_data=full_data), code=\"\"\"\n",
    "    const selected = cb_obj.value;\n",
    "    source.data['y'] = full_data[selected];\n",
    "    source.change.emit();\n",
    "\"\"\"))\n",
    "\n",
    "layout = column(select, p)\n",
    "output_file(\"interactive_crime_compare.html\")\n",
    "show(layout)"
   ]
  }
 ],
 "metadata": {
  "kernelspec": {
   "display_name": "Python 3",
   "language": "python",
   "name": "python3"
  },
  "language_info": {
   "codemirror_mode": {
    "name": "ipython",
    "version": 3
   },
   "file_extension": ".py",
   "mimetype": "text/x-python",
   "name": "python",
   "nbconvert_exporter": "python",
   "pygments_lexer": "ipython3",
   "version": "3.12.8"
  }
 },
 "nbformat": 4,
 "nbformat_minor": 5
}
